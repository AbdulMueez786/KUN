{
  "nbformat": 4,
  "nbformat_minor": 0,
  "metadata": {
    "colab": {
      "name": "Model2_Wav2Vec2.ipynb",
      "provenance": [],
      "collapsed_sections": []
    },
    "kernelspec": {
      "name": "python3",
      "display_name": "Python 3"
    },
    "language_info": {
      "name": "python"
    },
    "widgets": {
      "application/vnd.jupyter.widget-state+json": {
        "1baea0a338634828b0c7ba5d9c8ee774": {
          "model_module": "@jupyter-widgets/controls",
          "model_name": "HBoxModel",
          "state": {
            "_view_name": "HBoxView",
            "_dom_classes": [],
            "_model_name": "HBoxModel",
            "_view_module": "@jupyter-widgets/controls",
            "_model_module_version": "1.5.0",
            "_view_count": null,
            "_view_module_version": "1.5.0",
            "box_style": "",
            "layout": "IPY_MODEL_ef1204b567d34f5fa77348df12bb0984",
            "_model_module": "@jupyter-widgets/controls",
            "children": [
              "IPY_MODEL_7b39e2fc1d2f418082618ced77a7a109",
              "IPY_MODEL_b3eb629d2bc14b4380f7c3e23b0dc260"
            ]
          }
        },
        "ef1204b567d34f5fa77348df12bb0984": {
          "model_module": "@jupyter-widgets/base",
          "model_name": "LayoutModel",
          "state": {
            "_view_name": "LayoutView",
            "grid_template_rows": null,
            "right": null,
            "justify_content": null,
            "_view_module": "@jupyter-widgets/base",
            "overflow": null,
            "_model_module_version": "1.2.0",
            "_view_count": null,
            "flex_flow": null,
            "width": null,
            "min_width": null,
            "border": null,
            "align_items": null,
            "bottom": null,
            "_model_module": "@jupyter-widgets/base",
            "top": null,
            "grid_column": null,
            "overflow_y": null,
            "overflow_x": null,
            "grid_auto_flow": null,
            "grid_area": null,
            "grid_template_columns": null,
            "flex": null,
            "_model_name": "LayoutModel",
            "justify_items": null,
            "grid_row": null,
            "max_height": null,
            "align_content": null,
            "visibility": null,
            "align_self": null,
            "height": null,
            "min_height": null,
            "padding": null,
            "grid_auto_rows": null,
            "grid_gap": null,
            "max_width": null,
            "order": null,
            "_view_module_version": "1.2.0",
            "grid_template_areas": null,
            "object_position": null,
            "object_fit": null,
            "grid_auto_columns": null,
            "margin": null,
            "display": null,
            "left": null
          }
        },
        "7b39e2fc1d2f418082618ced77a7a109": {
          "model_module": "@jupyter-widgets/controls",
          "model_name": "FloatProgressModel",
          "state": {
            "_view_name": "ProgressView",
            "style": "IPY_MODEL_ff5ff1a4fbb84624aa9e9e7b3d38ab3b",
            "_dom_classes": [],
            "description": "",
            "_model_name": "FloatProgressModel",
            "bar_style": "info",
            "max": 1,
            "_view_module": "@jupyter-widgets/controls",
            "_model_module_version": "1.5.0",
            "value": 1,
            "_view_count": null,
            "_view_module_version": "1.5.0",
            "orientation": "horizontal",
            "min": 0,
            "description_tooltip": null,
            "_model_module": "@jupyter-widgets/controls",
            "layout": "IPY_MODEL_d2dcd53a62a44f4ca1f7162b8fab973f"
          }
        },
        "b3eb629d2bc14b4380f7c3e23b0dc260": {
          "model_module": "@jupyter-widgets/controls",
          "model_name": "HTMLModel",
          "state": {
            "_view_name": "HTMLView",
            "style": "IPY_MODEL_fce8730eac2945d6a2082eb49c701acf",
            "_dom_classes": [],
            "description": "",
            "_model_name": "HTMLModel",
            "placeholder": "​",
            "_view_module": "@jupyter-widgets/controls",
            "_model_module_version": "1.5.0",
            "value": " 1/? [00:00&lt;00:00, 14.27 tables/s]",
            "_view_count": null,
            "_view_module_version": "1.5.0",
            "description_tooltip": null,
            "_model_module": "@jupyter-widgets/controls",
            "layout": "IPY_MODEL_a9951752dce4497d9a7ad546b02ffafc"
          }
        },
        "ff5ff1a4fbb84624aa9e9e7b3d38ab3b": {
          "model_module": "@jupyter-widgets/controls",
          "model_name": "ProgressStyleModel",
          "state": {
            "_view_name": "StyleView",
            "_model_name": "ProgressStyleModel",
            "description_width": "initial",
            "_view_module": "@jupyter-widgets/base",
            "_model_module_version": "1.5.0",
            "_view_count": null,
            "_view_module_version": "1.2.0",
            "bar_color": null,
            "_model_module": "@jupyter-widgets/controls"
          }
        },
        "d2dcd53a62a44f4ca1f7162b8fab973f": {
          "model_module": "@jupyter-widgets/base",
          "model_name": "LayoutModel",
          "state": {
            "_view_name": "LayoutView",
            "grid_template_rows": null,
            "right": null,
            "justify_content": null,
            "_view_module": "@jupyter-widgets/base",
            "overflow": null,
            "_model_module_version": "1.2.0",
            "_view_count": null,
            "flex_flow": null,
            "width": null,
            "min_width": null,
            "border": null,
            "align_items": null,
            "bottom": null,
            "_model_module": "@jupyter-widgets/base",
            "top": null,
            "grid_column": null,
            "overflow_y": null,
            "overflow_x": null,
            "grid_auto_flow": null,
            "grid_area": null,
            "grid_template_columns": null,
            "flex": null,
            "_model_name": "LayoutModel",
            "justify_items": null,
            "grid_row": null,
            "max_height": null,
            "align_content": null,
            "visibility": null,
            "align_self": null,
            "height": null,
            "min_height": null,
            "padding": null,
            "grid_auto_rows": null,
            "grid_gap": null,
            "max_width": null,
            "order": null,
            "_view_module_version": "1.2.0",
            "grid_template_areas": null,
            "object_position": null,
            "object_fit": null,
            "grid_auto_columns": null,
            "margin": null,
            "display": null,
            "left": null
          }
        },
        "fce8730eac2945d6a2082eb49c701acf": {
          "model_module": "@jupyter-widgets/controls",
          "model_name": "DescriptionStyleModel",
          "state": {
            "_view_name": "StyleView",
            "_model_name": "DescriptionStyleModel",
            "description_width": "",
            "_view_module": "@jupyter-widgets/base",
            "_model_module_version": "1.5.0",
            "_view_count": null,
            "_view_module_version": "1.2.0",
            "_model_module": "@jupyter-widgets/controls"
          }
        },
        "a9951752dce4497d9a7ad546b02ffafc": {
          "model_module": "@jupyter-widgets/base",
          "model_name": "LayoutModel",
          "state": {
            "_view_name": "LayoutView",
            "grid_template_rows": null,
            "right": null,
            "justify_content": null,
            "_view_module": "@jupyter-widgets/base",
            "overflow": null,
            "_model_module_version": "1.2.0",
            "_view_count": null,
            "flex_flow": null,
            "width": null,
            "min_width": null,
            "border": null,
            "align_items": null,
            "bottom": null,
            "_model_module": "@jupyter-widgets/base",
            "top": null,
            "grid_column": null,
            "overflow_y": null,
            "overflow_x": null,
            "grid_auto_flow": null,
            "grid_area": null,
            "grid_template_columns": null,
            "flex": null,
            "_model_name": "LayoutModel",
            "justify_items": null,
            "grid_row": null,
            "max_height": null,
            "align_content": null,
            "visibility": null,
            "align_self": null,
            "height": null,
            "min_height": null,
            "padding": null,
            "grid_auto_rows": null,
            "grid_gap": null,
            "max_width": null,
            "order": null,
            "_view_module_version": "1.2.0",
            "grid_template_areas": null,
            "object_position": null,
            "object_fit": null,
            "grid_auto_columns": null,
            "margin": null,
            "display": null,
            "left": null
          }
        },
        "d299786c70ed44c68a9563ee1fc8554c": {
          "model_module": "@jupyter-widgets/controls",
          "model_name": "HBoxModel",
          "state": {
            "_view_name": "HBoxView",
            "_dom_classes": [],
            "_model_name": "HBoxModel",
            "_view_module": "@jupyter-widgets/controls",
            "_model_module_version": "1.5.0",
            "_view_count": null,
            "_view_module_version": "1.5.0",
            "box_style": "",
            "layout": "IPY_MODEL_e7acff1190c54cb9b8b0f006ce901ff8",
            "_model_module": "@jupyter-widgets/controls",
            "children": [
              "IPY_MODEL_cbf6317309da49079c52d3b375119f73",
              "IPY_MODEL_a35cad3afe1a40d89fa522532a7fdd90"
            ]
          }
        },
        "e7acff1190c54cb9b8b0f006ce901ff8": {
          "model_module": "@jupyter-widgets/base",
          "model_name": "LayoutModel",
          "state": {
            "_view_name": "LayoutView",
            "grid_template_rows": null,
            "right": null,
            "justify_content": null,
            "_view_module": "@jupyter-widgets/base",
            "overflow": null,
            "_model_module_version": "1.2.0",
            "_view_count": null,
            "flex_flow": null,
            "width": null,
            "min_width": null,
            "border": null,
            "align_items": null,
            "bottom": null,
            "_model_module": "@jupyter-widgets/base",
            "top": null,
            "grid_column": null,
            "overflow_y": null,
            "overflow_x": null,
            "grid_auto_flow": null,
            "grid_area": null,
            "grid_template_columns": null,
            "flex": null,
            "_model_name": "LayoutModel",
            "justify_items": null,
            "grid_row": null,
            "max_height": null,
            "align_content": null,
            "visibility": null,
            "align_self": null,
            "height": null,
            "min_height": null,
            "padding": null,
            "grid_auto_rows": null,
            "grid_gap": null,
            "max_width": null,
            "order": null,
            "_view_module_version": "1.2.0",
            "grid_template_areas": null,
            "object_position": null,
            "object_fit": null,
            "grid_auto_columns": null,
            "margin": null,
            "display": null,
            "left": null
          }
        },
        "cbf6317309da49079c52d3b375119f73": {
          "model_module": "@jupyter-widgets/controls",
          "model_name": "FloatProgressModel",
          "state": {
            "_view_name": "ProgressView",
            "style": "IPY_MODEL_71505d24054548cabe5800be0dc57ab8",
            "_dom_classes": [],
            "description": "",
            "_model_name": "FloatProgressModel",
            "bar_style": "info",
            "max": 1,
            "_view_module": "@jupyter-widgets/controls",
            "_model_module_version": "1.5.0",
            "value": 1,
            "_view_count": null,
            "_view_module_version": "1.5.0",
            "orientation": "horizontal",
            "min": 0,
            "description_tooltip": null,
            "_model_module": "@jupyter-widgets/controls",
            "layout": "IPY_MODEL_ea4aa0f5a281428b813b3640679fc4ca"
          }
        },
        "a35cad3afe1a40d89fa522532a7fdd90": {
          "model_module": "@jupyter-widgets/controls",
          "model_name": "HTMLModel",
          "state": {
            "_view_name": "HTMLView",
            "style": "IPY_MODEL_47bedd2435b648b0a816e89f3d795d2b",
            "_dom_classes": [],
            "description": "",
            "_model_name": "HTMLModel",
            "placeholder": "​",
            "_view_module": "@jupyter-widgets/controls",
            "_model_module_version": "1.5.0",
            "value": " 1/? [00:00&lt;00:00, 14.26 tables/s]",
            "_view_count": null,
            "_view_module_version": "1.5.0",
            "description_tooltip": null,
            "_model_module": "@jupyter-widgets/controls",
            "layout": "IPY_MODEL_4ca2a513245547acbc5cb3c1871099a8"
          }
        },
        "71505d24054548cabe5800be0dc57ab8": {
          "model_module": "@jupyter-widgets/controls",
          "model_name": "ProgressStyleModel",
          "state": {
            "_view_name": "StyleView",
            "_model_name": "ProgressStyleModel",
            "description_width": "initial",
            "_view_module": "@jupyter-widgets/base",
            "_model_module_version": "1.5.0",
            "_view_count": null,
            "_view_module_version": "1.2.0",
            "bar_color": null,
            "_model_module": "@jupyter-widgets/controls"
          }
        },
        "ea4aa0f5a281428b813b3640679fc4ca": {
          "model_module": "@jupyter-widgets/base",
          "model_name": "LayoutModel",
          "state": {
            "_view_name": "LayoutView",
            "grid_template_rows": null,
            "right": null,
            "justify_content": null,
            "_view_module": "@jupyter-widgets/base",
            "overflow": null,
            "_model_module_version": "1.2.0",
            "_view_count": null,
            "flex_flow": null,
            "width": null,
            "min_width": null,
            "border": null,
            "align_items": null,
            "bottom": null,
            "_model_module": "@jupyter-widgets/base",
            "top": null,
            "grid_column": null,
            "overflow_y": null,
            "overflow_x": null,
            "grid_auto_flow": null,
            "grid_area": null,
            "grid_template_columns": null,
            "flex": null,
            "_model_name": "LayoutModel",
            "justify_items": null,
            "grid_row": null,
            "max_height": null,
            "align_content": null,
            "visibility": null,
            "align_self": null,
            "height": null,
            "min_height": null,
            "padding": null,
            "grid_auto_rows": null,
            "grid_gap": null,
            "max_width": null,
            "order": null,
            "_view_module_version": "1.2.0",
            "grid_template_areas": null,
            "object_position": null,
            "object_fit": null,
            "grid_auto_columns": null,
            "margin": null,
            "display": null,
            "left": null
          }
        },
        "47bedd2435b648b0a816e89f3d795d2b": {
          "model_module": "@jupyter-widgets/controls",
          "model_name": "DescriptionStyleModel",
          "state": {
            "_view_name": "StyleView",
            "_model_name": "DescriptionStyleModel",
            "description_width": "",
            "_view_module": "@jupyter-widgets/base",
            "_model_module_version": "1.5.0",
            "_view_count": null,
            "_view_module_version": "1.2.0",
            "_model_module": "@jupyter-widgets/controls"
          }
        },
        "4ca2a513245547acbc5cb3c1871099a8": {
          "model_module": "@jupyter-widgets/base",
          "model_name": "LayoutModel",
          "state": {
            "_view_name": "LayoutView",
            "grid_template_rows": null,
            "right": null,
            "justify_content": null,
            "_view_module": "@jupyter-widgets/base",
            "overflow": null,
            "_model_module_version": "1.2.0",
            "_view_count": null,
            "flex_flow": null,
            "width": null,
            "min_width": null,
            "border": null,
            "align_items": null,
            "bottom": null,
            "_model_module": "@jupyter-widgets/base",
            "top": null,
            "grid_column": null,
            "overflow_y": null,
            "overflow_x": null,
            "grid_auto_flow": null,
            "grid_area": null,
            "grid_template_columns": null,
            "flex": null,
            "_model_name": "LayoutModel",
            "justify_items": null,
            "grid_row": null,
            "max_height": null,
            "align_content": null,
            "visibility": null,
            "align_self": null,
            "height": null,
            "min_height": null,
            "padding": null,
            "grid_auto_rows": null,
            "grid_gap": null,
            "max_width": null,
            "order": null,
            "_view_module_version": "1.2.0",
            "grid_template_areas": null,
            "object_position": null,
            "object_fit": null,
            "grid_auto_columns": null,
            "margin": null,
            "display": null,
            "left": null
          }
        },
        "a5bb2f6d033a4c69a9d6c2ff0fe421e8": {
          "model_module": "@jupyter-widgets/controls",
          "model_name": "HBoxModel",
          "state": {
            "_view_name": "HBoxView",
            "_dom_classes": [],
            "_model_name": "HBoxModel",
            "_view_module": "@jupyter-widgets/controls",
            "_model_module_version": "1.5.0",
            "_view_count": null,
            "_view_module_version": "1.5.0",
            "box_style": "",
            "layout": "IPY_MODEL_817b15544ced4877a17d5d6cde474800",
            "_model_module": "@jupyter-widgets/controls",
            "children": [
              "IPY_MODEL_97b1894574e54409ad5c9eb681715b52",
              "IPY_MODEL_8388a94504f74772982fea53d4a23b1d"
            ]
          }
        },
        "817b15544ced4877a17d5d6cde474800": {
          "model_module": "@jupyter-widgets/base",
          "model_name": "LayoutModel",
          "state": {
            "_view_name": "LayoutView",
            "grid_template_rows": null,
            "right": null,
            "justify_content": null,
            "_view_module": "@jupyter-widgets/base",
            "overflow": null,
            "_model_module_version": "1.2.0",
            "_view_count": null,
            "flex_flow": null,
            "width": null,
            "min_width": null,
            "border": null,
            "align_items": null,
            "bottom": null,
            "_model_module": "@jupyter-widgets/base",
            "top": null,
            "grid_column": null,
            "overflow_y": null,
            "overflow_x": null,
            "grid_auto_flow": null,
            "grid_area": null,
            "grid_template_columns": null,
            "flex": null,
            "_model_name": "LayoutModel",
            "justify_items": null,
            "grid_row": null,
            "max_height": null,
            "align_content": null,
            "visibility": null,
            "align_self": null,
            "height": null,
            "min_height": null,
            "padding": null,
            "grid_auto_rows": null,
            "grid_gap": null,
            "max_width": null,
            "order": null,
            "_view_module_version": "1.2.0",
            "grid_template_areas": null,
            "object_position": null,
            "object_fit": null,
            "grid_auto_columns": null,
            "margin": null,
            "display": null,
            "left": null
          }
        },
        "97b1894574e54409ad5c9eb681715b52": {
          "model_module": "@jupyter-widgets/controls",
          "model_name": "FloatProgressModel",
          "state": {
            "_view_name": "ProgressView",
            "style": "IPY_MODEL_9c8ea61b88764038b9c480ff0957a0ae",
            "_dom_classes": [],
            "description": "100%",
            "_model_name": "FloatProgressModel",
            "bar_style": "success",
            "max": 2420,
            "_view_module": "@jupyter-widgets/controls",
            "_model_module_version": "1.5.0",
            "value": 2420,
            "_view_count": null,
            "_view_module_version": "1.5.0",
            "orientation": "horizontal",
            "min": 0,
            "description_tooltip": null,
            "_model_module": "@jupyter-widgets/controls",
            "layout": "IPY_MODEL_4e23170a3aa5449893aceac9cbfd0269"
          }
        },
        "8388a94504f74772982fea53d4a23b1d": {
          "model_module": "@jupyter-widgets/controls",
          "model_name": "HTMLModel",
          "state": {
            "_view_name": "HTMLView",
            "style": "IPY_MODEL_0cbc438bfae64e87bd17a606b1eb75c8",
            "_dom_classes": [],
            "description": "",
            "_model_name": "HTMLModel",
            "placeholder": "​",
            "_view_module": "@jupyter-widgets/controls",
            "_model_module_version": "1.5.0",
            "value": " 2420/2420 [00:56&lt;00:00, 42.99ex/s]",
            "_view_count": null,
            "_view_module_version": "1.5.0",
            "description_tooltip": null,
            "_model_module": "@jupyter-widgets/controls",
            "layout": "IPY_MODEL_442589e9d44f4d8a8a2a8b03ff56bdca"
          }
        },
        "9c8ea61b88764038b9c480ff0957a0ae": {
          "model_module": "@jupyter-widgets/controls",
          "model_name": "ProgressStyleModel",
          "state": {
            "_view_name": "StyleView",
            "_model_name": "ProgressStyleModel",
            "description_width": "initial",
            "_view_module": "@jupyter-widgets/base",
            "_model_module_version": "1.5.0",
            "_view_count": null,
            "_view_module_version": "1.2.0",
            "bar_color": null,
            "_model_module": "@jupyter-widgets/controls"
          }
        },
        "4e23170a3aa5449893aceac9cbfd0269": {
          "model_module": "@jupyter-widgets/base",
          "model_name": "LayoutModel",
          "state": {
            "_view_name": "LayoutView",
            "grid_template_rows": null,
            "right": null,
            "justify_content": null,
            "_view_module": "@jupyter-widgets/base",
            "overflow": null,
            "_model_module_version": "1.2.0",
            "_view_count": null,
            "flex_flow": null,
            "width": null,
            "min_width": null,
            "border": null,
            "align_items": null,
            "bottom": null,
            "_model_module": "@jupyter-widgets/base",
            "top": null,
            "grid_column": null,
            "overflow_y": null,
            "overflow_x": null,
            "grid_auto_flow": null,
            "grid_area": null,
            "grid_template_columns": null,
            "flex": null,
            "_model_name": "LayoutModel",
            "justify_items": null,
            "grid_row": null,
            "max_height": null,
            "align_content": null,
            "visibility": null,
            "align_self": null,
            "height": null,
            "min_height": null,
            "padding": null,
            "grid_auto_rows": null,
            "grid_gap": null,
            "max_width": null,
            "order": null,
            "_view_module_version": "1.2.0",
            "grid_template_areas": null,
            "object_position": null,
            "object_fit": null,
            "grid_auto_columns": null,
            "margin": null,
            "display": null,
            "left": null
          }
        },
        "0cbc438bfae64e87bd17a606b1eb75c8": {
          "model_module": "@jupyter-widgets/controls",
          "model_name": "DescriptionStyleModel",
          "state": {
            "_view_name": "StyleView",
            "_model_name": "DescriptionStyleModel",
            "description_width": "",
            "_view_module": "@jupyter-widgets/base",
            "_model_module_version": "1.5.0",
            "_view_count": null,
            "_view_module_version": "1.2.0",
            "_model_module": "@jupyter-widgets/controls"
          }
        },
        "442589e9d44f4d8a8a2a8b03ff56bdca": {
          "model_module": "@jupyter-widgets/base",
          "model_name": "LayoutModel",
          "state": {
            "_view_name": "LayoutView",
            "grid_template_rows": null,
            "right": null,
            "justify_content": null,
            "_view_module": "@jupyter-widgets/base",
            "overflow": null,
            "_model_module_version": "1.2.0",
            "_view_count": null,
            "flex_flow": null,
            "width": null,
            "min_width": null,
            "border": null,
            "align_items": null,
            "bottom": null,
            "_model_module": "@jupyter-widgets/base",
            "top": null,
            "grid_column": null,
            "overflow_y": null,
            "overflow_x": null,
            "grid_auto_flow": null,
            "grid_area": null,
            "grid_template_columns": null,
            "flex": null,
            "_model_name": "LayoutModel",
            "justify_items": null,
            "grid_row": null,
            "max_height": null,
            "align_content": null,
            "visibility": null,
            "align_self": null,
            "height": null,
            "min_height": null,
            "padding": null,
            "grid_auto_rows": null,
            "grid_gap": null,
            "max_width": null,
            "order": null,
            "_view_module_version": "1.2.0",
            "grid_template_areas": null,
            "object_position": null,
            "object_fit": null,
            "grid_auto_columns": null,
            "margin": null,
            "display": null,
            "left": null
          }
        },
        "c8f10a1b8beb4ad78065ab2e1ff38532": {
          "model_module": "@jupyter-widgets/controls",
          "model_name": "HBoxModel",
          "state": {
            "_view_name": "HBoxView",
            "_dom_classes": [],
            "_model_name": "HBoxModel",
            "_view_module": "@jupyter-widgets/controls",
            "_model_module_version": "1.5.0",
            "_view_count": null,
            "_view_module_version": "1.5.0",
            "box_style": "",
            "layout": "IPY_MODEL_d57b8d49e9aa474c8fd0e7857baf01d6",
            "_model_module": "@jupyter-widgets/controls",
            "children": [
              "IPY_MODEL_358a950c95ac414c8261b8225b7f4cfa",
              "IPY_MODEL_f5285586197d4f04902153b894cce589"
            ]
          }
        },
        "d57b8d49e9aa474c8fd0e7857baf01d6": {
          "model_module": "@jupyter-widgets/base",
          "model_name": "LayoutModel",
          "state": {
            "_view_name": "LayoutView",
            "grid_template_rows": null,
            "right": null,
            "justify_content": null,
            "_view_module": "@jupyter-widgets/base",
            "overflow": null,
            "_model_module_version": "1.2.0",
            "_view_count": null,
            "flex_flow": null,
            "width": null,
            "min_width": null,
            "border": null,
            "align_items": null,
            "bottom": null,
            "_model_module": "@jupyter-widgets/base",
            "top": null,
            "grid_column": null,
            "overflow_y": null,
            "overflow_x": null,
            "grid_auto_flow": null,
            "grid_area": null,
            "grid_template_columns": null,
            "flex": null,
            "_model_name": "LayoutModel",
            "justify_items": null,
            "grid_row": null,
            "max_height": null,
            "align_content": null,
            "visibility": null,
            "align_self": null,
            "height": null,
            "min_height": null,
            "padding": null,
            "grid_auto_rows": null,
            "grid_gap": null,
            "max_width": null,
            "order": null,
            "_view_module_version": "1.2.0",
            "grid_template_areas": null,
            "object_position": null,
            "object_fit": null,
            "grid_auto_columns": null,
            "margin": null,
            "display": null,
            "left": null
          }
        },
        "358a950c95ac414c8261b8225b7f4cfa": {
          "model_module": "@jupyter-widgets/controls",
          "model_name": "FloatProgressModel",
          "state": {
            "_view_name": "ProgressView",
            "style": "IPY_MODEL_ae0e37241be64c108a0d09ba09340c5e",
            "_dom_classes": [],
            "description": "100%",
            "_model_name": "FloatProgressModel",
            "bar_style": "success",
            "max": 484,
            "_view_module": "@jupyter-widgets/controls",
            "_model_module_version": "1.5.0",
            "value": 484,
            "_view_count": null,
            "_view_module_version": "1.5.0",
            "orientation": "horizontal",
            "min": 0,
            "description_tooltip": null,
            "_model_module": "@jupyter-widgets/controls",
            "layout": "IPY_MODEL_12be6f44197b4d7bae602bb046230fed"
          }
        },
        "f5285586197d4f04902153b894cce589": {
          "model_module": "@jupyter-widgets/controls",
          "model_name": "HTMLModel",
          "state": {
            "_view_name": "HTMLView",
            "style": "IPY_MODEL_f6fd232e659e496293c31d6f0860518a",
            "_dom_classes": [],
            "description": "",
            "_model_name": "HTMLModel",
            "placeholder": "​",
            "_view_module": "@jupyter-widgets/controls",
            "_model_module_version": "1.5.0",
            "value": " 484/484 [00:56&lt;00:00,  8.63ex/s]",
            "_view_count": null,
            "_view_module_version": "1.5.0",
            "description_tooltip": null,
            "_model_module": "@jupyter-widgets/controls",
            "layout": "IPY_MODEL_9a9c772a3c7c45ea925ca4623df710f1"
          }
        },
        "ae0e37241be64c108a0d09ba09340c5e": {
          "model_module": "@jupyter-widgets/controls",
          "model_name": "ProgressStyleModel",
          "state": {
            "_view_name": "StyleView",
            "_model_name": "ProgressStyleModel",
            "description_width": "initial",
            "_view_module": "@jupyter-widgets/base",
            "_model_module_version": "1.5.0",
            "_view_count": null,
            "_view_module_version": "1.2.0",
            "bar_color": null,
            "_model_module": "@jupyter-widgets/controls"
          }
        },
        "12be6f44197b4d7bae602bb046230fed": {
          "model_module": "@jupyter-widgets/base",
          "model_name": "LayoutModel",
          "state": {
            "_view_name": "LayoutView",
            "grid_template_rows": null,
            "right": null,
            "justify_content": null,
            "_view_module": "@jupyter-widgets/base",
            "overflow": null,
            "_model_module_version": "1.2.0",
            "_view_count": null,
            "flex_flow": null,
            "width": null,
            "min_width": null,
            "border": null,
            "align_items": null,
            "bottom": null,
            "_model_module": "@jupyter-widgets/base",
            "top": null,
            "grid_column": null,
            "overflow_y": null,
            "overflow_x": null,
            "grid_auto_flow": null,
            "grid_area": null,
            "grid_template_columns": null,
            "flex": null,
            "_model_name": "LayoutModel",
            "justify_items": null,
            "grid_row": null,
            "max_height": null,
            "align_content": null,
            "visibility": null,
            "align_self": null,
            "height": null,
            "min_height": null,
            "padding": null,
            "grid_auto_rows": null,
            "grid_gap": null,
            "max_width": null,
            "order": null,
            "_view_module_version": "1.2.0",
            "grid_template_areas": null,
            "object_position": null,
            "object_fit": null,
            "grid_auto_columns": null,
            "margin": null,
            "display": null,
            "left": null
          }
        },
        "f6fd232e659e496293c31d6f0860518a": {
          "model_module": "@jupyter-widgets/controls",
          "model_name": "DescriptionStyleModel",
          "state": {
            "_view_name": "StyleView",
            "_model_name": "DescriptionStyleModel",
            "description_width": "",
            "_view_module": "@jupyter-widgets/base",
            "_model_module_version": "1.5.0",
            "_view_count": null,
            "_view_module_version": "1.2.0",
            "_model_module": "@jupyter-widgets/controls"
          }
        },
        "9a9c772a3c7c45ea925ca4623df710f1": {
          "model_module": "@jupyter-widgets/base",
          "model_name": "LayoutModel",
          "state": {
            "_view_name": "LayoutView",
            "grid_template_rows": null,
            "right": null,
            "justify_content": null,
            "_view_module": "@jupyter-widgets/base",
            "overflow": null,
            "_model_module_version": "1.2.0",
            "_view_count": null,
            "flex_flow": null,
            "width": null,
            "min_width": null,
            "border": null,
            "align_items": null,
            "bottom": null,
            "_model_module": "@jupyter-widgets/base",
            "top": null,
            "grid_column": null,
            "overflow_y": null,
            "overflow_x": null,
            "grid_auto_flow": null,
            "grid_area": null,
            "grid_template_columns": null,
            "flex": null,
            "_model_name": "LayoutModel",
            "justify_items": null,
            "grid_row": null,
            "max_height": null,
            "align_content": null,
            "visibility": null,
            "align_self": null,
            "height": null,
            "min_height": null,
            "padding": null,
            "grid_auto_rows": null,
            "grid_gap": null,
            "max_width": null,
            "order": null,
            "_view_module_version": "1.2.0",
            "grid_template_areas": null,
            "object_position": null,
            "object_fit": null,
            "grid_auto_columns": null,
            "margin": null,
            "display": null,
            "left": null
          }
        },
        "5142d6017b584d0eb7e5148352a70f61": {
          "model_module": "@jupyter-widgets/controls",
          "model_name": "HBoxModel",
          "state": {
            "_view_name": "HBoxView",
            "_dom_classes": [],
            "_model_name": "HBoxModel",
            "_view_module": "@jupyter-widgets/controls",
            "_model_module_version": "1.5.0",
            "_view_count": null,
            "_view_module_version": "1.5.0",
            "box_style": "",
            "layout": "IPY_MODEL_e4427527247147e4b18b7980bf51d153",
            "_model_module": "@jupyter-widgets/controls",
            "children": [
              "IPY_MODEL_0a7dfe094ad34aeea217242bdaa91ca6",
              "IPY_MODEL_0de9058197f546fc8f3f38f1c9b7fc0d"
            ]
          }
        },
        "e4427527247147e4b18b7980bf51d153": {
          "model_module": "@jupyter-widgets/base",
          "model_name": "LayoutModel",
          "state": {
            "_view_name": "LayoutView",
            "grid_template_rows": null,
            "right": null,
            "justify_content": null,
            "_view_module": "@jupyter-widgets/base",
            "overflow": null,
            "_model_module_version": "1.2.0",
            "_view_count": null,
            "flex_flow": null,
            "width": null,
            "min_width": null,
            "border": null,
            "align_items": null,
            "bottom": null,
            "_model_module": "@jupyter-widgets/base",
            "top": null,
            "grid_column": null,
            "overflow_y": null,
            "overflow_x": null,
            "grid_auto_flow": null,
            "grid_area": null,
            "grid_template_columns": null,
            "flex": null,
            "_model_name": "LayoutModel",
            "justify_items": null,
            "grid_row": null,
            "max_height": null,
            "align_content": null,
            "visibility": null,
            "align_self": null,
            "height": null,
            "min_height": null,
            "padding": null,
            "grid_auto_rows": null,
            "grid_gap": null,
            "max_width": null,
            "order": null,
            "_view_module_version": "1.2.0",
            "grid_template_areas": null,
            "object_position": null,
            "object_fit": null,
            "grid_auto_columns": null,
            "margin": null,
            "display": null,
            "left": null
          }
        },
        "0a7dfe094ad34aeea217242bdaa91ca6": {
          "model_module": "@jupyter-widgets/controls",
          "model_name": "FloatProgressModel",
          "state": {
            "_view_name": "ProgressView",
            "style": "IPY_MODEL_bb36d676909f43499143f1ba908af104",
            "_dom_classes": [],
            "description": "100%",
            "_model_name": "FloatProgressModel",
            "bar_style": "success",
            "max": 1,
            "_view_module": "@jupyter-widgets/controls",
            "_model_module_version": "1.5.0",
            "value": 1,
            "_view_count": null,
            "_view_module_version": "1.5.0",
            "orientation": "horizontal",
            "min": 0,
            "description_tooltip": null,
            "_model_module": "@jupyter-widgets/controls",
            "layout": "IPY_MODEL_f0c75d78249a4b0bb8baa31ad83abe00"
          }
        },
        "0de9058197f546fc8f3f38f1c9b7fc0d": {
          "model_module": "@jupyter-widgets/controls",
          "model_name": "HTMLModel",
          "state": {
            "_view_name": "HTMLView",
            "style": "IPY_MODEL_6cca8908cd8b4776a741f08c8355d414",
            "_dom_classes": [],
            "description": "",
            "_model_name": "HTMLModel",
            "placeholder": "​",
            "_view_module": "@jupyter-widgets/controls",
            "_model_module_version": "1.5.0",
            "value": " 1/1 [02:15&lt;00:00, 135.09s/ba]",
            "_view_count": null,
            "_view_module_version": "1.5.0",
            "description_tooltip": null,
            "_model_module": "@jupyter-widgets/controls",
            "layout": "IPY_MODEL_0491dbb9580c4cecb07b73ddb540e620"
          }
        },
        "bb36d676909f43499143f1ba908af104": {
          "model_module": "@jupyter-widgets/controls",
          "model_name": "ProgressStyleModel",
          "state": {
            "_view_name": "StyleView",
            "_model_name": "ProgressStyleModel",
            "description_width": "initial",
            "_view_module": "@jupyter-widgets/base",
            "_model_module_version": "1.5.0",
            "_view_count": null,
            "_view_module_version": "1.2.0",
            "bar_color": null,
            "_model_module": "@jupyter-widgets/controls"
          }
        },
        "f0c75d78249a4b0bb8baa31ad83abe00": {
          "model_module": "@jupyter-widgets/base",
          "model_name": "LayoutModel",
          "state": {
            "_view_name": "LayoutView",
            "grid_template_rows": null,
            "right": null,
            "justify_content": null,
            "_view_module": "@jupyter-widgets/base",
            "overflow": null,
            "_model_module_version": "1.2.0",
            "_view_count": null,
            "flex_flow": null,
            "width": null,
            "min_width": null,
            "border": null,
            "align_items": null,
            "bottom": null,
            "_model_module": "@jupyter-widgets/base",
            "top": null,
            "grid_column": null,
            "overflow_y": null,
            "overflow_x": null,
            "grid_auto_flow": null,
            "grid_area": null,
            "grid_template_columns": null,
            "flex": null,
            "_model_name": "LayoutModel",
            "justify_items": null,
            "grid_row": null,
            "max_height": null,
            "align_content": null,
            "visibility": null,
            "align_self": null,
            "height": null,
            "min_height": null,
            "padding": null,
            "grid_auto_rows": null,
            "grid_gap": null,
            "max_width": null,
            "order": null,
            "_view_module_version": "1.2.0",
            "grid_template_areas": null,
            "object_position": null,
            "object_fit": null,
            "grid_auto_columns": null,
            "margin": null,
            "display": null,
            "left": null
          }
        },
        "6cca8908cd8b4776a741f08c8355d414": {
          "model_module": "@jupyter-widgets/controls",
          "model_name": "DescriptionStyleModel",
          "state": {
            "_view_name": "StyleView",
            "_model_name": "DescriptionStyleModel",
            "description_width": "",
            "_view_module": "@jupyter-widgets/base",
            "_model_module_version": "1.5.0",
            "_view_count": null,
            "_view_module_version": "1.2.0",
            "_model_module": "@jupyter-widgets/controls"
          }
        },
        "0491dbb9580c4cecb07b73ddb540e620": {
          "model_module": "@jupyter-widgets/base",
          "model_name": "LayoutModel",
          "state": {
            "_view_name": "LayoutView",
            "grid_template_rows": null,
            "right": null,
            "justify_content": null,
            "_view_module": "@jupyter-widgets/base",
            "overflow": null,
            "_model_module_version": "1.2.0",
            "_view_count": null,
            "flex_flow": null,
            "width": null,
            "min_width": null,
            "border": null,
            "align_items": null,
            "bottom": null,
            "_model_module": "@jupyter-widgets/base",
            "top": null,
            "grid_column": null,
            "overflow_y": null,
            "overflow_x": null,
            "grid_auto_flow": null,
            "grid_area": null,
            "grid_template_columns": null,
            "flex": null,
            "_model_name": "LayoutModel",
            "justify_items": null,
            "grid_row": null,
            "max_height": null,
            "align_content": null,
            "visibility": null,
            "align_self": null,
            "height": null,
            "min_height": null,
            "padding": null,
            "grid_auto_rows": null,
            "grid_gap": null,
            "max_width": null,
            "order": null,
            "_view_module_version": "1.2.0",
            "grid_template_areas": null,
            "object_position": null,
            "object_fit": null,
            "grid_auto_columns": null,
            "margin": null,
            "display": null,
            "left": null
          }
        },
        "84327458d4894f32b287ebb522338cf0": {
          "model_module": "@jupyter-widgets/controls",
          "model_name": "HBoxModel",
          "state": {
            "_view_name": "HBoxView",
            "_dom_classes": [],
            "_model_name": "HBoxModel",
            "_view_module": "@jupyter-widgets/controls",
            "_model_module_version": "1.5.0",
            "_view_count": null,
            "_view_module_version": "1.5.0",
            "box_style": "",
            "layout": "IPY_MODEL_a6e03135c0e545e88042babec80a6615",
            "_model_module": "@jupyter-widgets/controls",
            "children": [
              "IPY_MODEL_60257e01eff849d098bd948570dd2ef7",
              "IPY_MODEL_b0336d1f8fc14cb0bb770cbe5d32bf5c"
            ]
          }
        },
        "a6e03135c0e545e88042babec80a6615": {
          "model_module": "@jupyter-widgets/base",
          "model_name": "LayoutModel",
          "state": {
            "_view_name": "LayoutView",
            "grid_template_rows": null,
            "right": null,
            "justify_content": null,
            "_view_module": "@jupyter-widgets/base",
            "overflow": null,
            "_model_module_version": "1.2.0",
            "_view_count": null,
            "flex_flow": null,
            "width": null,
            "min_width": null,
            "border": null,
            "align_items": null,
            "bottom": null,
            "_model_module": "@jupyter-widgets/base",
            "top": null,
            "grid_column": null,
            "overflow_y": null,
            "overflow_x": null,
            "grid_auto_flow": null,
            "grid_area": null,
            "grid_template_columns": null,
            "flex": null,
            "_model_name": "LayoutModel",
            "justify_items": null,
            "grid_row": null,
            "max_height": null,
            "align_content": null,
            "visibility": null,
            "align_self": null,
            "height": null,
            "min_height": null,
            "padding": null,
            "grid_auto_rows": null,
            "grid_gap": null,
            "max_width": null,
            "order": null,
            "_view_module_version": "1.2.0",
            "grid_template_areas": null,
            "object_position": null,
            "object_fit": null,
            "grid_auto_columns": null,
            "margin": null,
            "display": null,
            "left": null
          }
        },
        "60257e01eff849d098bd948570dd2ef7": {
          "model_module": "@jupyter-widgets/controls",
          "model_name": "FloatProgressModel",
          "state": {
            "_view_name": "ProgressView",
            "style": "IPY_MODEL_1765d6be607e42e4a492845a503794b5",
            "_dom_classes": [],
            "description": "100%",
            "_model_name": "FloatProgressModel",
            "bar_style": "success",
            "max": 1,
            "_view_module": "@jupyter-widgets/controls",
            "_model_module_version": "1.5.0",
            "value": 1,
            "_view_count": null,
            "_view_module_version": "1.5.0",
            "orientation": "horizontal",
            "min": 0,
            "description_tooltip": null,
            "_model_module": "@jupyter-widgets/controls",
            "layout": "IPY_MODEL_01a29c8387bc46dc9ed0c1545df9fb0e"
          }
        },
        "b0336d1f8fc14cb0bb770cbe5d32bf5c": {
          "model_module": "@jupyter-widgets/controls",
          "model_name": "HTMLModel",
          "state": {
            "_view_name": "HTMLView",
            "style": "IPY_MODEL_78bf2bc2f82746589bf9f207d62bec03",
            "_dom_classes": [],
            "description": "",
            "_model_name": "HTMLModel",
            "placeholder": "​",
            "_view_module": "@jupyter-widgets/controls",
            "_model_module_version": "1.5.0",
            "value": " 1/1 [02:15&lt;00:00, 135.04s/ba]",
            "_view_count": null,
            "_view_module_version": "1.5.0",
            "description_tooltip": null,
            "_model_module": "@jupyter-widgets/controls",
            "layout": "IPY_MODEL_e9957c59822e409c827a3331d3405490"
          }
        },
        "1765d6be607e42e4a492845a503794b5": {
          "model_module": "@jupyter-widgets/controls",
          "model_name": "ProgressStyleModel",
          "state": {
            "_view_name": "StyleView",
            "_model_name": "ProgressStyleModel",
            "description_width": "initial",
            "_view_module": "@jupyter-widgets/base",
            "_model_module_version": "1.5.0",
            "_view_count": null,
            "_view_module_version": "1.2.0",
            "bar_color": null,
            "_model_module": "@jupyter-widgets/controls"
          }
        },
        "01a29c8387bc46dc9ed0c1545df9fb0e": {
          "model_module": "@jupyter-widgets/base",
          "model_name": "LayoutModel",
          "state": {
            "_view_name": "LayoutView",
            "grid_template_rows": null,
            "right": null,
            "justify_content": null,
            "_view_module": "@jupyter-widgets/base",
            "overflow": null,
            "_model_module_version": "1.2.0",
            "_view_count": null,
            "flex_flow": null,
            "width": null,
            "min_width": null,
            "border": null,
            "align_items": null,
            "bottom": null,
            "_model_module": "@jupyter-widgets/base",
            "top": null,
            "grid_column": null,
            "overflow_y": null,
            "overflow_x": null,
            "grid_auto_flow": null,
            "grid_area": null,
            "grid_template_columns": null,
            "flex": null,
            "_model_name": "LayoutModel",
            "justify_items": null,
            "grid_row": null,
            "max_height": null,
            "align_content": null,
            "visibility": null,
            "align_self": null,
            "height": null,
            "min_height": null,
            "padding": null,
            "grid_auto_rows": null,
            "grid_gap": null,
            "max_width": null,
            "order": null,
            "_view_module_version": "1.2.0",
            "grid_template_areas": null,
            "object_position": null,
            "object_fit": null,
            "grid_auto_columns": null,
            "margin": null,
            "display": null,
            "left": null
          }
        },
        "78bf2bc2f82746589bf9f207d62bec03": {
          "model_module": "@jupyter-widgets/controls",
          "model_name": "DescriptionStyleModel",
          "state": {
            "_view_name": "StyleView",
            "_model_name": "DescriptionStyleModel",
            "description_width": "",
            "_view_module": "@jupyter-widgets/base",
            "_model_module_version": "1.5.0",
            "_view_count": null,
            "_view_module_version": "1.2.0",
            "_model_module": "@jupyter-widgets/controls"
          }
        },
        "e9957c59822e409c827a3331d3405490": {
          "model_module": "@jupyter-widgets/base",
          "model_name": "LayoutModel",
          "state": {
            "_view_name": "LayoutView",
            "grid_template_rows": null,
            "right": null,
            "justify_content": null,
            "_view_module": "@jupyter-widgets/base",
            "overflow": null,
            "_model_module_version": "1.2.0",
            "_view_count": null,
            "flex_flow": null,
            "width": null,
            "min_width": null,
            "border": null,
            "align_items": null,
            "bottom": null,
            "_model_module": "@jupyter-widgets/base",
            "top": null,
            "grid_column": null,
            "overflow_y": null,
            "overflow_x": null,
            "grid_auto_flow": null,
            "grid_area": null,
            "grid_template_columns": null,
            "flex": null,
            "_model_name": "LayoutModel",
            "justify_items": null,
            "grid_row": null,
            "max_height": null,
            "align_content": null,
            "visibility": null,
            "align_self": null,
            "height": null,
            "min_height": null,
            "padding": null,
            "grid_auto_rows": null,
            "grid_gap": null,
            "max_width": null,
            "order": null,
            "_view_module_version": "1.2.0",
            "grid_template_areas": null,
            "object_position": null,
            "object_fit": null,
            "grid_auto_columns": null,
            "margin": null,
            "display": null,
            "left": null
          }
        },
        "a2a1215e30bf483689da756d65da2615": {
          "model_module": "@jupyter-widgets/controls",
          "model_name": "HBoxModel",
          "state": {
            "_view_name": "HBoxView",
            "_dom_classes": [],
            "_model_name": "HBoxModel",
            "_view_module": "@jupyter-widgets/controls",
            "_model_module_version": "1.5.0",
            "_view_count": null,
            "_view_module_version": "1.5.0",
            "box_style": "",
            "layout": "IPY_MODEL_177543e7001f4c818313d2e69d156bec",
            "_model_module": "@jupyter-widgets/controls",
            "children": [
              "IPY_MODEL_6974bec4345b487d94d42bd8d557bda2",
              "IPY_MODEL_bc07dd58d2d74c498972b91d37a776a8"
            ]
          }
        },
        "177543e7001f4c818313d2e69d156bec": {
          "model_module": "@jupyter-widgets/base",
          "model_name": "LayoutModel",
          "state": {
            "_view_name": "LayoutView",
            "grid_template_rows": null,
            "right": null,
            "justify_content": null,
            "_view_module": "@jupyter-widgets/base",
            "overflow": null,
            "_model_module_version": "1.2.0",
            "_view_count": null,
            "flex_flow": null,
            "width": null,
            "min_width": null,
            "border": null,
            "align_items": null,
            "bottom": null,
            "_model_module": "@jupyter-widgets/base",
            "top": null,
            "grid_column": null,
            "overflow_y": null,
            "overflow_x": null,
            "grid_auto_flow": null,
            "grid_area": null,
            "grid_template_columns": null,
            "flex": null,
            "_model_name": "LayoutModel",
            "justify_items": null,
            "grid_row": null,
            "max_height": null,
            "align_content": null,
            "visibility": null,
            "align_self": null,
            "height": null,
            "min_height": null,
            "padding": null,
            "grid_auto_rows": null,
            "grid_gap": null,
            "max_width": null,
            "order": null,
            "_view_module_version": "1.2.0",
            "grid_template_areas": null,
            "object_position": null,
            "object_fit": null,
            "grid_auto_columns": null,
            "margin": null,
            "display": null,
            "left": null
          }
        },
        "6974bec4345b487d94d42bd8d557bda2": {
          "model_module": "@jupyter-widgets/controls",
          "model_name": "FloatProgressModel",
          "state": {
            "_view_name": "ProgressView",
            "style": "IPY_MODEL_a99e0621b00a449da24609769fa94ad7",
            "_dom_classes": [],
            "description": "#0: 100%",
            "_model_name": "FloatProgressModel",
            "bar_style": "success",
            "max": 605,
            "_view_module": "@jupyter-widgets/controls",
            "_model_module_version": "1.5.0",
            "value": 605,
            "_view_count": null,
            "_view_module_version": "1.5.0",
            "orientation": "horizontal",
            "min": 0,
            "description_tooltip": null,
            "_model_module": "@jupyter-widgets/controls",
            "layout": "IPY_MODEL_2f806f54b6e84f90a267b05f4e0b98df"
          }
        },
        "bc07dd58d2d74c498972b91d37a776a8": {
          "model_module": "@jupyter-widgets/controls",
          "model_name": "HTMLModel",
          "state": {
            "_view_name": "HTMLView",
            "style": "IPY_MODEL_55cb5e74d3a0403d94ccb8cd6f3e6598",
            "_dom_classes": [],
            "description": "",
            "_model_name": "HTMLModel",
            "placeholder": "​",
            "_view_module": "@jupyter-widgets/controls",
            "_model_module_version": "1.5.0",
            "value": " 605/605 [04:09&lt;00:00,  2.42ex/s]",
            "_view_count": null,
            "_view_module_version": "1.5.0",
            "description_tooltip": null,
            "_model_module": "@jupyter-widgets/controls",
            "layout": "IPY_MODEL_7c4a85d2c666422f9d68235300fc8c5a"
          }
        },
        "a99e0621b00a449da24609769fa94ad7": {
          "model_module": "@jupyter-widgets/controls",
          "model_name": "ProgressStyleModel",
          "state": {
            "_view_name": "StyleView",
            "_model_name": "ProgressStyleModel",
            "description_width": "initial",
            "_view_module": "@jupyter-widgets/base",
            "_model_module_version": "1.5.0",
            "_view_count": null,
            "_view_module_version": "1.2.0",
            "bar_color": null,
            "_model_module": "@jupyter-widgets/controls"
          }
        },
        "2f806f54b6e84f90a267b05f4e0b98df": {
          "model_module": "@jupyter-widgets/base",
          "model_name": "LayoutModel",
          "state": {
            "_view_name": "LayoutView",
            "grid_template_rows": null,
            "right": null,
            "justify_content": null,
            "_view_module": "@jupyter-widgets/base",
            "overflow": null,
            "_model_module_version": "1.2.0",
            "_view_count": null,
            "flex_flow": null,
            "width": null,
            "min_width": null,
            "border": null,
            "align_items": null,
            "bottom": null,
            "_model_module": "@jupyter-widgets/base",
            "top": null,
            "grid_column": null,
            "overflow_y": null,
            "overflow_x": null,
            "grid_auto_flow": null,
            "grid_area": null,
            "grid_template_columns": null,
            "flex": null,
            "_model_name": "LayoutModel",
            "justify_items": null,
            "grid_row": null,
            "max_height": null,
            "align_content": null,
            "visibility": null,
            "align_self": null,
            "height": null,
            "min_height": null,
            "padding": null,
            "grid_auto_rows": null,
            "grid_gap": null,
            "max_width": null,
            "order": null,
            "_view_module_version": "1.2.0",
            "grid_template_areas": null,
            "object_position": null,
            "object_fit": null,
            "grid_auto_columns": null,
            "margin": null,
            "display": null,
            "left": null
          }
        },
        "55cb5e74d3a0403d94ccb8cd6f3e6598": {
          "model_module": "@jupyter-widgets/controls",
          "model_name": "DescriptionStyleModel",
          "state": {
            "_view_name": "StyleView",
            "_model_name": "DescriptionStyleModel",
            "description_width": "",
            "_view_module": "@jupyter-widgets/base",
            "_model_module_version": "1.5.0",
            "_view_count": null,
            "_view_module_version": "1.2.0",
            "_model_module": "@jupyter-widgets/controls"
          }
        },
        "7c4a85d2c666422f9d68235300fc8c5a": {
          "model_module": "@jupyter-widgets/base",
          "model_name": "LayoutModel",
          "state": {
            "_view_name": "LayoutView",
            "grid_template_rows": null,
            "right": null,
            "justify_content": null,
            "_view_module": "@jupyter-widgets/base",
            "overflow": null,
            "_model_module_version": "1.2.0",
            "_view_count": null,
            "flex_flow": null,
            "width": null,
            "min_width": null,
            "border": null,
            "align_items": null,
            "bottom": null,
            "_model_module": "@jupyter-widgets/base",
            "top": null,
            "grid_column": null,
            "overflow_y": null,
            "overflow_x": null,
            "grid_auto_flow": null,
            "grid_area": null,
            "grid_template_columns": null,
            "flex": null,
            "_model_name": "LayoutModel",
            "justify_items": null,
            "grid_row": null,
            "max_height": null,
            "align_content": null,
            "visibility": null,
            "align_self": null,
            "height": null,
            "min_height": null,
            "padding": null,
            "grid_auto_rows": null,
            "grid_gap": null,
            "max_width": null,
            "order": null,
            "_view_module_version": "1.2.0",
            "grid_template_areas": null,
            "object_position": null,
            "object_fit": null,
            "grid_auto_columns": null,
            "margin": null,
            "display": null,
            "left": null
          }
        },
        "6f773362568a4537946f418769ad7399": {
          "model_module": "@jupyter-widgets/controls",
          "model_name": "HBoxModel",
          "state": {
            "_view_name": "HBoxView",
            "_dom_classes": [],
            "_model_name": "HBoxModel",
            "_view_module": "@jupyter-widgets/controls",
            "_model_module_version": "1.5.0",
            "_view_count": null,
            "_view_module_version": "1.5.0",
            "box_style": "",
            "layout": "IPY_MODEL_4bc880c8482b46ed87fe28eeafabb420",
            "_model_module": "@jupyter-widgets/controls",
            "children": [
              "IPY_MODEL_882af225a9024e03b3c41b214d2ba61e",
              "IPY_MODEL_0b90df7212ad40a1b47d9a485534780d"
            ]
          }
        },
        "4bc880c8482b46ed87fe28eeafabb420": {
          "model_module": "@jupyter-widgets/base",
          "model_name": "LayoutModel",
          "state": {
            "_view_name": "LayoutView",
            "grid_template_rows": null,
            "right": null,
            "justify_content": null,
            "_view_module": "@jupyter-widgets/base",
            "overflow": null,
            "_model_module_version": "1.2.0",
            "_view_count": null,
            "flex_flow": null,
            "width": null,
            "min_width": null,
            "border": null,
            "align_items": null,
            "bottom": null,
            "_model_module": "@jupyter-widgets/base",
            "top": null,
            "grid_column": null,
            "overflow_y": null,
            "overflow_x": null,
            "grid_auto_flow": null,
            "grid_area": null,
            "grid_template_columns": null,
            "flex": null,
            "_model_name": "LayoutModel",
            "justify_items": null,
            "grid_row": null,
            "max_height": null,
            "align_content": null,
            "visibility": null,
            "align_self": null,
            "height": null,
            "min_height": null,
            "padding": null,
            "grid_auto_rows": null,
            "grid_gap": null,
            "max_width": null,
            "order": null,
            "_view_module_version": "1.2.0",
            "grid_template_areas": null,
            "object_position": null,
            "object_fit": null,
            "grid_auto_columns": null,
            "margin": null,
            "display": null,
            "left": null
          }
        },
        "882af225a9024e03b3c41b214d2ba61e": {
          "model_module": "@jupyter-widgets/controls",
          "model_name": "FloatProgressModel",
          "state": {
            "_view_name": "ProgressView",
            "style": "IPY_MODEL_dd524e7a929944638002c484593557cf",
            "_dom_classes": [],
            "description": "#1: 100%",
            "_model_name": "FloatProgressModel",
            "bar_style": "success",
            "max": 605,
            "_view_module": "@jupyter-widgets/controls",
            "_model_module_version": "1.5.0",
            "value": 605,
            "_view_count": null,
            "_view_module_version": "1.5.0",
            "orientation": "horizontal",
            "min": 0,
            "description_tooltip": null,
            "_model_module": "@jupyter-widgets/controls",
            "layout": "IPY_MODEL_cc71b1ac2dbd4656a441004d1ac3b040"
          }
        },
        "0b90df7212ad40a1b47d9a485534780d": {
          "model_module": "@jupyter-widgets/controls",
          "model_name": "HTMLModel",
          "state": {
            "_view_name": "HTMLView",
            "style": "IPY_MODEL_f3c6e467e4334fb0bf8313e630080977",
            "_dom_classes": [],
            "description": "",
            "_model_name": "HTMLModel",
            "placeholder": "​",
            "_view_module": "@jupyter-widgets/controls",
            "_model_module_version": "1.5.0",
            "value": " 605/605 [04:31&lt;00:00,  2.23ex/s]",
            "_view_count": null,
            "_view_module_version": "1.5.0",
            "description_tooltip": null,
            "_model_module": "@jupyter-widgets/controls",
            "layout": "IPY_MODEL_8fee1ebc45834a30841ccfa6dd8b945d"
          }
        },
        "dd524e7a929944638002c484593557cf": {
          "model_module": "@jupyter-widgets/controls",
          "model_name": "ProgressStyleModel",
          "state": {
            "_view_name": "StyleView",
            "_model_name": "ProgressStyleModel",
            "description_width": "initial",
            "_view_module": "@jupyter-widgets/base",
            "_model_module_version": "1.5.0",
            "_view_count": null,
            "_view_module_version": "1.2.0",
            "bar_color": null,
            "_model_module": "@jupyter-widgets/controls"
          }
        },
        "cc71b1ac2dbd4656a441004d1ac3b040": {
          "model_module": "@jupyter-widgets/base",
          "model_name": "LayoutModel",
          "state": {
            "_view_name": "LayoutView",
            "grid_template_rows": null,
            "right": null,
            "justify_content": null,
            "_view_module": "@jupyter-widgets/base",
            "overflow": null,
            "_model_module_version": "1.2.0",
            "_view_count": null,
            "flex_flow": null,
            "width": null,
            "min_width": null,
            "border": null,
            "align_items": null,
            "bottom": null,
            "_model_module": "@jupyter-widgets/base",
            "top": null,
            "grid_column": null,
            "overflow_y": null,
            "overflow_x": null,
            "grid_auto_flow": null,
            "grid_area": null,
            "grid_template_columns": null,
            "flex": null,
            "_model_name": "LayoutModel",
            "justify_items": null,
            "grid_row": null,
            "max_height": null,
            "align_content": null,
            "visibility": null,
            "align_self": null,
            "height": null,
            "min_height": null,
            "padding": null,
            "grid_auto_rows": null,
            "grid_gap": null,
            "max_width": null,
            "order": null,
            "_view_module_version": "1.2.0",
            "grid_template_areas": null,
            "object_position": null,
            "object_fit": null,
            "grid_auto_columns": null,
            "margin": null,
            "display": null,
            "left": null
          }
        },
        "f3c6e467e4334fb0bf8313e630080977": {
          "model_module": "@jupyter-widgets/controls",
          "model_name": "DescriptionStyleModel",
          "state": {
            "_view_name": "StyleView",
            "_model_name": "DescriptionStyleModel",
            "description_width": "",
            "_view_module": "@jupyter-widgets/base",
            "_model_module_version": "1.5.0",
            "_view_count": null,
            "_view_module_version": "1.2.0",
            "_model_module": "@jupyter-widgets/controls"
          }
        },
        "8fee1ebc45834a30841ccfa6dd8b945d": {
          "model_module": "@jupyter-widgets/base",
          "model_name": "LayoutModel",
          "state": {
            "_view_name": "LayoutView",
            "grid_template_rows": null,
            "right": null,
            "justify_content": null,
            "_view_module": "@jupyter-widgets/base",
            "overflow": null,
            "_model_module_version": "1.2.0",
            "_view_count": null,
            "flex_flow": null,
            "width": null,
            "min_width": null,
            "border": null,
            "align_items": null,
            "bottom": null,
            "_model_module": "@jupyter-widgets/base",
            "top": null,
            "grid_column": null,
            "overflow_y": null,
            "overflow_x": null,
            "grid_auto_flow": null,
            "grid_area": null,
            "grid_template_columns": null,
            "flex": null,
            "_model_name": "LayoutModel",
            "justify_items": null,
            "grid_row": null,
            "max_height": null,
            "align_content": null,
            "visibility": null,
            "align_self": null,
            "height": null,
            "min_height": null,
            "padding": null,
            "grid_auto_rows": null,
            "grid_gap": null,
            "max_width": null,
            "order": null,
            "_view_module_version": "1.2.0",
            "grid_template_areas": null,
            "object_position": null,
            "object_fit": null,
            "grid_auto_columns": null,
            "margin": null,
            "display": null,
            "left": null
          }
        },
        "e9e7825ebd9e4d67b521894d4534df01": {
          "model_module": "@jupyter-widgets/controls",
          "model_name": "HBoxModel",
          "state": {
            "_view_name": "HBoxView",
            "_dom_classes": [],
            "_model_name": "HBoxModel",
            "_view_module": "@jupyter-widgets/controls",
            "_model_module_version": "1.5.0",
            "_view_count": null,
            "_view_module_version": "1.5.0",
            "box_style": "",
            "layout": "IPY_MODEL_a5ba9d0de33649bbbfd8b105fb66ca55",
            "_model_module": "@jupyter-widgets/controls",
            "children": [
              "IPY_MODEL_23480022e7474a13b0956a3d5ddb885b",
              "IPY_MODEL_f79e1ca3afd04beca247a4b64165606b"
            ]
          }
        },
        "a5ba9d0de33649bbbfd8b105fb66ca55": {
          "model_module": "@jupyter-widgets/base",
          "model_name": "LayoutModel",
          "state": {
            "_view_name": "LayoutView",
            "grid_template_rows": null,
            "right": null,
            "justify_content": null,
            "_view_module": "@jupyter-widgets/base",
            "overflow": null,
            "_model_module_version": "1.2.0",
            "_view_count": null,
            "flex_flow": null,
            "width": null,
            "min_width": null,
            "border": null,
            "align_items": null,
            "bottom": null,
            "_model_module": "@jupyter-widgets/base",
            "top": null,
            "grid_column": null,
            "overflow_y": null,
            "overflow_x": null,
            "grid_auto_flow": null,
            "grid_area": null,
            "grid_template_columns": null,
            "flex": null,
            "_model_name": "LayoutModel",
            "justify_items": null,
            "grid_row": null,
            "max_height": null,
            "align_content": null,
            "visibility": null,
            "align_self": null,
            "height": null,
            "min_height": null,
            "padding": null,
            "grid_auto_rows": null,
            "grid_gap": null,
            "max_width": null,
            "order": null,
            "_view_module_version": "1.2.0",
            "grid_template_areas": null,
            "object_position": null,
            "object_fit": null,
            "grid_auto_columns": null,
            "margin": null,
            "display": null,
            "left": null
          }
        },
        "23480022e7474a13b0956a3d5ddb885b": {
          "model_module": "@jupyter-widgets/controls",
          "model_name": "FloatProgressModel",
          "state": {
            "_view_name": "ProgressView",
            "style": "IPY_MODEL_70e25070862c44c89cb6347fa7c33e04",
            "_dom_classes": [],
            "description": "#3: 100%",
            "_model_name": "FloatProgressModel",
            "bar_style": "success",
            "max": 605,
            "_view_module": "@jupyter-widgets/controls",
            "_model_module_version": "1.5.0",
            "value": 605,
            "_view_count": null,
            "_view_module_version": "1.5.0",
            "orientation": "horizontal",
            "min": 0,
            "description_tooltip": null,
            "_model_module": "@jupyter-widgets/controls",
            "layout": "IPY_MODEL_b998a6115cfc4dab8957a9f21e4db0bf"
          }
        },
        "f79e1ca3afd04beca247a4b64165606b": {
          "model_module": "@jupyter-widgets/controls",
          "model_name": "HTMLModel",
          "state": {
            "_view_name": "HTMLView",
            "style": "IPY_MODEL_af802409b83c4cef92a44f069f9f9756",
            "_dom_classes": [],
            "description": "",
            "_model_name": "HTMLModel",
            "placeholder": "​",
            "_view_module": "@jupyter-widgets/controls",
            "_model_module_version": "1.5.0",
            "value": " 605/605 [04:23&lt;00:00,  2.29ex/s]",
            "_view_count": null,
            "_view_module_version": "1.5.0",
            "description_tooltip": null,
            "_model_module": "@jupyter-widgets/controls",
            "layout": "IPY_MODEL_a85a39189e024e17a711e6838cf2d556"
          }
        },
        "70e25070862c44c89cb6347fa7c33e04": {
          "model_module": "@jupyter-widgets/controls",
          "model_name": "ProgressStyleModel",
          "state": {
            "_view_name": "StyleView",
            "_model_name": "ProgressStyleModel",
            "description_width": "initial",
            "_view_module": "@jupyter-widgets/base",
            "_model_module_version": "1.5.0",
            "_view_count": null,
            "_view_module_version": "1.2.0",
            "bar_color": null,
            "_model_module": "@jupyter-widgets/controls"
          }
        },
        "b998a6115cfc4dab8957a9f21e4db0bf": {
          "model_module": "@jupyter-widgets/base",
          "model_name": "LayoutModel",
          "state": {
            "_view_name": "LayoutView",
            "grid_template_rows": null,
            "right": null,
            "justify_content": null,
            "_view_module": "@jupyter-widgets/base",
            "overflow": null,
            "_model_module_version": "1.2.0",
            "_view_count": null,
            "flex_flow": null,
            "width": null,
            "min_width": null,
            "border": null,
            "align_items": null,
            "bottom": null,
            "_model_module": "@jupyter-widgets/base",
            "top": null,
            "grid_column": null,
            "overflow_y": null,
            "overflow_x": null,
            "grid_auto_flow": null,
            "grid_area": null,
            "grid_template_columns": null,
            "flex": null,
            "_model_name": "LayoutModel",
            "justify_items": null,
            "grid_row": null,
            "max_height": null,
            "align_content": null,
            "visibility": null,
            "align_self": null,
            "height": null,
            "min_height": null,
            "padding": null,
            "grid_auto_rows": null,
            "grid_gap": null,
            "max_width": null,
            "order": null,
            "_view_module_version": "1.2.0",
            "grid_template_areas": null,
            "object_position": null,
            "object_fit": null,
            "grid_auto_columns": null,
            "margin": null,
            "display": null,
            "left": null
          }
        },
        "af802409b83c4cef92a44f069f9f9756": {
          "model_module": "@jupyter-widgets/controls",
          "model_name": "DescriptionStyleModel",
          "state": {
            "_view_name": "StyleView",
            "_model_name": "DescriptionStyleModel",
            "description_width": "",
            "_view_module": "@jupyter-widgets/base",
            "_model_module_version": "1.5.0",
            "_view_count": null,
            "_view_module_version": "1.2.0",
            "_model_module": "@jupyter-widgets/controls"
          }
        },
        "a85a39189e024e17a711e6838cf2d556": {
          "model_module": "@jupyter-widgets/base",
          "model_name": "LayoutModel",
          "state": {
            "_view_name": "LayoutView",
            "grid_template_rows": null,
            "right": null,
            "justify_content": null,
            "_view_module": "@jupyter-widgets/base",
            "overflow": null,
            "_model_module_version": "1.2.0",
            "_view_count": null,
            "flex_flow": null,
            "width": null,
            "min_width": null,
            "border": null,
            "align_items": null,
            "bottom": null,
            "_model_module": "@jupyter-widgets/base",
            "top": null,
            "grid_column": null,
            "overflow_y": null,
            "overflow_x": null,
            "grid_auto_flow": null,
            "grid_area": null,
            "grid_template_columns": null,
            "flex": null,
            "_model_name": "LayoutModel",
            "justify_items": null,
            "grid_row": null,
            "max_height": null,
            "align_content": null,
            "visibility": null,
            "align_self": null,
            "height": null,
            "min_height": null,
            "padding": null,
            "grid_auto_rows": null,
            "grid_gap": null,
            "max_width": null,
            "order": null,
            "_view_module_version": "1.2.0",
            "grid_template_areas": null,
            "object_position": null,
            "object_fit": null,
            "grid_auto_columns": null,
            "margin": null,
            "display": null,
            "left": null
          }
        },
        "04ed78d2e9ac4710a07ab3f61c91a78d": {
          "model_module": "@jupyter-widgets/controls",
          "model_name": "HBoxModel",
          "state": {
            "_view_name": "HBoxView",
            "_dom_classes": [],
            "_model_name": "HBoxModel",
            "_view_module": "@jupyter-widgets/controls",
            "_model_module_version": "1.5.0",
            "_view_count": null,
            "_view_module_version": "1.5.0",
            "box_style": "",
            "layout": "IPY_MODEL_766ea063628e4a6b93ccc2fb8c05fb7c",
            "_model_module": "@jupyter-widgets/controls",
            "children": [
              "IPY_MODEL_7c30b95595e3409db2ef7fde03ccd1dd",
              "IPY_MODEL_9e14921f03dc4b6ba06bc0d35d3c9b5c"
            ]
          }
        },
        "766ea063628e4a6b93ccc2fb8c05fb7c": {
          "model_module": "@jupyter-widgets/base",
          "model_name": "LayoutModel",
          "state": {
            "_view_name": "LayoutView",
            "grid_template_rows": null,
            "right": null,
            "justify_content": null,
            "_view_module": "@jupyter-widgets/base",
            "overflow": null,
            "_model_module_version": "1.2.0",
            "_view_count": null,
            "flex_flow": null,
            "width": null,
            "min_width": null,
            "border": null,
            "align_items": null,
            "bottom": null,
            "_model_module": "@jupyter-widgets/base",
            "top": null,
            "grid_column": null,
            "overflow_y": null,
            "overflow_x": null,
            "grid_auto_flow": null,
            "grid_area": null,
            "grid_template_columns": null,
            "flex": null,
            "_model_name": "LayoutModel",
            "justify_items": null,
            "grid_row": null,
            "max_height": null,
            "align_content": null,
            "visibility": null,
            "align_self": null,
            "height": null,
            "min_height": null,
            "padding": null,
            "grid_auto_rows": null,
            "grid_gap": null,
            "max_width": null,
            "order": null,
            "_view_module_version": "1.2.0",
            "grid_template_areas": null,
            "object_position": null,
            "object_fit": null,
            "grid_auto_columns": null,
            "margin": null,
            "display": null,
            "left": null
          }
        },
        "7c30b95595e3409db2ef7fde03ccd1dd": {
          "model_module": "@jupyter-widgets/controls",
          "model_name": "FloatProgressModel",
          "state": {
            "_view_name": "ProgressView",
            "style": "IPY_MODEL_656a615931bf485eb1708b83831ebb5a",
            "_dom_classes": [],
            "description": "#2: 100%",
            "_model_name": "FloatProgressModel",
            "bar_style": "success",
            "max": 605,
            "_view_module": "@jupyter-widgets/controls",
            "_model_module_version": "1.5.0",
            "value": 605,
            "_view_count": null,
            "_view_module_version": "1.5.0",
            "orientation": "horizontal",
            "min": 0,
            "description_tooltip": null,
            "_model_module": "@jupyter-widgets/controls",
            "layout": "IPY_MODEL_f98a607ca94e4eb1b88f416f288dc2ee"
          }
        },
        "9e14921f03dc4b6ba06bc0d35d3c9b5c": {
          "model_module": "@jupyter-widgets/controls",
          "model_name": "HTMLModel",
          "state": {
            "_view_name": "HTMLView",
            "style": "IPY_MODEL_4d1701fc70374fd3af8947e502ca7d52",
            "_dom_classes": [],
            "description": "",
            "_model_name": "HTMLModel",
            "placeholder": "​",
            "_view_module": "@jupyter-widgets/controls",
            "_model_module_version": "1.5.0",
            "value": " 605/605 [04:27&lt;00:00,  2.26ex/s]",
            "_view_count": null,
            "_view_module_version": "1.5.0",
            "description_tooltip": null,
            "_model_module": "@jupyter-widgets/controls",
            "layout": "IPY_MODEL_ec954704bcdb4b13adab2e3e5666dd18"
          }
        },
        "656a615931bf485eb1708b83831ebb5a": {
          "model_module": "@jupyter-widgets/controls",
          "model_name": "ProgressStyleModel",
          "state": {
            "_view_name": "StyleView",
            "_model_name": "ProgressStyleModel",
            "description_width": "initial",
            "_view_module": "@jupyter-widgets/base",
            "_model_module_version": "1.5.0",
            "_view_count": null,
            "_view_module_version": "1.2.0",
            "bar_color": null,
            "_model_module": "@jupyter-widgets/controls"
          }
        },
        "f98a607ca94e4eb1b88f416f288dc2ee": {
          "model_module": "@jupyter-widgets/base",
          "model_name": "LayoutModel",
          "state": {
            "_view_name": "LayoutView",
            "grid_template_rows": null,
            "right": null,
            "justify_content": null,
            "_view_module": "@jupyter-widgets/base",
            "overflow": null,
            "_model_module_version": "1.2.0",
            "_view_count": null,
            "flex_flow": null,
            "width": null,
            "min_width": null,
            "border": null,
            "align_items": null,
            "bottom": null,
            "_model_module": "@jupyter-widgets/base",
            "top": null,
            "grid_column": null,
            "overflow_y": null,
            "overflow_x": null,
            "grid_auto_flow": null,
            "grid_area": null,
            "grid_template_columns": null,
            "flex": null,
            "_model_name": "LayoutModel",
            "justify_items": null,
            "grid_row": null,
            "max_height": null,
            "align_content": null,
            "visibility": null,
            "align_self": null,
            "height": null,
            "min_height": null,
            "padding": null,
            "grid_auto_rows": null,
            "grid_gap": null,
            "max_width": null,
            "order": null,
            "_view_module_version": "1.2.0",
            "grid_template_areas": null,
            "object_position": null,
            "object_fit": null,
            "grid_auto_columns": null,
            "margin": null,
            "display": null,
            "left": null
          }
        },
        "4d1701fc70374fd3af8947e502ca7d52": {
          "model_module": "@jupyter-widgets/controls",
          "model_name": "DescriptionStyleModel",
          "state": {
            "_view_name": "StyleView",
            "_model_name": "DescriptionStyleModel",
            "description_width": "",
            "_view_module": "@jupyter-widgets/base",
            "_model_module_version": "1.5.0",
            "_view_count": null,
            "_view_module_version": "1.2.0",
            "_model_module": "@jupyter-widgets/controls"
          }
        },
        "ec954704bcdb4b13adab2e3e5666dd18": {
          "model_module": "@jupyter-widgets/base",
          "model_name": "LayoutModel",
          "state": {
            "_view_name": "LayoutView",
            "grid_template_rows": null,
            "right": null,
            "justify_content": null,
            "_view_module": "@jupyter-widgets/base",
            "overflow": null,
            "_model_module_version": "1.2.0",
            "_view_count": null,
            "flex_flow": null,
            "width": null,
            "min_width": null,
            "border": null,
            "align_items": null,
            "bottom": null,
            "_model_module": "@jupyter-widgets/base",
            "top": null,
            "grid_column": null,
            "overflow_y": null,
            "overflow_x": null,
            "grid_auto_flow": null,
            "grid_area": null,
            "grid_template_columns": null,
            "flex": null,
            "_model_name": "LayoutModel",
            "justify_items": null,
            "grid_row": null,
            "max_height": null,
            "align_content": null,
            "visibility": null,
            "align_self": null,
            "height": null,
            "min_height": null,
            "padding": null,
            "grid_auto_rows": null,
            "grid_gap": null,
            "max_width": null,
            "order": null,
            "_view_module_version": "1.2.0",
            "grid_template_areas": null,
            "object_position": null,
            "object_fit": null,
            "grid_auto_columns": null,
            "margin": null,
            "display": null,
            "left": null
          }
        },
        "7277337562784c66a9efaa190f031d66": {
          "model_module": "@jupyter-widgets/controls",
          "model_name": "HBoxModel",
          "state": {
            "_view_name": "HBoxView",
            "_dom_classes": [],
            "_model_name": "HBoxModel",
            "_view_module": "@jupyter-widgets/controls",
            "_model_module_version": "1.5.0",
            "_view_count": null,
            "_view_module_version": "1.5.0",
            "box_style": "",
            "layout": "IPY_MODEL_864b1cf708d0416eab7546385a81fa0c",
            "_model_module": "@jupyter-widgets/controls",
            "children": [
              "IPY_MODEL_60fcb5989214429bae6b7bb9ee4e778b",
              "IPY_MODEL_d0f76dcf6b5e48e9ad2382981116f07c"
            ]
          }
        },
        "864b1cf708d0416eab7546385a81fa0c": {
          "model_module": "@jupyter-widgets/base",
          "model_name": "LayoutModel",
          "state": {
            "_view_name": "LayoutView",
            "grid_template_rows": null,
            "right": null,
            "justify_content": null,
            "_view_module": "@jupyter-widgets/base",
            "overflow": null,
            "_model_module_version": "1.2.0",
            "_view_count": null,
            "flex_flow": null,
            "width": null,
            "min_width": null,
            "border": null,
            "align_items": null,
            "bottom": null,
            "_model_module": "@jupyter-widgets/base",
            "top": null,
            "grid_column": null,
            "overflow_y": null,
            "overflow_x": null,
            "grid_auto_flow": null,
            "grid_area": null,
            "grid_template_columns": null,
            "flex": null,
            "_model_name": "LayoutModel",
            "justify_items": null,
            "grid_row": null,
            "max_height": null,
            "align_content": null,
            "visibility": null,
            "align_self": null,
            "height": null,
            "min_height": null,
            "padding": null,
            "grid_auto_rows": null,
            "grid_gap": null,
            "max_width": null,
            "order": null,
            "_view_module_version": "1.2.0",
            "grid_template_areas": null,
            "object_position": null,
            "object_fit": null,
            "grid_auto_columns": null,
            "margin": null,
            "display": null,
            "left": null
          }
        },
        "60fcb5989214429bae6b7bb9ee4e778b": {
          "model_module": "@jupyter-widgets/controls",
          "model_name": "FloatProgressModel",
          "state": {
            "_view_name": "ProgressView",
            "style": "IPY_MODEL_73c0614a928b489490231f62e08095ad",
            "_dom_classes": [],
            "description": "#1: 100%",
            "_model_name": "FloatProgressModel",
            "bar_style": "success",
            "max": 121,
            "_view_module": "@jupyter-widgets/controls",
            "_model_module_version": "1.5.0",
            "value": 121,
            "_view_count": null,
            "_view_module_version": "1.5.0",
            "orientation": "horizontal",
            "min": 0,
            "description_tooltip": null,
            "_model_module": "@jupyter-widgets/controls",
            "layout": "IPY_MODEL_78ea6951b52b4ff491a7f85bf5ee7019"
          }
        },
        "d0f76dcf6b5e48e9ad2382981116f07c": {
          "model_module": "@jupyter-widgets/controls",
          "model_name": "HTMLModel",
          "state": {
            "_view_name": "HTMLView",
            "style": "IPY_MODEL_f9e77642f1184a7f8625ac8998280193",
            "_dom_classes": [],
            "description": "",
            "_model_name": "HTMLModel",
            "placeholder": "​",
            "_view_module": "@jupyter-widgets/controls",
            "_model_module_version": "1.5.0",
            "value": " 121/121 [00:54&lt;00:00,  2.22ex/s]",
            "_view_count": null,
            "_view_module_version": "1.5.0",
            "description_tooltip": null,
            "_model_module": "@jupyter-widgets/controls",
            "layout": "IPY_MODEL_bf7bff0a0ce34d3782df4bca263c7ff2"
          }
        },
        "73c0614a928b489490231f62e08095ad": {
          "model_module": "@jupyter-widgets/controls",
          "model_name": "ProgressStyleModel",
          "state": {
            "_view_name": "StyleView",
            "_model_name": "ProgressStyleModel",
            "description_width": "initial",
            "_view_module": "@jupyter-widgets/base",
            "_model_module_version": "1.5.0",
            "_view_count": null,
            "_view_module_version": "1.2.0",
            "bar_color": null,
            "_model_module": "@jupyter-widgets/controls"
          }
        },
        "78ea6951b52b4ff491a7f85bf5ee7019": {
          "model_module": "@jupyter-widgets/base",
          "model_name": "LayoutModel",
          "state": {
            "_view_name": "LayoutView",
            "grid_template_rows": null,
            "right": null,
            "justify_content": null,
            "_view_module": "@jupyter-widgets/base",
            "overflow": null,
            "_model_module_version": "1.2.0",
            "_view_count": null,
            "flex_flow": null,
            "width": null,
            "min_width": null,
            "border": null,
            "align_items": null,
            "bottom": null,
            "_model_module": "@jupyter-widgets/base",
            "top": null,
            "grid_column": null,
            "overflow_y": null,
            "overflow_x": null,
            "grid_auto_flow": null,
            "grid_area": null,
            "grid_template_columns": null,
            "flex": null,
            "_model_name": "LayoutModel",
            "justify_items": null,
            "grid_row": null,
            "max_height": null,
            "align_content": null,
            "visibility": null,
            "align_self": null,
            "height": null,
            "min_height": null,
            "padding": null,
            "grid_auto_rows": null,
            "grid_gap": null,
            "max_width": null,
            "order": null,
            "_view_module_version": "1.2.0",
            "grid_template_areas": null,
            "object_position": null,
            "object_fit": null,
            "grid_auto_columns": null,
            "margin": null,
            "display": null,
            "left": null
          }
        },
        "f9e77642f1184a7f8625ac8998280193": {
          "model_module": "@jupyter-widgets/controls",
          "model_name": "DescriptionStyleModel",
          "state": {
            "_view_name": "StyleView",
            "_model_name": "DescriptionStyleModel",
            "description_width": "",
            "_view_module": "@jupyter-widgets/base",
            "_model_module_version": "1.5.0",
            "_view_count": null,
            "_view_module_version": "1.2.0",
            "_model_module": "@jupyter-widgets/controls"
          }
        },
        "bf7bff0a0ce34d3782df4bca263c7ff2": {
          "model_module": "@jupyter-widgets/base",
          "model_name": "LayoutModel",
          "state": {
            "_view_name": "LayoutView",
            "grid_template_rows": null,
            "right": null,
            "justify_content": null,
            "_view_module": "@jupyter-widgets/base",
            "overflow": null,
            "_model_module_version": "1.2.0",
            "_view_count": null,
            "flex_flow": null,
            "width": null,
            "min_width": null,
            "border": null,
            "align_items": null,
            "bottom": null,
            "_model_module": "@jupyter-widgets/base",
            "top": null,
            "grid_column": null,
            "overflow_y": null,
            "overflow_x": null,
            "grid_auto_flow": null,
            "grid_area": null,
            "grid_template_columns": null,
            "flex": null,
            "_model_name": "LayoutModel",
            "justify_items": null,
            "grid_row": null,
            "max_height": null,
            "align_content": null,
            "visibility": null,
            "align_self": null,
            "height": null,
            "min_height": null,
            "padding": null,
            "grid_auto_rows": null,
            "grid_gap": null,
            "max_width": null,
            "order": null,
            "_view_module_version": "1.2.0",
            "grid_template_areas": null,
            "object_position": null,
            "object_fit": null,
            "grid_auto_columns": null,
            "margin": null,
            "display": null,
            "left": null
          }
        },
        "9e66949e8aab4c94bb729e79bf1cf7bd": {
          "model_module": "@jupyter-widgets/controls",
          "model_name": "HBoxModel",
          "state": {
            "_view_name": "HBoxView",
            "_dom_classes": [],
            "_model_name": "HBoxModel",
            "_view_module": "@jupyter-widgets/controls",
            "_model_module_version": "1.5.0",
            "_view_count": null,
            "_view_module_version": "1.5.0",
            "box_style": "",
            "layout": "IPY_MODEL_b1397ea6401e40929509323755a07c1a",
            "_model_module": "@jupyter-widgets/controls",
            "children": [
              "IPY_MODEL_5302d79c3717427c9c40286d352f0643",
              "IPY_MODEL_30f968546381446a84f4f5acfbc9409e"
            ]
          }
        },
        "b1397ea6401e40929509323755a07c1a": {
          "model_module": "@jupyter-widgets/base",
          "model_name": "LayoutModel",
          "state": {
            "_view_name": "LayoutView",
            "grid_template_rows": null,
            "right": null,
            "justify_content": null,
            "_view_module": "@jupyter-widgets/base",
            "overflow": null,
            "_model_module_version": "1.2.0",
            "_view_count": null,
            "flex_flow": null,
            "width": null,
            "min_width": null,
            "border": null,
            "align_items": null,
            "bottom": null,
            "_model_module": "@jupyter-widgets/base",
            "top": null,
            "grid_column": null,
            "overflow_y": null,
            "overflow_x": null,
            "grid_auto_flow": null,
            "grid_area": null,
            "grid_template_columns": null,
            "flex": null,
            "_model_name": "LayoutModel",
            "justify_items": null,
            "grid_row": null,
            "max_height": null,
            "align_content": null,
            "visibility": null,
            "align_self": null,
            "height": null,
            "min_height": null,
            "padding": null,
            "grid_auto_rows": null,
            "grid_gap": null,
            "max_width": null,
            "order": null,
            "_view_module_version": "1.2.0",
            "grid_template_areas": null,
            "object_position": null,
            "object_fit": null,
            "grid_auto_columns": null,
            "margin": null,
            "display": null,
            "left": null
          }
        },
        "5302d79c3717427c9c40286d352f0643": {
          "model_module": "@jupyter-widgets/controls",
          "model_name": "FloatProgressModel",
          "state": {
            "_view_name": "ProgressView",
            "style": "IPY_MODEL_48b22ece05c643a5bdbb95a0965d083f",
            "_dom_classes": [],
            "description": "#2: 100%",
            "_model_name": "FloatProgressModel",
            "bar_style": "success",
            "max": 121,
            "_view_module": "@jupyter-widgets/controls",
            "_model_module_version": "1.5.0",
            "value": 121,
            "_view_count": null,
            "_view_module_version": "1.5.0",
            "orientation": "horizontal",
            "min": 0,
            "description_tooltip": null,
            "_model_module": "@jupyter-widgets/controls",
            "layout": "IPY_MODEL_978710c9428c4f0a97ad514d7457fcc8"
          }
        },
        "30f968546381446a84f4f5acfbc9409e": {
          "model_module": "@jupyter-widgets/controls",
          "model_name": "HTMLModel",
          "state": {
            "_view_name": "HTMLView",
            "style": "IPY_MODEL_aa0bd6b200c141e19d3b600f211709a7",
            "_dom_classes": [],
            "description": "",
            "_model_name": "HTMLModel",
            "placeholder": "​",
            "_view_module": "@jupyter-widgets/controls",
            "_model_module_version": "1.5.0",
            "value": " 121/121 [00:56&lt;00:00,  2.13ex/s]",
            "_view_count": null,
            "_view_module_version": "1.5.0",
            "description_tooltip": null,
            "_model_module": "@jupyter-widgets/controls",
            "layout": "IPY_MODEL_c7814276a9ae4f7ca454f60e0d512522"
          }
        },
        "48b22ece05c643a5bdbb95a0965d083f": {
          "model_module": "@jupyter-widgets/controls",
          "model_name": "ProgressStyleModel",
          "state": {
            "_view_name": "StyleView",
            "_model_name": "ProgressStyleModel",
            "description_width": "initial",
            "_view_module": "@jupyter-widgets/base",
            "_model_module_version": "1.5.0",
            "_view_count": null,
            "_view_module_version": "1.2.0",
            "bar_color": null,
            "_model_module": "@jupyter-widgets/controls"
          }
        },
        "978710c9428c4f0a97ad514d7457fcc8": {
          "model_module": "@jupyter-widgets/base",
          "model_name": "LayoutModel",
          "state": {
            "_view_name": "LayoutView",
            "grid_template_rows": null,
            "right": null,
            "justify_content": null,
            "_view_module": "@jupyter-widgets/base",
            "overflow": null,
            "_model_module_version": "1.2.0",
            "_view_count": null,
            "flex_flow": null,
            "width": null,
            "min_width": null,
            "border": null,
            "align_items": null,
            "bottom": null,
            "_model_module": "@jupyter-widgets/base",
            "top": null,
            "grid_column": null,
            "overflow_y": null,
            "overflow_x": null,
            "grid_auto_flow": null,
            "grid_area": null,
            "grid_template_columns": null,
            "flex": null,
            "_model_name": "LayoutModel",
            "justify_items": null,
            "grid_row": null,
            "max_height": null,
            "align_content": null,
            "visibility": null,
            "align_self": null,
            "height": null,
            "min_height": null,
            "padding": null,
            "grid_auto_rows": null,
            "grid_gap": null,
            "max_width": null,
            "order": null,
            "_view_module_version": "1.2.0",
            "grid_template_areas": null,
            "object_position": null,
            "object_fit": null,
            "grid_auto_columns": null,
            "margin": null,
            "display": null,
            "left": null
          }
        },
        "aa0bd6b200c141e19d3b600f211709a7": {
          "model_module": "@jupyter-widgets/controls",
          "model_name": "DescriptionStyleModel",
          "state": {
            "_view_name": "StyleView",
            "_model_name": "DescriptionStyleModel",
            "description_width": "",
            "_view_module": "@jupyter-widgets/base",
            "_model_module_version": "1.5.0",
            "_view_count": null,
            "_view_module_version": "1.2.0",
            "_model_module": "@jupyter-widgets/controls"
          }
        },
        "c7814276a9ae4f7ca454f60e0d512522": {
          "model_module": "@jupyter-widgets/base",
          "model_name": "LayoutModel",
          "state": {
            "_view_name": "LayoutView",
            "grid_template_rows": null,
            "right": null,
            "justify_content": null,
            "_view_module": "@jupyter-widgets/base",
            "overflow": null,
            "_model_module_version": "1.2.0",
            "_view_count": null,
            "flex_flow": null,
            "width": null,
            "min_width": null,
            "border": null,
            "align_items": null,
            "bottom": null,
            "_model_module": "@jupyter-widgets/base",
            "top": null,
            "grid_column": null,
            "overflow_y": null,
            "overflow_x": null,
            "grid_auto_flow": null,
            "grid_area": null,
            "grid_template_columns": null,
            "flex": null,
            "_model_name": "LayoutModel",
            "justify_items": null,
            "grid_row": null,
            "max_height": null,
            "align_content": null,
            "visibility": null,
            "align_self": null,
            "height": null,
            "min_height": null,
            "padding": null,
            "grid_auto_rows": null,
            "grid_gap": null,
            "max_width": null,
            "order": null,
            "_view_module_version": "1.2.0",
            "grid_template_areas": null,
            "object_position": null,
            "object_fit": null,
            "grid_auto_columns": null,
            "margin": null,
            "display": null,
            "left": null
          }
        },
        "3976730ecf964249baa7047cd9fc4c6d": {
          "model_module": "@jupyter-widgets/controls",
          "model_name": "HBoxModel",
          "state": {
            "_view_name": "HBoxView",
            "_dom_classes": [],
            "_model_name": "HBoxModel",
            "_view_module": "@jupyter-widgets/controls",
            "_model_module_version": "1.5.0",
            "_view_count": null,
            "_view_module_version": "1.5.0",
            "box_style": "",
            "layout": "IPY_MODEL_e04d0ae919fe4dce8c96808d23f94cab",
            "_model_module": "@jupyter-widgets/controls",
            "children": [
              "IPY_MODEL_0e8be102a947417499b2f77f2164ad21",
              "IPY_MODEL_4fd8b27675af489faa4ba4b2ebc7c844"
            ]
          }
        },
        "e04d0ae919fe4dce8c96808d23f94cab": {
          "model_module": "@jupyter-widgets/base",
          "model_name": "LayoutModel",
          "state": {
            "_view_name": "LayoutView",
            "grid_template_rows": null,
            "right": null,
            "justify_content": null,
            "_view_module": "@jupyter-widgets/base",
            "overflow": null,
            "_model_module_version": "1.2.0",
            "_view_count": null,
            "flex_flow": null,
            "width": null,
            "min_width": null,
            "border": null,
            "align_items": null,
            "bottom": null,
            "_model_module": "@jupyter-widgets/base",
            "top": null,
            "grid_column": null,
            "overflow_y": null,
            "overflow_x": null,
            "grid_auto_flow": null,
            "grid_area": null,
            "grid_template_columns": null,
            "flex": null,
            "_model_name": "LayoutModel",
            "justify_items": null,
            "grid_row": null,
            "max_height": null,
            "align_content": null,
            "visibility": null,
            "align_self": null,
            "height": null,
            "min_height": null,
            "padding": null,
            "grid_auto_rows": null,
            "grid_gap": null,
            "max_width": null,
            "order": null,
            "_view_module_version": "1.2.0",
            "grid_template_areas": null,
            "object_position": null,
            "object_fit": null,
            "grid_auto_columns": null,
            "margin": null,
            "display": null,
            "left": null
          }
        },
        "0e8be102a947417499b2f77f2164ad21": {
          "model_module": "@jupyter-widgets/controls",
          "model_name": "FloatProgressModel",
          "state": {
            "_view_name": "ProgressView",
            "style": "IPY_MODEL_0d2f8311ebb44a459143f4c4b4023fac",
            "_dom_classes": [],
            "description": "#3: 100%",
            "_model_name": "FloatProgressModel",
            "bar_style": "success",
            "max": 121,
            "_view_module": "@jupyter-widgets/controls",
            "_model_module_version": "1.5.0",
            "value": 121,
            "_view_count": null,
            "_view_module_version": "1.5.0",
            "orientation": "horizontal",
            "min": 0,
            "description_tooltip": null,
            "_model_module": "@jupyter-widgets/controls",
            "layout": "IPY_MODEL_00d47e34e9c247909e2d70887abce33d"
          }
        },
        "4fd8b27675af489faa4ba4b2ebc7c844": {
          "model_module": "@jupyter-widgets/controls",
          "model_name": "HTMLModel",
          "state": {
            "_view_name": "HTMLView",
            "style": "IPY_MODEL_7be4a50f73774bcfaa25e7495b09fa70",
            "_dom_classes": [],
            "description": "",
            "_model_name": "HTMLModel",
            "placeholder": "​",
            "_view_module": "@jupyter-widgets/controls",
            "_model_module_version": "1.5.0",
            "value": " 121/121 [00:55&lt;00:00,  2.17ex/s]",
            "_view_count": null,
            "_view_module_version": "1.5.0",
            "description_tooltip": null,
            "_model_module": "@jupyter-widgets/controls",
            "layout": "IPY_MODEL_be16fbaf8c7c473cbfd3ce627f7940fb"
          }
        },
        "0d2f8311ebb44a459143f4c4b4023fac": {
          "model_module": "@jupyter-widgets/controls",
          "model_name": "ProgressStyleModel",
          "state": {
            "_view_name": "StyleView",
            "_model_name": "ProgressStyleModel",
            "description_width": "initial",
            "_view_module": "@jupyter-widgets/base",
            "_model_module_version": "1.5.0",
            "_view_count": null,
            "_view_module_version": "1.2.0",
            "bar_color": null,
            "_model_module": "@jupyter-widgets/controls"
          }
        },
        "00d47e34e9c247909e2d70887abce33d": {
          "model_module": "@jupyter-widgets/base",
          "model_name": "LayoutModel",
          "state": {
            "_view_name": "LayoutView",
            "grid_template_rows": null,
            "right": null,
            "justify_content": null,
            "_view_module": "@jupyter-widgets/base",
            "overflow": null,
            "_model_module_version": "1.2.0",
            "_view_count": null,
            "flex_flow": null,
            "width": null,
            "min_width": null,
            "border": null,
            "align_items": null,
            "bottom": null,
            "_model_module": "@jupyter-widgets/base",
            "top": null,
            "grid_column": null,
            "overflow_y": null,
            "overflow_x": null,
            "grid_auto_flow": null,
            "grid_area": null,
            "grid_template_columns": null,
            "flex": null,
            "_model_name": "LayoutModel",
            "justify_items": null,
            "grid_row": null,
            "max_height": null,
            "align_content": null,
            "visibility": null,
            "align_self": null,
            "height": null,
            "min_height": null,
            "padding": null,
            "grid_auto_rows": null,
            "grid_gap": null,
            "max_width": null,
            "order": null,
            "_view_module_version": "1.2.0",
            "grid_template_areas": null,
            "object_position": null,
            "object_fit": null,
            "grid_auto_columns": null,
            "margin": null,
            "display": null,
            "left": null
          }
        },
        "7be4a50f73774bcfaa25e7495b09fa70": {
          "model_module": "@jupyter-widgets/controls",
          "model_name": "DescriptionStyleModel",
          "state": {
            "_view_name": "StyleView",
            "_model_name": "DescriptionStyleModel",
            "description_width": "",
            "_view_module": "@jupyter-widgets/base",
            "_model_module_version": "1.5.0",
            "_view_count": null,
            "_view_module_version": "1.2.0",
            "_model_module": "@jupyter-widgets/controls"
          }
        },
        "be16fbaf8c7c473cbfd3ce627f7940fb": {
          "model_module": "@jupyter-widgets/base",
          "model_name": "LayoutModel",
          "state": {
            "_view_name": "LayoutView",
            "grid_template_rows": null,
            "right": null,
            "justify_content": null,
            "_view_module": "@jupyter-widgets/base",
            "overflow": null,
            "_model_module_version": "1.2.0",
            "_view_count": null,
            "flex_flow": null,
            "width": null,
            "min_width": null,
            "border": null,
            "align_items": null,
            "bottom": null,
            "_model_module": "@jupyter-widgets/base",
            "top": null,
            "grid_column": null,
            "overflow_y": null,
            "overflow_x": null,
            "grid_auto_flow": null,
            "grid_area": null,
            "grid_template_columns": null,
            "flex": null,
            "_model_name": "LayoutModel",
            "justify_items": null,
            "grid_row": null,
            "max_height": null,
            "align_content": null,
            "visibility": null,
            "align_self": null,
            "height": null,
            "min_height": null,
            "padding": null,
            "grid_auto_rows": null,
            "grid_gap": null,
            "max_width": null,
            "order": null,
            "_view_module_version": "1.2.0",
            "grid_template_areas": null,
            "object_position": null,
            "object_fit": null,
            "grid_auto_columns": null,
            "margin": null,
            "display": null,
            "left": null
          }
        },
        "c5dec05d11c44334abe6846ca3a7d433": {
          "model_module": "@jupyter-widgets/controls",
          "model_name": "HBoxModel",
          "state": {
            "_view_name": "HBoxView",
            "_dom_classes": [],
            "_model_name": "HBoxModel",
            "_view_module": "@jupyter-widgets/controls",
            "_model_module_version": "1.5.0",
            "_view_count": null,
            "_view_module_version": "1.5.0",
            "box_style": "",
            "layout": "IPY_MODEL_913cd9662fd14345b3ec3bf2ed5e9c8f",
            "_model_module": "@jupyter-widgets/controls",
            "children": [
              "IPY_MODEL_1f0e22e3e9a34999af3aeb73b2c35ebd",
              "IPY_MODEL_37232a38aeaa4f24b2cb4146e383fe34"
            ]
          }
        },
        "913cd9662fd14345b3ec3bf2ed5e9c8f": {
          "model_module": "@jupyter-widgets/base",
          "model_name": "LayoutModel",
          "state": {
            "_view_name": "LayoutView",
            "grid_template_rows": null,
            "right": null,
            "justify_content": null,
            "_view_module": "@jupyter-widgets/base",
            "overflow": null,
            "_model_module_version": "1.2.0",
            "_view_count": null,
            "flex_flow": null,
            "width": null,
            "min_width": null,
            "border": null,
            "align_items": null,
            "bottom": null,
            "_model_module": "@jupyter-widgets/base",
            "top": null,
            "grid_column": null,
            "overflow_y": null,
            "overflow_x": null,
            "grid_auto_flow": null,
            "grid_area": null,
            "grid_template_columns": null,
            "flex": null,
            "_model_name": "LayoutModel",
            "justify_items": null,
            "grid_row": null,
            "max_height": null,
            "align_content": null,
            "visibility": null,
            "align_self": null,
            "height": null,
            "min_height": null,
            "padding": null,
            "grid_auto_rows": null,
            "grid_gap": null,
            "max_width": null,
            "order": null,
            "_view_module_version": "1.2.0",
            "grid_template_areas": null,
            "object_position": null,
            "object_fit": null,
            "grid_auto_columns": null,
            "margin": null,
            "display": null,
            "left": null
          }
        },
        "1f0e22e3e9a34999af3aeb73b2c35ebd": {
          "model_module": "@jupyter-widgets/controls",
          "model_name": "FloatProgressModel",
          "state": {
            "_view_name": "ProgressView",
            "style": "IPY_MODEL_9bb8f1c9c59e4c2d9a30e3f848a0e3bd",
            "_dom_classes": [],
            "description": "#0: 100%",
            "_model_name": "FloatProgressModel",
            "bar_style": "success",
            "max": 121,
            "_view_module": "@jupyter-widgets/controls",
            "_model_module_version": "1.5.0",
            "value": 121,
            "_view_count": null,
            "_view_module_version": "1.5.0",
            "orientation": "horizontal",
            "min": 0,
            "description_tooltip": null,
            "_model_module": "@jupyter-widgets/controls",
            "layout": "IPY_MODEL_d6fda1ffdef54ccdb5331cf4ebd50935"
          }
        },
        "37232a38aeaa4f24b2cb4146e383fe34": {
          "model_module": "@jupyter-widgets/controls",
          "model_name": "HTMLModel",
          "state": {
            "_view_name": "HTMLView",
            "style": "IPY_MODEL_6f30b751b5bf45478e5b5f653d1c0c6b",
            "_dom_classes": [],
            "description": "",
            "_model_name": "HTMLModel",
            "placeholder": "​",
            "_view_module": "@jupyter-widgets/controls",
            "_model_module_version": "1.5.0",
            "value": " 121/121 [00:56&lt;00:00,  2.14ex/s]",
            "_view_count": null,
            "_view_module_version": "1.5.0",
            "description_tooltip": null,
            "_model_module": "@jupyter-widgets/controls",
            "layout": "IPY_MODEL_1811e61f5a4c4d80997c3b9ab31afb2b"
          }
        },
        "9bb8f1c9c59e4c2d9a30e3f848a0e3bd": {
          "model_module": "@jupyter-widgets/controls",
          "model_name": "ProgressStyleModel",
          "state": {
            "_view_name": "StyleView",
            "_model_name": "ProgressStyleModel",
            "description_width": "initial",
            "_view_module": "@jupyter-widgets/base",
            "_model_module_version": "1.5.0",
            "_view_count": null,
            "_view_module_version": "1.2.0",
            "bar_color": null,
            "_model_module": "@jupyter-widgets/controls"
          }
        },
        "d6fda1ffdef54ccdb5331cf4ebd50935": {
          "model_module": "@jupyter-widgets/base",
          "model_name": "LayoutModel",
          "state": {
            "_view_name": "LayoutView",
            "grid_template_rows": null,
            "right": null,
            "justify_content": null,
            "_view_module": "@jupyter-widgets/base",
            "overflow": null,
            "_model_module_version": "1.2.0",
            "_view_count": null,
            "flex_flow": null,
            "width": null,
            "min_width": null,
            "border": null,
            "align_items": null,
            "bottom": null,
            "_model_module": "@jupyter-widgets/base",
            "top": null,
            "grid_column": null,
            "overflow_y": null,
            "overflow_x": null,
            "grid_auto_flow": null,
            "grid_area": null,
            "grid_template_columns": null,
            "flex": null,
            "_model_name": "LayoutModel",
            "justify_items": null,
            "grid_row": null,
            "max_height": null,
            "align_content": null,
            "visibility": null,
            "align_self": null,
            "height": null,
            "min_height": null,
            "padding": null,
            "grid_auto_rows": null,
            "grid_gap": null,
            "max_width": null,
            "order": null,
            "_view_module_version": "1.2.0",
            "grid_template_areas": null,
            "object_position": null,
            "object_fit": null,
            "grid_auto_columns": null,
            "margin": null,
            "display": null,
            "left": null
          }
        },
        "6f30b751b5bf45478e5b5f653d1c0c6b": {
          "model_module": "@jupyter-widgets/controls",
          "model_name": "DescriptionStyleModel",
          "state": {
            "_view_name": "StyleView",
            "_model_name": "DescriptionStyleModel",
            "description_width": "",
            "_view_module": "@jupyter-widgets/base",
            "_model_module_version": "1.5.0",
            "_view_count": null,
            "_view_module_version": "1.2.0",
            "_model_module": "@jupyter-widgets/controls"
          }
        },
        "1811e61f5a4c4d80997c3b9ab31afb2b": {
          "model_module": "@jupyter-widgets/base",
          "model_name": "LayoutModel",
          "state": {
            "_view_name": "LayoutView",
            "grid_template_rows": null,
            "right": null,
            "justify_content": null,
            "_view_module": "@jupyter-widgets/base",
            "overflow": null,
            "_model_module_version": "1.2.0",
            "_view_count": null,
            "flex_flow": null,
            "width": null,
            "min_width": null,
            "border": null,
            "align_items": null,
            "bottom": null,
            "_model_module": "@jupyter-widgets/base",
            "top": null,
            "grid_column": null,
            "overflow_y": null,
            "overflow_x": null,
            "grid_auto_flow": null,
            "grid_area": null,
            "grid_template_columns": null,
            "flex": null,
            "_model_name": "LayoutModel",
            "justify_items": null,
            "grid_row": null,
            "max_height": null,
            "align_content": null,
            "visibility": null,
            "align_self": null,
            "height": null,
            "min_height": null,
            "padding": null,
            "grid_auto_rows": null,
            "grid_gap": null,
            "max_width": null,
            "order": null,
            "_view_module_version": "1.2.0",
            "grid_template_areas": null,
            "object_position": null,
            "object_fit": null,
            "grid_auto_columns": null,
            "margin": null,
            "display": null,
            "left": null
          }
        },
        "d98fed8f62b447e6bc681ecd7050b867": {
          "model_module": "@jupyter-widgets/controls",
          "model_name": "HBoxModel",
          "state": {
            "_view_name": "HBoxView",
            "_dom_classes": [],
            "_model_name": "HBoxModel",
            "_view_module": "@jupyter-widgets/controls",
            "_model_module_version": "1.5.0",
            "_view_count": null,
            "_view_module_version": "1.5.0",
            "box_style": "",
            "layout": "IPY_MODEL_122514c866a84462aee416b72814ba94",
            "_model_module": "@jupyter-widgets/controls",
            "children": [
              "IPY_MODEL_c64a3db4deff45cda05509bb4df2ec2a",
              "IPY_MODEL_4ff16f27bdc944eaa04b8e4cfea75bcd"
            ]
          }
        },
        "122514c866a84462aee416b72814ba94": {
          "model_module": "@jupyter-widgets/base",
          "model_name": "LayoutModel",
          "state": {
            "_view_name": "LayoutView",
            "grid_template_rows": null,
            "right": null,
            "justify_content": null,
            "_view_module": "@jupyter-widgets/base",
            "overflow": null,
            "_model_module_version": "1.2.0",
            "_view_count": null,
            "flex_flow": null,
            "width": null,
            "min_width": null,
            "border": null,
            "align_items": null,
            "bottom": null,
            "_model_module": "@jupyter-widgets/base",
            "top": null,
            "grid_column": null,
            "overflow_y": null,
            "overflow_x": null,
            "grid_auto_flow": null,
            "grid_area": null,
            "grid_template_columns": null,
            "flex": null,
            "_model_name": "LayoutModel",
            "justify_items": null,
            "grid_row": null,
            "max_height": null,
            "align_content": null,
            "visibility": null,
            "align_self": null,
            "height": null,
            "min_height": null,
            "padding": null,
            "grid_auto_rows": null,
            "grid_gap": null,
            "max_width": null,
            "order": null,
            "_view_module_version": "1.2.0",
            "grid_template_areas": null,
            "object_position": null,
            "object_fit": null,
            "grid_auto_columns": null,
            "margin": null,
            "display": null,
            "left": null
          }
        },
        "c64a3db4deff45cda05509bb4df2ec2a": {
          "model_module": "@jupyter-widgets/controls",
          "model_name": "FloatProgressModel",
          "state": {
            "_view_name": "ProgressView",
            "style": "IPY_MODEL_bc7daa5c90374c1f9ea089b113966209",
            "_dom_classes": [],
            "description": "#0: 100%",
            "_model_name": "FloatProgressModel",
            "bar_style": "success",
            "max": 76,
            "_view_module": "@jupyter-widgets/controls",
            "_model_module_version": "1.5.0",
            "value": 76,
            "_view_count": null,
            "_view_module_version": "1.5.0",
            "orientation": "horizontal",
            "min": 0,
            "description_tooltip": null,
            "_model_module": "@jupyter-widgets/controls",
            "layout": "IPY_MODEL_6a0055e9d0974508a365976009ddef12"
          }
        },
        "4ff16f27bdc944eaa04b8e4cfea75bcd": {
          "model_module": "@jupyter-widgets/controls",
          "model_name": "HTMLModel",
          "state": {
            "_view_name": "HTMLView",
            "style": "IPY_MODEL_aaa0e0c91730471c998993046747a7a6",
            "_dom_classes": [],
            "description": "",
            "_model_name": "HTMLModel",
            "placeholder": "​",
            "_view_module": "@jupyter-widgets/controls",
            "_model_module_version": "1.5.0",
            "value": " 76/76 [00:45&lt;00:00,  1.66ba/s]",
            "_view_count": null,
            "_view_module_version": "1.5.0",
            "description_tooltip": null,
            "_model_module": "@jupyter-widgets/controls",
            "layout": "IPY_MODEL_b88fccb823a14a4bae447195f24fceb9"
          }
        },
        "bc7daa5c90374c1f9ea089b113966209": {
          "model_module": "@jupyter-widgets/controls",
          "model_name": "ProgressStyleModel",
          "state": {
            "_view_name": "StyleView",
            "_model_name": "ProgressStyleModel",
            "description_width": "initial",
            "_view_module": "@jupyter-widgets/base",
            "_model_module_version": "1.5.0",
            "_view_count": null,
            "_view_module_version": "1.2.0",
            "bar_color": null,
            "_model_module": "@jupyter-widgets/controls"
          }
        },
        "6a0055e9d0974508a365976009ddef12": {
          "model_module": "@jupyter-widgets/base",
          "model_name": "LayoutModel",
          "state": {
            "_view_name": "LayoutView",
            "grid_template_rows": null,
            "right": null,
            "justify_content": null,
            "_view_module": "@jupyter-widgets/base",
            "overflow": null,
            "_model_module_version": "1.2.0",
            "_view_count": null,
            "flex_flow": null,
            "width": null,
            "min_width": null,
            "border": null,
            "align_items": null,
            "bottom": null,
            "_model_module": "@jupyter-widgets/base",
            "top": null,
            "grid_column": null,
            "overflow_y": null,
            "overflow_x": null,
            "grid_auto_flow": null,
            "grid_area": null,
            "grid_template_columns": null,
            "flex": null,
            "_model_name": "LayoutModel",
            "justify_items": null,
            "grid_row": null,
            "max_height": null,
            "align_content": null,
            "visibility": null,
            "align_self": null,
            "height": null,
            "min_height": null,
            "padding": null,
            "grid_auto_rows": null,
            "grid_gap": null,
            "max_width": null,
            "order": null,
            "_view_module_version": "1.2.0",
            "grid_template_areas": null,
            "object_position": null,
            "object_fit": null,
            "grid_auto_columns": null,
            "margin": null,
            "display": null,
            "left": null
          }
        },
        "aaa0e0c91730471c998993046747a7a6": {
          "model_module": "@jupyter-widgets/controls",
          "model_name": "DescriptionStyleModel",
          "state": {
            "_view_name": "StyleView",
            "_model_name": "DescriptionStyleModel",
            "description_width": "",
            "_view_module": "@jupyter-widgets/base",
            "_model_module_version": "1.5.0",
            "_view_count": null,
            "_view_module_version": "1.2.0",
            "_model_module": "@jupyter-widgets/controls"
          }
        },
        "b88fccb823a14a4bae447195f24fceb9": {
          "model_module": "@jupyter-widgets/base",
          "model_name": "LayoutModel",
          "state": {
            "_view_name": "LayoutView",
            "grid_template_rows": null,
            "right": null,
            "justify_content": null,
            "_view_module": "@jupyter-widgets/base",
            "overflow": null,
            "_model_module_version": "1.2.0",
            "_view_count": null,
            "flex_flow": null,
            "width": null,
            "min_width": null,
            "border": null,
            "align_items": null,
            "bottom": null,
            "_model_module": "@jupyter-widgets/base",
            "top": null,
            "grid_column": null,
            "overflow_y": null,
            "overflow_x": null,
            "grid_auto_flow": null,
            "grid_area": null,
            "grid_template_columns": null,
            "flex": null,
            "_model_name": "LayoutModel",
            "justify_items": null,
            "grid_row": null,
            "max_height": null,
            "align_content": null,
            "visibility": null,
            "align_self": null,
            "height": null,
            "min_height": null,
            "padding": null,
            "grid_auto_rows": null,
            "grid_gap": null,
            "max_width": null,
            "order": null,
            "_view_module_version": "1.2.0",
            "grid_template_areas": null,
            "object_position": null,
            "object_fit": null,
            "grid_auto_columns": null,
            "margin": null,
            "display": null,
            "left": null
          }
        },
        "2e3ee7b1bdae4a2c8bd52fbac6d0fabb": {
          "model_module": "@jupyter-widgets/controls",
          "model_name": "HBoxModel",
          "state": {
            "_view_name": "HBoxView",
            "_dom_classes": [],
            "_model_name": "HBoxModel",
            "_view_module": "@jupyter-widgets/controls",
            "_model_module_version": "1.5.0",
            "_view_count": null,
            "_view_module_version": "1.5.0",
            "box_style": "",
            "layout": "IPY_MODEL_ac397a749f7748fc9e043ba7e9e252a3",
            "_model_module": "@jupyter-widgets/controls",
            "children": [
              "IPY_MODEL_3536182c6b0246f8a0178d93bf3914be",
              "IPY_MODEL_131472994e5d4b31a9bc54f3b9578f53"
            ]
          }
        },
        "ac397a749f7748fc9e043ba7e9e252a3": {
          "model_module": "@jupyter-widgets/base",
          "model_name": "LayoutModel",
          "state": {
            "_view_name": "LayoutView",
            "grid_template_rows": null,
            "right": null,
            "justify_content": null,
            "_view_module": "@jupyter-widgets/base",
            "overflow": null,
            "_model_module_version": "1.2.0",
            "_view_count": null,
            "flex_flow": null,
            "width": null,
            "min_width": null,
            "border": null,
            "align_items": null,
            "bottom": null,
            "_model_module": "@jupyter-widgets/base",
            "top": null,
            "grid_column": null,
            "overflow_y": null,
            "overflow_x": null,
            "grid_auto_flow": null,
            "grid_area": null,
            "grid_template_columns": null,
            "flex": null,
            "_model_name": "LayoutModel",
            "justify_items": null,
            "grid_row": null,
            "max_height": null,
            "align_content": null,
            "visibility": null,
            "align_self": null,
            "height": null,
            "min_height": null,
            "padding": null,
            "grid_auto_rows": null,
            "grid_gap": null,
            "max_width": null,
            "order": null,
            "_view_module_version": "1.2.0",
            "grid_template_areas": null,
            "object_position": null,
            "object_fit": null,
            "grid_auto_columns": null,
            "margin": null,
            "display": null,
            "left": null
          }
        },
        "3536182c6b0246f8a0178d93bf3914be": {
          "model_module": "@jupyter-widgets/controls",
          "model_name": "FloatProgressModel",
          "state": {
            "_view_name": "ProgressView",
            "style": "IPY_MODEL_137e00b62e824c20884493cfcff15146",
            "_dom_classes": [],
            "description": "#1: 100%",
            "_model_name": "FloatProgressModel",
            "bar_style": "success",
            "max": 76,
            "_view_module": "@jupyter-widgets/controls",
            "_model_module_version": "1.5.0",
            "value": 76,
            "_view_count": null,
            "_view_module_version": "1.5.0",
            "orientation": "horizontal",
            "min": 0,
            "description_tooltip": null,
            "_model_module": "@jupyter-widgets/controls",
            "layout": "IPY_MODEL_c805ce6e4fb34941ac4e05caf9db9700"
          }
        },
        "131472994e5d4b31a9bc54f3b9578f53": {
          "model_module": "@jupyter-widgets/controls",
          "model_name": "HTMLModel",
          "state": {
            "_view_name": "HTMLView",
            "style": "IPY_MODEL_5485f9ef43754f02abf04db6cbcf032d",
            "_dom_classes": [],
            "description": "",
            "_model_name": "HTMLModel",
            "placeholder": "​",
            "_view_module": "@jupyter-widgets/controls",
            "_model_module_version": "1.5.0",
            "value": " 76/76 [00:48&lt;00:00,  1.57ba/s]",
            "_view_count": null,
            "_view_module_version": "1.5.0",
            "description_tooltip": null,
            "_model_module": "@jupyter-widgets/controls",
            "layout": "IPY_MODEL_37e9d2974a034451b1d090c803329fca"
          }
        },
        "137e00b62e824c20884493cfcff15146": {
          "model_module": "@jupyter-widgets/controls",
          "model_name": "ProgressStyleModel",
          "state": {
            "_view_name": "StyleView",
            "_model_name": "ProgressStyleModel",
            "description_width": "initial",
            "_view_module": "@jupyter-widgets/base",
            "_model_module_version": "1.5.0",
            "_view_count": null,
            "_view_module_version": "1.2.0",
            "bar_color": null,
            "_model_module": "@jupyter-widgets/controls"
          }
        },
        "c805ce6e4fb34941ac4e05caf9db9700": {
          "model_module": "@jupyter-widgets/base",
          "model_name": "LayoutModel",
          "state": {
            "_view_name": "LayoutView",
            "grid_template_rows": null,
            "right": null,
            "justify_content": null,
            "_view_module": "@jupyter-widgets/base",
            "overflow": null,
            "_model_module_version": "1.2.0",
            "_view_count": null,
            "flex_flow": null,
            "width": null,
            "min_width": null,
            "border": null,
            "align_items": null,
            "bottom": null,
            "_model_module": "@jupyter-widgets/base",
            "top": null,
            "grid_column": null,
            "overflow_y": null,
            "overflow_x": null,
            "grid_auto_flow": null,
            "grid_area": null,
            "grid_template_columns": null,
            "flex": null,
            "_model_name": "LayoutModel",
            "justify_items": null,
            "grid_row": null,
            "max_height": null,
            "align_content": null,
            "visibility": null,
            "align_self": null,
            "height": null,
            "min_height": null,
            "padding": null,
            "grid_auto_rows": null,
            "grid_gap": null,
            "max_width": null,
            "order": null,
            "_view_module_version": "1.2.0",
            "grid_template_areas": null,
            "object_position": null,
            "object_fit": null,
            "grid_auto_columns": null,
            "margin": null,
            "display": null,
            "left": null
          }
        },
        "5485f9ef43754f02abf04db6cbcf032d": {
          "model_module": "@jupyter-widgets/controls",
          "model_name": "DescriptionStyleModel",
          "state": {
            "_view_name": "StyleView",
            "_model_name": "DescriptionStyleModel",
            "description_width": "",
            "_view_module": "@jupyter-widgets/base",
            "_model_module_version": "1.5.0",
            "_view_count": null,
            "_view_module_version": "1.2.0",
            "_model_module": "@jupyter-widgets/controls"
          }
        },
        "37e9d2974a034451b1d090c803329fca": {
          "model_module": "@jupyter-widgets/base",
          "model_name": "LayoutModel",
          "state": {
            "_view_name": "LayoutView",
            "grid_template_rows": null,
            "right": null,
            "justify_content": null,
            "_view_module": "@jupyter-widgets/base",
            "overflow": null,
            "_model_module_version": "1.2.0",
            "_view_count": null,
            "flex_flow": null,
            "width": null,
            "min_width": null,
            "border": null,
            "align_items": null,
            "bottom": null,
            "_model_module": "@jupyter-widgets/base",
            "top": null,
            "grid_column": null,
            "overflow_y": null,
            "overflow_x": null,
            "grid_auto_flow": null,
            "grid_area": null,
            "grid_template_columns": null,
            "flex": null,
            "_model_name": "LayoutModel",
            "justify_items": null,
            "grid_row": null,
            "max_height": null,
            "align_content": null,
            "visibility": null,
            "align_self": null,
            "height": null,
            "min_height": null,
            "padding": null,
            "grid_auto_rows": null,
            "grid_gap": null,
            "max_width": null,
            "order": null,
            "_view_module_version": "1.2.0",
            "grid_template_areas": null,
            "object_position": null,
            "object_fit": null,
            "grid_auto_columns": null,
            "margin": null,
            "display": null,
            "left": null
          }
        },
        "0a921a9ff43f4b5b817295f7a617f7f2": {
          "model_module": "@jupyter-widgets/controls",
          "model_name": "HBoxModel",
          "state": {
            "_view_name": "HBoxView",
            "_dom_classes": [],
            "_model_name": "HBoxModel",
            "_view_module": "@jupyter-widgets/controls",
            "_model_module_version": "1.5.0",
            "_view_count": null,
            "_view_module_version": "1.5.0",
            "box_style": "",
            "layout": "IPY_MODEL_85ff11656b9d4d5c86eda5afe2702e5e",
            "_model_module": "@jupyter-widgets/controls",
            "children": [
              "IPY_MODEL_1c0a6dacdca3409684aba4c0c2c0d917",
              "IPY_MODEL_576158b90b6e41ca8696eb6929f83a76"
            ]
          }
        },
        "85ff11656b9d4d5c86eda5afe2702e5e": {
          "model_module": "@jupyter-widgets/base",
          "model_name": "LayoutModel",
          "state": {
            "_view_name": "LayoutView",
            "grid_template_rows": null,
            "right": null,
            "justify_content": null,
            "_view_module": "@jupyter-widgets/base",
            "overflow": null,
            "_model_module_version": "1.2.0",
            "_view_count": null,
            "flex_flow": null,
            "width": null,
            "min_width": null,
            "border": null,
            "align_items": null,
            "bottom": null,
            "_model_module": "@jupyter-widgets/base",
            "top": null,
            "grid_column": null,
            "overflow_y": null,
            "overflow_x": null,
            "grid_auto_flow": null,
            "grid_area": null,
            "grid_template_columns": null,
            "flex": null,
            "_model_name": "LayoutModel",
            "justify_items": null,
            "grid_row": null,
            "max_height": null,
            "align_content": null,
            "visibility": null,
            "align_self": null,
            "height": null,
            "min_height": null,
            "padding": null,
            "grid_auto_rows": null,
            "grid_gap": null,
            "max_width": null,
            "order": null,
            "_view_module_version": "1.2.0",
            "grid_template_areas": null,
            "object_position": null,
            "object_fit": null,
            "grid_auto_columns": null,
            "margin": null,
            "display": null,
            "left": null
          }
        },
        "1c0a6dacdca3409684aba4c0c2c0d917": {
          "model_module": "@jupyter-widgets/controls",
          "model_name": "FloatProgressModel",
          "state": {
            "_view_name": "ProgressView",
            "style": "IPY_MODEL_a71da67e1ed04caa9732255407d6aa2e",
            "_dom_classes": [],
            "description": "#3: 100%",
            "_model_name": "FloatProgressModel",
            "bar_style": "success",
            "max": 76,
            "_view_module": "@jupyter-widgets/controls",
            "_model_module_version": "1.5.0",
            "value": 76,
            "_view_count": null,
            "_view_module_version": "1.5.0",
            "orientation": "horizontal",
            "min": 0,
            "description_tooltip": null,
            "_model_module": "@jupyter-widgets/controls",
            "layout": "IPY_MODEL_49c40b1de92b42ac83f63cdc216538b2"
          }
        },
        "576158b90b6e41ca8696eb6929f83a76": {
          "model_module": "@jupyter-widgets/controls",
          "model_name": "HTMLModel",
          "state": {
            "_view_name": "HTMLView",
            "style": "IPY_MODEL_421db3d0a06540839029ad70963b5048",
            "_dom_classes": [],
            "description": "",
            "_model_name": "HTMLModel",
            "placeholder": "​",
            "_view_module": "@jupyter-widgets/controls",
            "_model_module_version": "1.5.0",
            "value": " 76/76 [00:46&lt;00:00,  1.64ba/s]",
            "_view_count": null,
            "_view_module_version": "1.5.0",
            "description_tooltip": null,
            "_model_module": "@jupyter-widgets/controls",
            "layout": "IPY_MODEL_c7b1d339efc04d91883246f7ed450283"
          }
        },
        "a71da67e1ed04caa9732255407d6aa2e": {
          "model_module": "@jupyter-widgets/controls",
          "model_name": "ProgressStyleModel",
          "state": {
            "_view_name": "StyleView",
            "_model_name": "ProgressStyleModel",
            "description_width": "initial",
            "_view_module": "@jupyter-widgets/base",
            "_model_module_version": "1.5.0",
            "_view_count": null,
            "_view_module_version": "1.2.0",
            "bar_color": null,
            "_model_module": "@jupyter-widgets/controls"
          }
        },
        "49c40b1de92b42ac83f63cdc216538b2": {
          "model_module": "@jupyter-widgets/base",
          "model_name": "LayoutModel",
          "state": {
            "_view_name": "LayoutView",
            "grid_template_rows": null,
            "right": null,
            "justify_content": null,
            "_view_module": "@jupyter-widgets/base",
            "overflow": null,
            "_model_module_version": "1.2.0",
            "_view_count": null,
            "flex_flow": null,
            "width": null,
            "min_width": null,
            "border": null,
            "align_items": null,
            "bottom": null,
            "_model_module": "@jupyter-widgets/base",
            "top": null,
            "grid_column": null,
            "overflow_y": null,
            "overflow_x": null,
            "grid_auto_flow": null,
            "grid_area": null,
            "grid_template_columns": null,
            "flex": null,
            "_model_name": "LayoutModel",
            "justify_items": null,
            "grid_row": null,
            "max_height": null,
            "align_content": null,
            "visibility": null,
            "align_self": null,
            "height": null,
            "min_height": null,
            "padding": null,
            "grid_auto_rows": null,
            "grid_gap": null,
            "max_width": null,
            "order": null,
            "_view_module_version": "1.2.0",
            "grid_template_areas": null,
            "object_position": null,
            "object_fit": null,
            "grid_auto_columns": null,
            "margin": null,
            "display": null,
            "left": null
          }
        },
        "421db3d0a06540839029ad70963b5048": {
          "model_module": "@jupyter-widgets/controls",
          "model_name": "DescriptionStyleModel",
          "state": {
            "_view_name": "StyleView",
            "_model_name": "DescriptionStyleModel",
            "description_width": "",
            "_view_module": "@jupyter-widgets/base",
            "_model_module_version": "1.5.0",
            "_view_count": null,
            "_view_module_version": "1.2.0",
            "_model_module": "@jupyter-widgets/controls"
          }
        },
        "c7b1d339efc04d91883246f7ed450283": {
          "model_module": "@jupyter-widgets/base",
          "model_name": "LayoutModel",
          "state": {
            "_view_name": "LayoutView",
            "grid_template_rows": null,
            "right": null,
            "justify_content": null,
            "_view_module": "@jupyter-widgets/base",
            "overflow": null,
            "_model_module_version": "1.2.0",
            "_view_count": null,
            "flex_flow": null,
            "width": null,
            "min_width": null,
            "border": null,
            "align_items": null,
            "bottom": null,
            "_model_module": "@jupyter-widgets/base",
            "top": null,
            "grid_column": null,
            "overflow_y": null,
            "overflow_x": null,
            "grid_auto_flow": null,
            "grid_area": null,
            "grid_template_columns": null,
            "flex": null,
            "_model_name": "LayoutModel",
            "justify_items": null,
            "grid_row": null,
            "max_height": null,
            "align_content": null,
            "visibility": null,
            "align_self": null,
            "height": null,
            "min_height": null,
            "padding": null,
            "grid_auto_rows": null,
            "grid_gap": null,
            "max_width": null,
            "order": null,
            "_view_module_version": "1.2.0",
            "grid_template_areas": null,
            "object_position": null,
            "object_fit": null,
            "grid_auto_columns": null,
            "margin": null,
            "display": null,
            "left": null
          }
        },
        "d0303aed543d43cb8d63fb16d928fbf9": {
          "model_module": "@jupyter-widgets/controls",
          "model_name": "HBoxModel",
          "state": {
            "_view_name": "HBoxView",
            "_dom_classes": [],
            "_model_name": "HBoxModel",
            "_view_module": "@jupyter-widgets/controls",
            "_model_module_version": "1.5.0",
            "_view_count": null,
            "_view_module_version": "1.5.0",
            "box_style": "",
            "layout": "IPY_MODEL_a5af94a8e5f84edeaf185e2861c4203a",
            "_model_module": "@jupyter-widgets/controls",
            "children": [
              "IPY_MODEL_39714d17c81a4a3382839f5722481b77",
              "IPY_MODEL_940d9c0919834322ba394f444a7125b0"
            ]
          }
        },
        "a5af94a8e5f84edeaf185e2861c4203a": {
          "model_module": "@jupyter-widgets/base",
          "model_name": "LayoutModel",
          "state": {
            "_view_name": "LayoutView",
            "grid_template_rows": null,
            "right": null,
            "justify_content": null,
            "_view_module": "@jupyter-widgets/base",
            "overflow": null,
            "_model_module_version": "1.2.0",
            "_view_count": null,
            "flex_flow": null,
            "width": null,
            "min_width": null,
            "border": null,
            "align_items": null,
            "bottom": null,
            "_model_module": "@jupyter-widgets/base",
            "top": null,
            "grid_column": null,
            "overflow_y": null,
            "overflow_x": null,
            "grid_auto_flow": null,
            "grid_area": null,
            "grid_template_columns": null,
            "flex": null,
            "_model_name": "LayoutModel",
            "justify_items": null,
            "grid_row": null,
            "max_height": null,
            "align_content": null,
            "visibility": null,
            "align_self": null,
            "height": null,
            "min_height": null,
            "padding": null,
            "grid_auto_rows": null,
            "grid_gap": null,
            "max_width": null,
            "order": null,
            "_view_module_version": "1.2.0",
            "grid_template_areas": null,
            "object_position": null,
            "object_fit": null,
            "grid_auto_columns": null,
            "margin": null,
            "display": null,
            "left": null
          }
        },
        "39714d17c81a4a3382839f5722481b77": {
          "model_module": "@jupyter-widgets/controls",
          "model_name": "FloatProgressModel",
          "state": {
            "_view_name": "ProgressView",
            "style": "IPY_MODEL_828389e4fde3451e8ce64afbe9e96d52",
            "_dom_classes": [],
            "description": "#2: 100%",
            "_model_name": "FloatProgressModel",
            "bar_style": "success",
            "max": 76,
            "_view_module": "@jupyter-widgets/controls",
            "_model_module_version": "1.5.0",
            "value": 76,
            "_view_count": null,
            "_view_module_version": "1.5.0",
            "orientation": "horizontal",
            "min": 0,
            "description_tooltip": null,
            "_model_module": "@jupyter-widgets/controls",
            "layout": "IPY_MODEL_b60e0365ccb24b2f9b2e7c4e987d7335"
          }
        },
        "940d9c0919834322ba394f444a7125b0": {
          "model_module": "@jupyter-widgets/controls",
          "model_name": "HTMLModel",
          "state": {
            "_view_name": "HTMLView",
            "style": "IPY_MODEL_a8c9bc64b7e8452498718301d29ee1e7",
            "_dom_classes": [],
            "description": "",
            "_model_name": "HTMLModel",
            "placeholder": "​",
            "_view_module": "@jupyter-widgets/controls",
            "_model_module_version": "1.5.0",
            "value": " 76/76 [00:47&lt;00:00,  1.59ba/s]",
            "_view_count": null,
            "_view_module_version": "1.5.0",
            "description_tooltip": null,
            "_model_module": "@jupyter-widgets/controls",
            "layout": "IPY_MODEL_1a93caf192764da9a380830169dff87f"
          }
        },
        "828389e4fde3451e8ce64afbe9e96d52": {
          "model_module": "@jupyter-widgets/controls",
          "model_name": "ProgressStyleModel",
          "state": {
            "_view_name": "StyleView",
            "_model_name": "ProgressStyleModel",
            "description_width": "initial",
            "_view_module": "@jupyter-widgets/base",
            "_model_module_version": "1.5.0",
            "_view_count": null,
            "_view_module_version": "1.2.0",
            "bar_color": null,
            "_model_module": "@jupyter-widgets/controls"
          }
        },
        "b60e0365ccb24b2f9b2e7c4e987d7335": {
          "model_module": "@jupyter-widgets/base",
          "model_name": "LayoutModel",
          "state": {
            "_view_name": "LayoutView",
            "grid_template_rows": null,
            "right": null,
            "justify_content": null,
            "_view_module": "@jupyter-widgets/base",
            "overflow": null,
            "_model_module_version": "1.2.0",
            "_view_count": null,
            "flex_flow": null,
            "width": null,
            "min_width": null,
            "border": null,
            "align_items": null,
            "bottom": null,
            "_model_module": "@jupyter-widgets/base",
            "top": null,
            "grid_column": null,
            "overflow_y": null,
            "overflow_x": null,
            "grid_auto_flow": null,
            "grid_area": null,
            "grid_template_columns": null,
            "flex": null,
            "_model_name": "LayoutModel",
            "justify_items": null,
            "grid_row": null,
            "max_height": null,
            "align_content": null,
            "visibility": null,
            "align_self": null,
            "height": null,
            "min_height": null,
            "padding": null,
            "grid_auto_rows": null,
            "grid_gap": null,
            "max_width": null,
            "order": null,
            "_view_module_version": "1.2.0",
            "grid_template_areas": null,
            "object_position": null,
            "object_fit": null,
            "grid_auto_columns": null,
            "margin": null,
            "display": null,
            "left": null
          }
        },
        "a8c9bc64b7e8452498718301d29ee1e7": {
          "model_module": "@jupyter-widgets/controls",
          "model_name": "DescriptionStyleModel",
          "state": {
            "_view_name": "StyleView",
            "_model_name": "DescriptionStyleModel",
            "description_width": "",
            "_view_module": "@jupyter-widgets/base",
            "_model_module_version": "1.5.0",
            "_view_count": null,
            "_view_module_version": "1.2.0",
            "_model_module": "@jupyter-widgets/controls"
          }
        },
        "1a93caf192764da9a380830169dff87f": {
          "model_module": "@jupyter-widgets/base",
          "model_name": "LayoutModel",
          "state": {
            "_view_name": "LayoutView",
            "grid_template_rows": null,
            "right": null,
            "justify_content": null,
            "_view_module": "@jupyter-widgets/base",
            "overflow": null,
            "_model_module_version": "1.2.0",
            "_view_count": null,
            "flex_flow": null,
            "width": null,
            "min_width": null,
            "border": null,
            "align_items": null,
            "bottom": null,
            "_model_module": "@jupyter-widgets/base",
            "top": null,
            "grid_column": null,
            "overflow_y": null,
            "overflow_x": null,
            "grid_auto_flow": null,
            "grid_area": null,
            "grid_template_columns": null,
            "flex": null,
            "_model_name": "LayoutModel",
            "justify_items": null,
            "grid_row": null,
            "max_height": null,
            "align_content": null,
            "visibility": null,
            "align_self": null,
            "height": null,
            "min_height": null,
            "padding": null,
            "grid_auto_rows": null,
            "grid_gap": null,
            "max_width": null,
            "order": null,
            "_view_module_version": "1.2.0",
            "grid_template_areas": null,
            "object_position": null,
            "object_fit": null,
            "grid_auto_columns": null,
            "margin": null,
            "display": null,
            "left": null
          }
        },
        "1819259d8ee74574ba7e8792d3161fb6": {
          "model_module": "@jupyter-widgets/controls",
          "model_name": "HBoxModel",
          "state": {
            "_view_name": "HBoxView",
            "_dom_classes": [],
            "_model_name": "HBoxModel",
            "_view_module": "@jupyter-widgets/controls",
            "_model_module_version": "1.5.0",
            "_view_count": null,
            "_view_module_version": "1.5.0",
            "box_style": "",
            "layout": "IPY_MODEL_3f7d6ccbbf6e40c5916d6fd80ca69401",
            "_model_module": "@jupyter-widgets/controls",
            "children": [
              "IPY_MODEL_717a64a047334ea4800fa47fe6de8038",
              "IPY_MODEL_239acae3ad374609b0a97300a38dd799"
            ]
          }
        },
        "3f7d6ccbbf6e40c5916d6fd80ca69401": {
          "model_module": "@jupyter-widgets/base",
          "model_name": "LayoutModel",
          "state": {
            "_view_name": "LayoutView",
            "grid_template_rows": null,
            "right": null,
            "justify_content": null,
            "_view_module": "@jupyter-widgets/base",
            "overflow": null,
            "_model_module_version": "1.2.0",
            "_view_count": null,
            "flex_flow": null,
            "width": null,
            "min_width": null,
            "border": null,
            "align_items": null,
            "bottom": null,
            "_model_module": "@jupyter-widgets/base",
            "top": null,
            "grid_column": null,
            "overflow_y": null,
            "overflow_x": null,
            "grid_auto_flow": null,
            "grid_area": null,
            "grid_template_columns": null,
            "flex": null,
            "_model_name": "LayoutModel",
            "justify_items": null,
            "grid_row": null,
            "max_height": null,
            "align_content": null,
            "visibility": null,
            "align_self": null,
            "height": null,
            "min_height": null,
            "padding": null,
            "grid_auto_rows": null,
            "grid_gap": null,
            "max_width": null,
            "order": null,
            "_view_module_version": "1.2.0",
            "grid_template_areas": null,
            "object_position": null,
            "object_fit": null,
            "grid_auto_columns": null,
            "margin": null,
            "display": null,
            "left": null
          }
        },
        "717a64a047334ea4800fa47fe6de8038": {
          "model_module": "@jupyter-widgets/controls",
          "model_name": "FloatProgressModel",
          "state": {
            "_view_name": "ProgressView",
            "style": "IPY_MODEL_34e2732cab4841c0b8542124bafeb454",
            "_dom_classes": [],
            "description": "#1: 100%",
            "_model_name": "FloatProgressModel",
            "bar_style": "success",
            "max": 16,
            "_view_module": "@jupyter-widgets/controls",
            "_model_module_version": "1.5.0",
            "value": 16,
            "_view_count": null,
            "_view_module_version": "1.5.0",
            "orientation": "horizontal",
            "min": 0,
            "description_tooltip": null,
            "_model_module": "@jupyter-widgets/controls",
            "layout": "IPY_MODEL_f264fafca185471cacbacfba71d65de7"
          }
        },
        "239acae3ad374609b0a97300a38dd799": {
          "model_module": "@jupyter-widgets/controls",
          "model_name": "HTMLModel",
          "state": {
            "_view_name": "HTMLView",
            "style": "IPY_MODEL_f6c71fe05f0c4838b1972ec9c90ab5ab",
            "_dom_classes": [],
            "description": "",
            "_model_name": "HTMLModel",
            "placeholder": "​",
            "_view_module": "@jupyter-widgets/controls",
            "_model_module_version": "1.5.0",
            "value": " 16/16 [00:10&lt;00:00,  1.54ba/s]",
            "_view_count": null,
            "_view_module_version": "1.5.0",
            "description_tooltip": null,
            "_model_module": "@jupyter-widgets/controls",
            "layout": "IPY_MODEL_ad02010fb0524c339c3257cbda385f93"
          }
        },
        "34e2732cab4841c0b8542124bafeb454": {
          "model_module": "@jupyter-widgets/controls",
          "model_name": "ProgressStyleModel",
          "state": {
            "_view_name": "StyleView",
            "_model_name": "ProgressStyleModel",
            "description_width": "initial",
            "_view_module": "@jupyter-widgets/base",
            "_model_module_version": "1.5.0",
            "_view_count": null,
            "_view_module_version": "1.2.0",
            "bar_color": null,
            "_model_module": "@jupyter-widgets/controls"
          }
        },
        "f264fafca185471cacbacfba71d65de7": {
          "model_module": "@jupyter-widgets/base",
          "model_name": "LayoutModel",
          "state": {
            "_view_name": "LayoutView",
            "grid_template_rows": null,
            "right": null,
            "justify_content": null,
            "_view_module": "@jupyter-widgets/base",
            "overflow": null,
            "_model_module_version": "1.2.0",
            "_view_count": null,
            "flex_flow": null,
            "width": null,
            "min_width": null,
            "border": null,
            "align_items": null,
            "bottom": null,
            "_model_module": "@jupyter-widgets/base",
            "top": null,
            "grid_column": null,
            "overflow_y": null,
            "overflow_x": null,
            "grid_auto_flow": null,
            "grid_area": null,
            "grid_template_columns": null,
            "flex": null,
            "_model_name": "LayoutModel",
            "justify_items": null,
            "grid_row": null,
            "max_height": null,
            "align_content": null,
            "visibility": null,
            "align_self": null,
            "height": null,
            "min_height": null,
            "padding": null,
            "grid_auto_rows": null,
            "grid_gap": null,
            "max_width": null,
            "order": null,
            "_view_module_version": "1.2.0",
            "grid_template_areas": null,
            "object_position": null,
            "object_fit": null,
            "grid_auto_columns": null,
            "margin": null,
            "display": null,
            "left": null
          }
        },
        "f6c71fe05f0c4838b1972ec9c90ab5ab": {
          "model_module": "@jupyter-widgets/controls",
          "model_name": "DescriptionStyleModel",
          "state": {
            "_view_name": "StyleView",
            "_model_name": "DescriptionStyleModel",
            "description_width": "",
            "_view_module": "@jupyter-widgets/base",
            "_model_module_version": "1.5.0",
            "_view_count": null,
            "_view_module_version": "1.2.0",
            "_model_module": "@jupyter-widgets/controls"
          }
        },
        "ad02010fb0524c339c3257cbda385f93": {
          "model_module": "@jupyter-widgets/base",
          "model_name": "LayoutModel",
          "state": {
            "_view_name": "LayoutView",
            "grid_template_rows": null,
            "right": null,
            "justify_content": null,
            "_view_module": "@jupyter-widgets/base",
            "overflow": null,
            "_model_module_version": "1.2.0",
            "_view_count": null,
            "flex_flow": null,
            "width": null,
            "min_width": null,
            "border": null,
            "align_items": null,
            "bottom": null,
            "_model_module": "@jupyter-widgets/base",
            "top": null,
            "grid_column": null,
            "overflow_y": null,
            "overflow_x": null,
            "grid_auto_flow": null,
            "grid_area": null,
            "grid_template_columns": null,
            "flex": null,
            "_model_name": "LayoutModel",
            "justify_items": null,
            "grid_row": null,
            "max_height": null,
            "align_content": null,
            "visibility": null,
            "align_self": null,
            "height": null,
            "min_height": null,
            "padding": null,
            "grid_auto_rows": null,
            "grid_gap": null,
            "max_width": null,
            "order": null,
            "_view_module_version": "1.2.0",
            "grid_template_areas": null,
            "object_position": null,
            "object_fit": null,
            "grid_auto_columns": null,
            "margin": null,
            "display": null,
            "left": null
          }
        },
        "2952cf9365b24d77992bd9ad2fbff916": {
          "model_module": "@jupyter-widgets/controls",
          "model_name": "HBoxModel",
          "state": {
            "_view_name": "HBoxView",
            "_dom_classes": [],
            "_model_name": "HBoxModel",
            "_view_module": "@jupyter-widgets/controls",
            "_model_module_version": "1.5.0",
            "_view_count": null,
            "_view_module_version": "1.5.0",
            "box_style": "",
            "layout": "IPY_MODEL_6fcfefd9733f4c07bed84ae87d153fbe",
            "_model_module": "@jupyter-widgets/controls",
            "children": [
              "IPY_MODEL_adfc13a925a34c7c97d4d0fe75a02891",
              "IPY_MODEL_57361bfcd6e845cf963d60bccad1ec84"
            ]
          }
        },
        "6fcfefd9733f4c07bed84ae87d153fbe": {
          "model_module": "@jupyter-widgets/base",
          "model_name": "LayoutModel",
          "state": {
            "_view_name": "LayoutView",
            "grid_template_rows": null,
            "right": null,
            "justify_content": null,
            "_view_module": "@jupyter-widgets/base",
            "overflow": null,
            "_model_module_version": "1.2.0",
            "_view_count": null,
            "flex_flow": null,
            "width": null,
            "min_width": null,
            "border": null,
            "align_items": null,
            "bottom": null,
            "_model_module": "@jupyter-widgets/base",
            "top": null,
            "grid_column": null,
            "overflow_y": null,
            "overflow_x": null,
            "grid_auto_flow": null,
            "grid_area": null,
            "grid_template_columns": null,
            "flex": null,
            "_model_name": "LayoutModel",
            "justify_items": null,
            "grid_row": null,
            "max_height": null,
            "align_content": null,
            "visibility": null,
            "align_self": null,
            "height": null,
            "min_height": null,
            "padding": null,
            "grid_auto_rows": null,
            "grid_gap": null,
            "max_width": null,
            "order": null,
            "_view_module_version": "1.2.0",
            "grid_template_areas": null,
            "object_position": null,
            "object_fit": null,
            "grid_auto_columns": null,
            "margin": null,
            "display": null,
            "left": null
          }
        },
        "adfc13a925a34c7c97d4d0fe75a02891": {
          "model_module": "@jupyter-widgets/controls",
          "model_name": "FloatProgressModel",
          "state": {
            "_view_name": "ProgressView",
            "style": "IPY_MODEL_fc7895b9f4ee474ea0340356f7797293",
            "_dom_classes": [],
            "description": "#3: 100%",
            "_model_name": "FloatProgressModel",
            "bar_style": "success",
            "max": 16,
            "_view_module": "@jupyter-widgets/controls",
            "_model_module_version": "1.5.0",
            "value": 16,
            "_view_count": null,
            "_view_module_version": "1.5.0",
            "orientation": "horizontal",
            "min": 0,
            "description_tooltip": null,
            "_model_module": "@jupyter-widgets/controls",
            "layout": "IPY_MODEL_4aa816f8a99f433aa6dd652d1f5a3dfa"
          }
        },
        "57361bfcd6e845cf963d60bccad1ec84": {
          "model_module": "@jupyter-widgets/controls",
          "model_name": "HTMLModel",
          "state": {
            "_view_name": "HTMLView",
            "style": "IPY_MODEL_c83f4f58fe10443ca44ff5748d83fe9e",
            "_dom_classes": [],
            "description": "",
            "_model_name": "HTMLModel",
            "placeholder": "​",
            "_view_module": "@jupyter-widgets/controls",
            "_model_module_version": "1.5.0",
            "value": " 16/16 [00:10&lt;00:00,  1.54ba/s]",
            "_view_count": null,
            "_view_module_version": "1.5.0",
            "description_tooltip": null,
            "_model_module": "@jupyter-widgets/controls",
            "layout": "IPY_MODEL_1d5aaedde1a642f4975cdf33bef46636"
          }
        },
        "fc7895b9f4ee474ea0340356f7797293": {
          "model_module": "@jupyter-widgets/controls",
          "model_name": "ProgressStyleModel",
          "state": {
            "_view_name": "StyleView",
            "_model_name": "ProgressStyleModel",
            "description_width": "initial",
            "_view_module": "@jupyter-widgets/base",
            "_model_module_version": "1.5.0",
            "_view_count": null,
            "_view_module_version": "1.2.0",
            "bar_color": null,
            "_model_module": "@jupyter-widgets/controls"
          }
        },
        "4aa816f8a99f433aa6dd652d1f5a3dfa": {
          "model_module": "@jupyter-widgets/base",
          "model_name": "LayoutModel",
          "state": {
            "_view_name": "LayoutView",
            "grid_template_rows": null,
            "right": null,
            "justify_content": null,
            "_view_module": "@jupyter-widgets/base",
            "overflow": null,
            "_model_module_version": "1.2.0",
            "_view_count": null,
            "flex_flow": null,
            "width": null,
            "min_width": null,
            "border": null,
            "align_items": null,
            "bottom": null,
            "_model_module": "@jupyter-widgets/base",
            "top": null,
            "grid_column": null,
            "overflow_y": null,
            "overflow_x": null,
            "grid_auto_flow": null,
            "grid_area": null,
            "grid_template_columns": null,
            "flex": null,
            "_model_name": "LayoutModel",
            "justify_items": null,
            "grid_row": null,
            "max_height": null,
            "align_content": null,
            "visibility": null,
            "align_self": null,
            "height": null,
            "min_height": null,
            "padding": null,
            "grid_auto_rows": null,
            "grid_gap": null,
            "max_width": null,
            "order": null,
            "_view_module_version": "1.2.0",
            "grid_template_areas": null,
            "object_position": null,
            "object_fit": null,
            "grid_auto_columns": null,
            "margin": null,
            "display": null,
            "left": null
          }
        },
        "c83f4f58fe10443ca44ff5748d83fe9e": {
          "model_module": "@jupyter-widgets/controls",
          "model_name": "DescriptionStyleModel",
          "state": {
            "_view_name": "StyleView",
            "_model_name": "DescriptionStyleModel",
            "description_width": "",
            "_view_module": "@jupyter-widgets/base",
            "_model_module_version": "1.5.0",
            "_view_count": null,
            "_view_module_version": "1.2.0",
            "_model_module": "@jupyter-widgets/controls"
          }
        },
        "1d5aaedde1a642f4975cdf33bef46636": {
          "model_module": "@jupyter-widgets/base",
          "model_name": "LayoutModel",
          "state": {
            "_view_name": "LayoutView",
            "grid_template_rows": null,
            "right": null,
            "justify_content": null,
            "_view_module": "@jupyter-widgets/base",
            "overflow": null,
            "_model_module_version": "1.2.0",
            "_view_count": null,
            "flex_flow": null,
            "width": null,
            "min_width": null,
            "border": null,
            "align_items": null,
            "bottom": null,
            "_model_module": "@jupyter-widgets/base",
            "top": null,
            "grid_column": null,
            "overflow_y": null,
            "overflow_x": null,
            "grid_auto_flow": null,
            "grid_area": null,
            "grid_template_columns": null,
            "flex": null,
            "_model_name": "LayoutModel",
            "justify_items": null,
            "grid_row": null,
            "max_height": null,
            "align_content": null,
            "visibility": null,
            "align_self": null,
            "height": null,
            "min_height": null,
            "padding": null,
            "grid_auto_rows": null,
            "grid_gap": null,
            "max_width": null,
            "order": null,
            "_view_module_version": "1.2.0",
            "grid_template_areas": null,
            "object_position": null,
            "object_fit": null,
            "grid_auto_columns": null,
            "margin": null,
            "display": null,
            "left": null
          }
        },
        "989fe53d325c48d6a888700adaff07d6": {
          "model_module": "@jupyter-widgets/controls",
          "model_name": "HBoxModel",
          "state": {
            "_view_name": "HBoxView",
            "_dom_classes": [],
            "_model_name": "HBoxModel",
            "_view_module": "@jupyter-widgets/controls",
            "_model_module_version": "1.5.0",
            "_view_count": null,
            "_view_module_version": "1.5.0",
            "box_style": "",
            "layout": "IPY_MODEL_5c878baeef1d42a8b083e50166b745c3",
            "_model_module": "@jupyter-widgets/controls",
            "children": [
              "IPY_MODEL_3c405fab571c4a749eed07f3d93f8bac",
              "IPY_MODEL_937da60c5a5d403993263af2b516dec8"
            ]
          }
        },
        "5c878baeef1d42a8b083e50166b745c3": {
          "model_module": "@jupyter-widgets/base",
          "model_name": "LayoutModel",
          "state": {
            "_view_name": "LayoutView",
            "grid_template_rows": null,
            "right": null,
            "justify_content": null,
            "_view_module": "@jupyter-widgets/base",
            "overflow": null,
            "_model_module_version": "1.2.0",
            "_view_count": null,
            "flex_flow": null,
            "width": null,
            "min_width": null,
            "border": null,
            "align_items": null,
            "bottom": null,
            "_model_module": "@jupyter-widgets/base",
            "top": null,
            "grid_column": null,
            "overflow_y": null,
            "overflow_x": null,
            "grid_auto_flow": null,
            "grid_area": null,
            "grid_template_columns": null,
            "flex": null,
            "_model_name": "LayoutModel",
            "justify_items": null,
            "grid_row": null,
            "max_height": null,
            "align_content": null,
            "visibility": null,
            "align_self": null,
            "height": null,
            "min_height": null,
            "padding": null,
            "grid_auto_rows": null,
            "grid_gap": null,
            "max_width": null,
            "order": null,
            "_view_module_version": "1.2.0",
            "grid_template_areas": null,
            "object_position": null,
            "object_fit": null,
            "grid_auto_columns": null,
            "margin": null,
            "display": null,
            "left": null
          }
        },
        "3c405fab571c4a749eed07f3d93f8bac": {
          "model_module": "@jupyter-widgets/controls",
          "model_name": "FloatProgressModel",
          "state": {
            "_view_name": "ProgressView",
            "style": "IPY_MODEL_6c476c8ae5e74d1188795193a8d71598",
            "_dom_classes": [],
            "description": "#0: 100%",
            "_model_name": "FloatProgressModel",
            "bar_style": "success",
            "max": 16,
            "_view_module": "@jupyter-widgets/controls",
            "_model_module_version": "1.5.0",
            "value": 16,
            "_view_count": null,
            "_view_module_version": "1.5.0",
            "orientation": "horizontal",
            "min": 0,
            "description_tooltip": null,
            "_model_module": "@jupyter-widgets/controls",
            "layout": "IPY_MODEL_038a844e87484038bf382ff0a336a930"
          }
        },
        "937da60c5a5d403993263af2b516dec8": {
          "model_module": "@jupyter-widgets/controls",
          "model_name": "HTMLModel",
          "state": {
            "_view_name": "HTMLView",
            "style": "IPY_MODEL_623ccb3be56340a3abd6d610d6cf47e1",
            "_dom_classes": [],
            "description": "",
            "_model_name": "HTMLModel",
            "placeholder": "​",
            "_view_module": "@jupyter-widgets/controls",
            "_model_module_version": "1.5.0",
            "value": " 16/16 [00:10&lt;00:00,  1.50ba/s]",
            "_view_count": null,
            "_view_module_version": "1.5.0",
            "description_tooltip": null,
            "_model_module": "@jupyter-widgets/controls",
            "layout": "IPY_MODEL_432869321453428e9e376282e663243c"
          }
        },
        "6c476c8ae5e74d1188795193a8d71598": {
          "model_module": "@jupyter-widgets/controls",
          "model_name": "ProgressStyleModel",
          "state": {
            "_view_name": "StyleView",
            "_model_name": "ProgressStyleModel",
            "description_width": "initial",
            "_view_module": "@jupyter-widgets/base",
            "_model_module_version": "1.5.0",
            "_view_count": null,
            "_view_module_version": "1.2.0",
            "bar_color": null,
            "_model_module": "@jupyter-widgets/controls"
          }
        },
        "038a844e87484038bf382ff0a336a930": {
          "model_module": "@jupyter-widgets/base",
          "model_name": "LayoutModel",
          "state": {
            "_view_name": "LayoutView",
            "grid_template_rows": null,
            "right": null,
            "justify_content": null,
            "_view_module": "@jupyter-widgets/base",
            "overflow": null,
            "_model_module_version": "1.2.0",
            "_view_count": null,
            "flex_flow": null,
            "width": null,
            "min_width": null,
            "border": null,
            "align_items": null,
            "bottom": null,
            "_model_module": "@jupyter-widgets/base",
            "top": null,
            "grid_column": null,
            "overflow_y": null,
            "overflow_x": null,
            "grid_auto_flow": null,
            "grid_area": null,
            "grid_template_columns": null,
            "flex": null,
            "_model_name": "LayoutModel",
            "justify_items": null,
            "grid_row": null,
            "max_height": null,
            "align_content": null,
            "visibility": null,
            "align_self": null,
            "height": null,
            "min_height": null,
            "padding": null,
            "grid_auto_rows": null,
            "grid_gap": null,
            "max_width": null,
            "order": null,
            "_view_module_version": "1.2.0",
            "grid_template_areas": null,
            "object_position": null,
            "object_fit": null,
            "grid_auto_columns": null,
            "margin": null,
            "display": null,
            "left": null
          }
        },
        "623ccb3be56340a3abd6d610d6cf47e1": {
          "model_module": "@jupyter-widgets/controls",
          "model_name": "DescriptionStyleModel",
          "state": {
            "_view_name": "StyleView",
            "_model_name": "DescriptionStyleModel",
            "description_width": "",
            "_view_module": "@jupyter-widgets/base",
            "_model_module_version": "1.5.0",
            "_view_count": null,
            "_view_module_version": "1.2.0",
            "_model_module": "@jupyter-widgets/controls"
          }
        },
        "432869321453428e9e376282e663243c": {
          "model_module": "@jupyter-widgets/base",
          "model_name": "LayoutModel",
          "state": {
            "_view_name": "LayoutView",
            "grid_template_rows": null,
            "right": null,
            "justify_content": null,
            "_view_module": "@jupyter-widgets/base",
            "overflow": null,
            "_model_module_version": "1.2.0",
            "_view_count": null,
            "flex_flow": null,
            "width": null,
            "min_width": null,
            "border": null,
            "align_items": null,
            "bottom": null,
            "_model_module": "@jupyter-widgets/base",
            "top": null,
            "grid_column": null,
            "overflow_y": null,
            "overflow_x": null,
            "grid_auto_flow": null,
            "grid_area": null,
            "grid_template_columns": null,
            "flex": null,
            "_model_name": "LayoutModel",
            "justify_items": null,
            "grid_row": null,
            "max_height": null,
            "align_content": null,
            "visibility": null,
            "align_self": null,
            "height": null,
            "min_height": null,
            "padding": null,
            "grid_auto_rows": null,
            "grid_gap": null,
            "max_width": null,
            "order": null,
            "_view_module_version": "1.2.0",
            "grid_template_areas": null,
            "object_position": null,
            "object_fit": null,
            "grid_auto_columns": null,
            "margin": null,
            "display": null,
            "left": null
          }
        },
        "2c31f1be51f14af6882038305b786d07": {
          "model_module": "@jupyter-widgets/controls",
          "model_name": "HBoxModel",
          "state": {
            "_view_name": "HBoxView",
            "_dom_classes": [],
            "_model_name": "HBoxModel",
            "_view_module": "@jupyter-widgets/controls",
            "_model_module_version": "1.5.0",
            "_view_count": null,
            "_view_module_version": "1.5.0",
            "box_style": "",
            "layout": "IPY_MODEL_eb16135c2a55471292d6af6731340ddc",
            "_model_module": "@jupyter-widgets/controls",
            "children": [
              "IPY_MODEL_2004bdf8ed2441a6b3c192181dbc9d00",
              "IPY_MODEL_5fbf0336b3fe47e484f8903f82e2654d"
            ]
          }
        },
        "eb16135c2a55471292d6af6731340ddc": {
          "model_module": "@jupyter-widgets/base",
          "model_name": "LayoutModel",
          "state": {
            "_view_name": "LayoutView",
            "grid_template_rows": null,
            "right": null,
            "justify_content": null,
            "_view_module": "@jupyter-widgets/base",
            "overflow": null,
            "_model_module_version": "1.2.0",
            "_view_count": null,
            "flex_flow": null,
            "width": null,
            "min_width": null,
            "border": null,
            "align_items": null,
            "bottom": null,
            "_model_module": "@jupyter-widgets/base",
            "top": null,
            "grid_column": null,
            "overflow_y": null,
            "overflow_x": null,
            "grid_auto_flow": null,
            "grid_area": null,
            "grid_template_columns": null,
            "flex": null,
            "_model_name": "LayoutModel",
            "justify_items": null,
            "grid_row": null,
            "max_height": null,
            "align_content": null,
            "visibility": null,
            "align_self": null,
            "height": null,
            "min_height": null,
            "padding": null,
            "grid_auto_rows": null,
            "grid_gap": null,
            "max_width": null,
            "order": null,
            "_view_module_version": "1.2.0",
            "grid_template_areas": null,
            "object_position": null,
            "object_fit": null,
            "grid_auto_columns": null,
            "margin": null,
            "display": null,
            "left": null
          }
        },
        "2004bdf8ed2441a6b3c192181dbc9d00": {
          "model_module": "@jupyter-widgets/controls",
          "model_name": "FloatProgressModel",
          "state": {
            "_view_name": "ProgressView",
            "style": "IPY_MODEL_a6d7ffb1ed444c47b15cda1d3ba38558",
            "_dom_classes": [],
            "description": "#2: 100%",
            "_model_name": "FloatProgressModel",
            "bar_style": "success",
            "max": 16,
            "_view_module": "@jupyter-widgets/controls",
            "_model_module_version": "1.5.0",
            "value": 16,
            "_view_count": null,
            "_view_module_version": "1.5.0",
            "orientation": "horizontal",
            "min": 0,
            "description_tooltip": null,
            "_model_module": "@jupyter-widgets/controls",
            "layout": "IPY_MODEL_a22d8d516bc6496ca36627a3b4e99547"
          }
        },
        "5fbf0336b3fe47e484f8903f82e2654d": {
          "model_module": "@jupyter-widgets/controls",
          "model_name": "HTMLModel",
          "state": {
            "_view_name": "HTMLView",
            "style": "IPY_MODEL_74fd373987f94306b632cfb5db3cbd16",
            "_dom_classes": [],
            "description": "",
            "_model_name": "HTMLModel",
            "placeholder": "​",
            "_view_module": "@jupyter-widgets/controls",
            "_model_module_version": "1.5.0",
            "value": " 16/16 [00:10&lt;00:00,  1.51ba/s]",
            "_view_count": null,
            "_view_module_version": "1.5.0",
            "description_tooltip": null,
            "_model_module": "@jupyter-widgets/controls",
            "layout": "IPY_MODEL_5e2ca0cfeb7c4bf4af2411041ffabcd4"
          }
        },
        "a6d7ffb1ed444c47b15cda1d3ba38558": {
          "model_module": "@jupyter-widgets/controls",
          "model_name": "ProgressStyleModel",
          "state": {
            "_view_name": "StyleView",
            "_model_name": "ProgressStyleModel",
            "description_width": "initial",
            "_view_module": "@jupyter-widgets/base",
            "_model_module_version": "1.5.0",
            "_view_count": null,
            "_view_module_version": "1.2.0",
            "bar_color": null,
            "_model_module": "@jupyter-widgets/controls"
          }
        },
        "a22d8d516bc6496ca36627a3b4e99547": {
          "model_module": "@jupyter-widgets/base",
          "model_name": "LayoutModel",
          "state": {
            "_view_name": "LayoutView",
            "grid_template_rows": null,
            "right": null,
            "justify_content": null,
            "_view_module": "@jupyter-widgets/base",
            "overflow": null,
            "_model_module_version": "1.2.0",
            "_view_count": null,
            "flex_flow": null,
            "width": null,
            "min_width": null,
            "border": null,
            "align_items": null,
            "bottom": null,
            "_model_module": "@jupyter-widgets/base",
            "top": null,
            "grid_column": null,
            "overflow_y": null,
            "overflow_x": null,
            "grid_auto_flow": null,
            "grid_area": null,
            "grid_template_columns": null,
            "flex": null,
            "_model_name": "LayoutModel",
            "justify_items": null,
            "grid_row": null,
            "max_height": null,
            "align_content": null,
            "visibility": null,
            "align_self": null,
            "height": null,
            "min_height": null,
            "padding": null,
            "grid_auto_rows": null,
            "grid_gap": null,
            "max_width": null,
            "order": null,
            "_view_module_version": "1.2.0",
            "grid_template_areas": null,
            "object_position": null,
            "object_fit": null,
            "grid_auto_columns": null,
            "margin": null,
            "display": null,
            "left": null
          }
        },
        "74fd373987f94306b632cfb5db3cbd16": {
          "model_module": "@jupyter-widgets/controls",
          "model_name": "DescriptionStyleModel",
          "state": {
            "_view_name": "StyleView",
            "_model_name": "DescriptionStyleModel",
            "description_width": "",
            "_view_module": "@jupyter-widgets/base",
            "_model_module_version": "1.5.0",
            "_view_count": null,
            "_view_module_version": "1.2.0",
            "_model_module": "@jupyter-widgets/controls"
          }
        },
        "5e2ca0cfeb7c4bf4af2411041ffabcd4": {
          "model_module": "@jupyter-widgets/base",
          "model_name": "LayoutModel",
          "state": {
            "_view_name": "LayoutView",
            "grid_template_rows": null,
            "right": null,
            "justify_content": null,
            "_view_module": "@jupyter-widgets/base",
            "overflow": null,
            "_model_module_version": "1.2.0",
            "_view_count": null,
            "flex_flow": null,
            "width": null,
            "min_width": null,
            "border": null,
            "align_items": null,
            "bottom": null,
            "_model_module": "@jupyter-widgets/base",
            "top": null,
            "grid_column": null,
            "overflow_y": null,
            "overflow_x": null,
            "grid_auto_flow": null,
            "grid_area": null,
            "grid_template_columns": null,
            "flex": null,
            "_model_name": "LayoutModel",
            "justify_items": null,
            "grid_row": null,
            "max_height": null,
            "align_content": null,
            "visibility": null,
            "align_self": null,
            "height": null,
            "min_height": null,
            "padding": null,
            "grid_auto_rows": null,
            "grid_gap": null,
            "max_width": null,
            "order": null,
            "_view_module_version": "1.2.0",
            "grid_template_areas": null,
            "object_position": null,
            "object_fit": null,
            "grid_auto_columns": null,
            "margin": null,
            "display": null,
            "left": null
          }
        }
      }
    }
  },
  "cells": [
    {
      "cell_type": "code",
      "metadata": {
        "id": "si2jGtkfU7EJ"
      },
      "source": [
        "#References\n",
        "# https://huggingface.co/blog/fine-tune-xlsr-wav2vec2"
      ],
      "execution_count": null,
      "outputs": []
    },
    {
      "cell_type": "markdown",
      "metadata": {
        "id": "NZjd9m0crkUS"
      },
      "source": [
        "# Install Dependencies"
      ]
    },
    {
      "cell_type": "code",
      "metadata": {
        "colab": {
          "base_uri": "https://localhost:8080/"
        },
        "id": "ToHPXr-4-Csr",
        "outputId": "62797796-adca-45b0-c14d-99063b883586"
      },
      "source": [
        "from google.colab import drive\n",
        "drive.mount('/content/drive')"
      ],
      "execution_count": null,
      "outputs": [
        {
          "output_type": "stream",
          "text": [
            "Mounted at /content/drive\n"
          ],
          "name": "stdout"
        }
      ]
    },
    {
      "cell_type": "code",
      "metadata": {
        "colab": {
          "base_uri": "https://localhost:8080/"
        },
        "id": "fcyTG-6dRO0B",
        "outputId": "8ac84040-9de3-4485-b1f9-6c0845ea8602"
      },
      "source": [
        "!pip install datasets==1.4.1\n",
        "!pip install transformers==4.4.0\n",
        "!pip install soundfile\n",
        "!pip install jiwer\n",
        "# !pip install tqdm==4.43.0"
      ],
      "execution_count": null,
      "outputs": [
        {
          "output_type": "stream",
          "text": [
            "Collecting datasets==1.4.1\n",
            "  Downloading datasets-1.4.1-py3-none-any.whl (186 kB)\n",
            "\u001b[?25l\r\u001b[K     |█▊                              | 10 kB 18.1 MB/s eta 0:00:01\r\u001b[K     |███▌                            | 20 kB 15.6 MB/s eta 0:00:01\r\u001b[K     |█████▎                          | 30 kB 11.6 MB/s eta 0:00:01\r\u001b[K     |███████                         | 40 kB 10.0 MB/s eta 0:00:01\r\u001b[K     |████████▊                       | 51 kB 5.2 MB/s eta 0:00:01\r\u001b[K     |██████████▌                     | 61 kB 5.3 MB/s eta 0:00:01\r\u001b[K     |████████████▎                   | 71 kB 5.5 MB/s eta 0:00:01\r\u001b[K     |██████████████                  | 81 kB 6.2 MB/s eta 0:00:01\r\u001b[K     |███████████████▉                | 92 kB 4.7 MB/s eta 0:00:01\r\u001b[K     |█████████████████▌              | 102 kB 4.9 MB/s eta 0:00:01\r\u001b[K     |███████████████████▎            | 112 kB 4.9 MB/s eta 0:00:01\r\u001b[K     |█████████████████████           | 122 kB 4.9 MB/s eta 0:00:01\r\u001b[K     |██████████████████████▉         | 133 kB 4.9 MB/s eta 0:00:01\r\u001b[K     |████████████████████████▋       | 143 kB 4.9 MB/s eta 0:00:01\r\u001b[K     |██████████████████████████▎     | 153 kB 4.9 MB/s eta 0:00:01\r\u001b[K     |████████████████████████████    | 163 kB 4.9 MB/s eta 0:00:01\r\u001b[K     |█████████████████████████████▉  | 174 kB 4.9 MB/s eta 0:00:01\r\u001b[K     |███████████████████████████████▋| 184 kB 4.9 MB/s eta 0:00:01\r\u001b[K     |████████████████████████████████| 186 kB 4.9 MB/s \n",
            "\u001b[?25hRequirement already satisfied: numpy>=1.17 in /usr/local/lib/python3.7/dist-packages (from datasets==1.4.1) (1.19.5)\n",
            "Collecting xxhash\n",
            "  Downloading xxhash-2.0.2-cp37-cp37m-manylinux2010_x86_64.whl (243 kB)\n",
            "\u001b[K     |████████████████████████████████| 243 kB 10.0 MB/s \n",
            "\u001b[?25hRequirement already satisfied: dill in /usr/local/lib/python3.7/dist-packages (from datasets==1.4.1) (0.3.4)\n",
            "Collecting fsspec\n",
            "  Downloading fsspec-2021.7.0-py3-none-any.whl (118 kB)\n",
            "\u001b[K     |████████████████████████████████| 118 kB 8.9 MB/s \n",
            "\u001b[?25hRequirement already satisfied: multiprocess in /usr/local/lib/python3.7/dist-packages (from datasets==1.4.1) (0.70.12.2)\n",
            "Requirement already satisfied: pandas in /usr/local/lib/python3.7/dist-packages (from datasets==1.4.1) (1.1.5)\n",
            "Collecting huggingface-hub==0.0.2\n",
            "  Downloading huggingface_hub-0.0.2-py3-none-any.whl (24 kB)\n",
            "Requirement already satisfied: importlib-metadata in /usr/local/lib/python3.7/dist-packages (from datasets==1.4.1) (4.6.1)\n",
            "Requirement already satisfied: pyarrow>=0.17.1 in /usr/local/lib/python3.7/dist-packages (from datasets==1.4.1) (3.0.0)\n",
            "Requirement already satisfied: tqdm<4.50.0,>=4.27 in /usr/local/lib/python3.7/dist-packages (from datasets==1.4.1) (4.41.1)\n",
            "Requirement already satisfied: requests>=2.19.0 in /usr/local/lib/python3.7/dist-packages (from datasets==1.4.1) (2.23.0)\n",
            "Requirement already satisfied: filelock in /usr/local/lib/python3.7/dist-packages (from huggingface-hub==0.0.2->datasets==1.4.1) (3.0.12)\n",
            "Requirement already satisfied: certifi>=2017.4.17 in /usr/local/lib/python3.7/dist-packages (from requests>=2.19.0->datasets==1.4.1) (2021.5.30)\n",
            "Requirement already satisfied: urllib3!=1.25.0,!=1.25.1,<1.26,>=1.21.1 in /usr/local/lib/python3.7/dist-packages (from requests>=2.19.0->datasets==1.4.1) (1.24.3)\n",
            "Requirement already satisfied: idna<3,>=2.5 in /usr/local/lib/python3.7/dist-packages (from requests>=2.19.0->datasets==1.4.1) (2.10)\n",
            "Requirement already satisfied: chardet<4,>=3.0.2 in /usr/local/lib/python3.7/dist-packages (from requests>=2.19.0->datasets==1.4.1) (3.0.4)\n",
            "Requirement already satisfied: zipp>=0.5 in /usr/local/lib/python3.7/dist-packages (from importlib-metadata->datasets==1.4.1) (3.5.0)\n",
            "Requirement already satisfied: typing-extensions>=3.6.4 in /usr/local/lib/python3.7/dist-packages (from importlib-metadata->datasets==1.4.1) (3.7.4.3)\n",
            "Requirement already satisfied: pytz>=2017.2 in /usr/local/lib/python3.7/dist-packages (from pandas->datasets==1.4.1) (2018.9)\n",
            "Requirement already satisfied: python-dateutil>=2.7.3 in /usr/local/lib/python3.7/dist-packages (from pandas->datasets==1.4.1) (2.8.1)\n",
            "Requirement already satisfied: six>=1.5 in /usr/local/lib/python3.7/dist-packages (from python-dateutil>=2.7.3->pandas->datasets==1.4.1) (1.15.0)\n",
            "Installing collected packages: xxhash, huggingface-hub, fsspec, datasets\n",
            "Successfully installed datasets-1.4.1 fsspec-2021.7.0 huggingface-hub-0.0.2 xxhash-2.0.2\n",
            "Collecting transformers==4.4.0\n",
            "  Downloading transformers-4.4.0-py3-none-any.whl (2.1 MB)\n",
            "\u001b[K     |████████████████████████████████| 2.1 MB 5.1 MB/s \n",
            "\u001b[?25hCollecting tokenizers<0.11,>=0.10.1\n",
            "  Downloading tokenizers-0.10.3-cp37-cp37m-manylinux_2_5_x86_64.manylinux1_x86_64.manylinux_2_12_x86_64.manylinux2010_x86_64.whl (3.3 MB)\n",
            "\u001b[K     |████████████████████████████████| 3.3 MB 39.6 MB/s \n",
            "\u001b[?25hRequirement already satisfied: regex!=2019.12.17 in /usr/local/lib/python3.7/dist-packages (from transformers==4.4.0) (2019.12.20)\n",
            "Requirement already satisfied: filelock in /usr/local/lib/python3.7/dist-packages (from transformers==4.4.0) (3.0.12)\n",
            "Requirement already satisfied: requests in /usr/local/lib/python3.7/dist-packages (from transformers==4.4.0) (2.23.0)\n",
            "Requirement already satisfied: importlib-metadata in /usr/local/lib/python3.7/dist-packages (from transformers==4.4.0) (4.6.1)\n",
            "Requirement already satisfied: packaging in /usr/local/lib/python3.7/dist-packages (from transformers==4.4.0) (21.0)\n",
            "Collecting sacremoses\n",
            "  Downloading sacremoses-0.0.45-py3-none-any.whl (895 kB)\n",
            "\u001b[K     |████████████████████████████████| 895 kB 49.1 MB/s \n",
            "\u001b[?25hRequirement already satisfied: tqdm>=4.27 in /usr/local/lib/python3.7/dist-packages (from transformers==4.4.0) (4.41.1)\n",
            "Requirement already satisfied: numpy>=1.17 in /usr/local/lib/python3.7/dist-packages (from transformers==4.4.0) (1.19.5)\n",
            "Requirement already satisfied: typing-extensions>=3.6.4 in /usr/local/lib/python3.7/dist-packages (from importlib-metadata->transformers==4.4.0) (3.7.4.3)\n",
            "Requirement already satisfied: zipp>=0.5 in /usr/local/lib/python3.7/dist-packages (from importlib-metadata->transformers==4.4.0) (3.5.0)\n",
            "Requirement already satisfied: pyparsing>=2.0.2 in /usr/local/lib/python3.7/dist-packages (from packaging->transformers==4.4.0) (2.4.7)\n",
            "Requirement already satisfied: urllib3!=1.25.0,!=1.25.1,<1.26,>=1.21.1 in /usr/local/lib/python3.7/dist-packages (from requests->transformers==4.4.0) (1.24.3)\n",
            "Requirement already satisfied: idna<3,>=2.5 in /usr/local/lib/python3.7/dist-packages (from requests->transformers==4.4.0) (2.10)\n",
            "Requirement already satisfied: chardet<4,>=3.0.2 in /usr/local/lib/python3.7/dist-packages (from requests->transformers==4.4.0) (3.0.4)\n",
            "Requirement already satisfied: certifi>=2017.4.17 in /usr/local/lib/python3.7/dist-packages (from requests->transformers==4.4.0) (2021.5.30)\n",
            "Requirement already satisfied: click in /usr/local/lib/python3.7/dist-packages (from sacremoses->transformers==4.4.0) (7.1.2)\n",
            "Requirement already satisfied: joblib in /usr/local/lib/python3.7/dist-packages (from sacremoses->transformers==4.4.0) (1.0.1)\n",
            "Requirement already satisfied: six in /usr/local/lib/python3.7/dist-packages (from sacremoses->transformers==4.4.0) (1.15.0)\n",
            "Installing collected packages: tokenizers, sacremoses, transformers\n",
            "Successfully installed sacremoses-0.0.45 tokenizers-0.10.3 transformers-4.4.0\n",
            "Requirement already satisfied: soundfile in /usr/local/lib/python3.7/dist-packages (0.10.3.post1)\n",
            "Requirement already satisfied: cffi>=1.0 in /usr/local/lib/python3.7/dist-packages (from soundfile) (1.14.6)\n",
            "Requirement already satisfied: pycparser in /usr/local/lib/python3.7/dist-packages (from cffi>=1.0->soundfile) (2.20)\n",
            "Collecting jiwer\n",
            "  Downloading jiwer-2.2.0-py3-none-any.whl (13 kB)\n",
            "Collecting python-Levenshtein\n",
            "  Downloading python-Levenshtein-0.12.2.tar.gz (50 kB)\n",
            "\u001b[K     |████████████████████████████████| 50 kB 2.8 MB/s \n",
            "\u001b[?25hRequirement already satisfied: numpy in /usr/local/lib/python3.7/dist-packages (from jiwer) (1.19.5)\n",
            "Requirement already satisfied: setuptools in /usr/local/lib/python3.7/dist-packages (from python-Levenshtein->jiwer) (57.2.0)\n",
            "Building wheels for collected packages: python-Levenshtein\n",
            "  Building wheel for python-Levenshtein (setup.py) ... \u001b[?25l\u001b[?25hdone\n",
            "  Created wheel for python-Levenshtein: filename=python_Levenshtein-0.12.2-cp37-cp37m-linux_x86_64.whl size=149860 sha256=11ef0c1df653c1ee99e16d467f9ca139f35219a01d74cf95f2c13c5a0fede013\n",
            "  Stored in directory: /root/.cache/pip/wheels/05/5f/ca/7c4367734892581bb5ff896f15027a932c551080b2abd3e00d\n",
            "Successfully built python-Levenshtein\n",
            "Installing collected packages: python-Levenshtein, jiwer\n",
            "Successfully installed jiwer-2.2.0 python-Levenshtein-0.12.2\n"
          ],
          "name": "stdout"
        }
      ]
    },
    {
      "cell_type": "markdown",
      "metadata": {
        "id": "vcvT0xDRrqyw"
      },
      "source": [
        "# Prepare Data"
      ]
    },
    {
      "cell_type": "markdown",
      "metadata": {
        "id": "Qa2iVxpmCrKO"
      },
      "source": [
        "**Split into train and test two files**"
      ]
    },
    {
      "cell_type": "code",
      "metadata": {
        "id": "hs825timCpYs"
      },
      "source": [
        "import csv\n",
        "import os \n",
        "\n",
        "dataset = []\n",
        "\n",
        "path = \"/content/drive/MyDrive/KunFYP/text_dataset_improved.csv\"\n",
        "\n",
        "c = 0\n",
        "with open(path) as csv_file:\n",
        "  csv_reader = csv.reader(csv_file)\n",
        "  for row in csv_reader:\n",
        "    if c == 0:\n",
        "      c = 1\n",
        "    else:\n",
        "      data = []\n",
        "      s = row[0]\n",
        "      s2 = row[1]\n",
        "      data.append(s)\n",
        "      data.append(s2)\n",
        "      dataset.append(data)\n",
        "\n",
        "len_train = int(len(dataset)*0.3)\n",
        "len_test = int(len(dataset)*0.06)\n",
        "\n",
        "#write to train and test files\n",
        "\n",
        "train_path = \"/content/drive/MyDrive/KunFYP/text_dataset_train.csv\"\n",
        "test_path = \"/content/drive/MyDrive/KunFYP/text_dataset_test.csv\"\n",
        "\n",
        "with open(train_path,'w',newline='') as file:\n",
        "      writer = csv.writer(file)\n",
        "      writer.writerow([\"Filename\", \"Text\"])\n",
        "      for x in range(len_train):\n",
        "        writer.writerow([dataset[x][0],dataset[x][1]])\n",
        "\n",
        "with open(test_path,'w',newline='') as file:\n",
        "      writer = csv.writer(file)\n",
        "      writer.writerow([\"Filename\", \"Text\"])\n",
        "      for x in range(len(dataset) - len_test, len(dataset)):\n",
        "        writer.writerow([dataset[x][0],dataset[x][1]])"
      ],
      "execution_count": null,
      "outputs": []
    },
    {
      "cell_type": "code",
      "metadata": {
        "id": "nbYvqaeNRZmT",
        "colab": {
          "base_uri": "https://localhost:8080/",
          "height": 343,
          "referenced_widgets": [
            "1baea0a338634828b0c7ba5d9c8ee774",
            "ef1204b567d34f5fa77348df12bb0984",
            "7b39e2fc1d2f418082618ced77a7a109",
            "b3eb629d2bc14b4380f7c3e23b0dc260",
            "ff5ff1a4fbb84624aa9e9e7b3d38ab3b",
            "d2dcd53a62a44f4ca1f7162b8fab973f",
            "fce8730eac2945d6a2082eb49c701acf",
            "a9951752dce4497d9a7ad546b02ffafc",
            "d299786c70ed44c68a9563ee1fc8554c",
            "e7acff1190c54cb9b8b0f006ce901ff8",
            "cbf6317309da49079c52d3b375119f73",
            "a35cad3afe1a40d89fa522532a7fdd90",
            "71505d24054548cabe5800be0dc57ab8",
            "ea4aa0f5a281428b813b3640679fc4ca",
            "47bedd2435b648b0a816e89f3d795d2b",
            "4ca2a513245547acbc5cb3c1871099a8"
          ]
        },
        "outputId": "438abed7-ce4d-41fd-8914-5d71ccd2e9ab"
      },
      "source": [
        "from datasets import load_dataset, load_metric\n",
        "\n",
        "path = '/content/drive/MyDrive/KunFYP/audio_dataset'\n",
        "text_path = '/content/drive/MyDrive/KunFYP/text_dataset_improved.csv'\n",
        "\n",
        "dataset_train = load_dataset(\"csv\", data_files = [train_path])\n",
        "dataset_test = load_dataset(\"csv\", data_files = [test_path])\n",
        "\n",
        "print(dataset_train)\n",
        "print(dataset_test)\n"
      ],
      "execution_count": null,
      "outputs": [
        {
          "output_type": "stream",
          "text": [
            "Using custom data configuration default-b1366354a2a3e860\n"
          ],
          "name": "stderr"
        },
        {
          "output_type": "stream",
          "text": [
            "Downloading and preparing dataset csv/default (download: Unknown size, generated: Unknown size, post-processed: Unknown size, total: Unknown size) to /root/.cache/huggingface/datasets/csv/default-b1366354a2a3e860/0.0.0/2a88c45fed596f9421a2e7f74ab1a3cd012ef75210a5dc1950e8d60ca8d9c66c...\n"
          ],
          "name": "stdout"
        },
        {
          "output_type": "display_data",
          "data": {
            "application/vnd.jupyter.widget-view+json": {
              "model_id": "1baea0a338634828b0c7ba5d9c8ee774",
              "version_minor": 0,
              "version_major": 2
            },
            "text/plain": [
              "HBox(children=(FloatProgress(value=1.0, bar_style='info', max=1.0), HTML(value='')))"
            ]
          },
          "metadata": {
            "tags": []
          }
        },
        {
          "output_type": "stream",
          "text": [
            "\rDataset csv downloaded and prepared to /root/.cache/huggingface/datasets/csv/default-b1366354a2a3e860/0.0.0/2a88c45fed596f9421a2e7f74ab1a3cd012ef75210a5dc1950e8d60ca8d9c66c. Subsequent calls will reuse this data.\n"
          ],
          "name": "stdout"
        },
        {
          "output_type": "stream",
          "text": [
            "Using custom data configuration default-e36e8899f235dadb\n"
          ],
          "name": "stderr"
        },
        {
          "output_type": "stream",
          "text": [
            "Downloading and preparing dataset csv/default (download: Unknown size, generated: Unknown size, post-processed: Unknown size, total: Unknown size) to /root/.cache/huggingface/datasets/csv/default-e36e8899f235dadb/0.0.0/2a88c45fed596f9421a2e7f74ab1a3cd012ef75210a5dc1950e8d60ca8d9c66c...\n"
          ],
          "name": "stdout"
        },
        {
          "output_type": "display_data",
          "data": {
            "application/vnd.jupyter.widget-view+json": {
              "model_id": "d299786c70ed44c68a9563ee1fc8554c",
              "version_minor": 0,
              "version_major": 2
            },
            "text/plain": [
              "HBox(children=(FloatProgress(value=1.0, bar_style='info', max=1.0), HTML(value='')))"
            ]
          },
          "metadata": {
            "tags": []
          }
        },
        {
          "output_type": "stream",
          "text": [
            "\rDataset csv downloaded and prepared to /root/.cache/huggingface/datasets/csv/default-e36e8899f235dadb/0.0.0/2a88c45fed596f9421a2e7f74ab1a3cd012ef75210a5dc1950e8d60ca8d9c66c. Subsequent calls will reuse this data.\n",
            "DatasetDict({\n",
            "    train: Dataset({\n",
            "        features: ['Filename', 'Text'],\n",
            "        num_rows: 2420\n",
            "    })\n",
            "})\n",
            "DatasetDict({\n",
            "    train: Dataset({\n",
            "        features: ['Filename', 'Text'],\n",
            "        num_rows: 484\n",
            "    })\n",
            "})\n"
          ],
          "name": "stdout"
        }
      ]
    },
    {
      "cell_type": "markdown",
      "metadata": {
        "id": "oXsz8fO5nPjd"
      },
      "source": [
        "**Check set values**"
      ]
    },
    {
      "cell_type": "code",
      "metadata": {
        "colab": {
          "base_uri": "https://localhost:8080/"
        },
        "id": "QTUbkCU7nO7v",
        "outputId": "0840cc8b-f1f8-42ec-c29e-738ba85e0d6c"
      },
      "source": [
        "print(dataset_train[\"train\"][0])\n",
        "print(dataset_test[\"train\"][0])"
      ],
      "execution_count": null,
      "outputs": [
        {
          "output_type": "stream",
          "text": [
            "{'Filename': 'A2.wav', 'Text': 'وہ روز صبح سکول جاتے'}\n",
            "{'Filename': 'C1871.wav', 'Text': 'پہلی مکمل'}\n"
          ],
          "name": "stdout"
        }
      ]
    },
    {
      "cell_type": "markdown",
      "metadata": {
        "id": "3vzHX2E1nZUK"
      },
      "source": [
        "**Display sample data**"
      ]
    },
    {
      "cell_type": "code",
      "metadata": {
        "id": "sVNcr4BusV1r",
        "colab": {
          "base_uri": "https://localhost:8080/",
          "height": 376
        },
        "outputId": "9791209c-2ecf-4beb-84c9-5888e211a959"
      },
      "source": [
        "from datasets import ClassLabel\n",
        "import random\n",
        "import pandas as pd\n",
        "from IPython.display import display, HTML\n",
        "\n",
        "def show_random_elements(dataset, num_examples=10):\n",
        "    assert num_examples <= len(dataset), \"Can't pick more elements than there are in the dataset.\"\n",
        "    picks = []\n",
        "    for _ in range(num_examples):\n",
        "        pick = random.randint(0, len(dataset)-1)\n",
        "        while pick in picks:\n",
        "            pick = random.randint(0, len(dataset)-1)\n",
        "        picks.append(pick)\n",
        "\n",
        "    df = pd.DataFrame(dataset[picks])\n",
        "    display(HTML(df.to_html()))\n",
        "    print(f'length of dataset: {len(dataset)}')\n",
        "show_random_elements(dataset_train[\"train\"].remove_columns([\"Filename\"]),10)"
      ],
      "execution_count": null,
      "outputs": [
        {
          "output_type": "display_data",
          "data": {
            "text/html": [
              "<table border=\"1\" class=\"dataframe\">\n",
              "  <thead>\n",
              "    <tr style=\"text-align: right;\">\n",
              "      <th></th>\n",
              "      <th>Text</th>\n",
              "    </tr>\n",
              "  </thead>\n",
              "  <tbody>\n",
              "    <tr>\n",
              "      <th>0</th>\n",
              "      <td>میرکے معاصرین میں سودا نے بھی مرثیے کہے</td>\n",
              "    </tr>\n",
              "    <tr>\n",
              "      <th>1</th>\n",
              "      <td>میر کو مقام دیا کہ وہ</td>\n",
              "    </tr>\n",
              "    <tr>\n",
              "      <th>2</th>\n",
              "      <td>جو</td>\n",
              "    </tr>\n",
              "    <tr>\n",
              "      <th>3</th>\n",
              "      <td>اردو کو</td>\n",
              "    </tr>\n",
              "    <tr>\n",
              "      <th>4</th>\n",
              "      <td>کھلیان</td>\n",
              "    </tr>\n",
              "    <tr>\n",
              "      <th>5</th>\n",
              "      <td>کس نوعیت کے اضافی</td>\n",
              "    </tr>\n",
              "    <tr>\n",
              "      <th>6</th>\n",
              "      <td>اسے دیکھ کر</td>\n",
              "    </tr>\n",
              "    <tr>\n",
              "      <th>7</th>\n",
              "      <td>فارسی سندری</td>\n",
              "    </tr>\n",
              "    <tr>\n",
              "      <th>8</th>\n",
              "      <td>اس اتوار کو تلاش</td>\n",
              "    </tr>\n",
              "    <tr>\n",
              "      <th>9</th>\n",
              "      <td>اردو زبان کا</td>\n",
              "    </tr>\n",
              "  </tbody>\n",
              "</table>"
            ],
            "text/plain": [
              "<IPython.core.display.HTML object>"
            ]
          },
          "metadata": {
            "tags": []
          }
        },
        {
          "output_type": "stream",
          "text": [
            "length of dataset: 2420\n"
          ],
          "name": "stdout"
        }
      ]
    },
    {
      "cell_type": "code",
      "metadata": {
        "colab": {
          "base_uri": "https://localhost:8080/",
          "height": 115,
          "referenced_widgets": [
            "a5bb2f6d033a4c69a9d6c2ff0fe421e8",
            "817b15544ced4877a17d5d6cde474800",
            "97b1894574e54409ad5c9eb681715b52",
            "8388a94504f74772982fea53d4a23b1d",
            "9c8ea61b88764038b9c480ff0957a0ae",
            "4e23170a3aa5449893aceac9cbfd0269",
            "0cbc438bfae64e87bd17a606b1eb75c8",
            "442589e9d44f4d8a8a2a8b03ff56bdca",
            "c8f10a1b8beb4ad78065ab2e1ff38532",
            "d57b8d49e9aa474c8fd0e7857baf01d6",
            "358a950c95ac414c8261b8225b7f4cfa",
            "f5285586197d4f04902153b894cce589",
            "ae0e37241be64c108a0d09ba09340c5e",
            "12be6f44197b4d7bae602bb046230fed",
            "f6fd232e659e496293c31d6f0860518a",
            "9a9c772a3c7c45ea925ca4623df710f1"
          ]
        },
        "id": "TIKXAyHBxBlV",
        "outputId": "784a931a-4869-4ea3-dab6-c67d3f0c8a5b"
      },
      "source": [
        "import re\n",
        "chars_to_ignore_regex = '[\\,\\?\\.\\!\\-\\;\\:\\\"]'\n",
        "\n",
        "def remove_special_characters(batch):\n",
        "    batch[\"Text\"] = re.sub(chars_to_ignore_regex, '', batch[\"Text\"]).lower()\n",
        "    return batch\n",
        "\n",
        "dataset_train = dataset_train.map(remove_special_characters)\n",
        "dataset_test = dataset_test.map(remove_special_characters)"
      ],
      "execution_count": null,
      "outputs": [
        {
          "output_type": "display_data",
          "data": {
            "application/vnd.jupyter.widget-view+json": {
              "model_id": "a5bb2f6d033a4c69a9d6c2ff0fe421e8",
              "version_minor": 0,
              "version_major": 2
            },
            "text/plain": [
              "HBox(children=(FloatProgress(value=0.0, max=2420.0), HTML(value='')))"
            ]
          },
          "metadata": {
            "tags": []
          }
        },
        {
          "output_type": "stream",
          "text": [
            "\n"
          ],
          "name": "stdout"
        },
        {
          "output_type": "display_data",
          "data": {
            "application/vnd.jupyter.widget-view+json": {
              "model_id": "c8f10a1b8beb4ad78065ab2e1ff38532",
              "version_minor": 0,
              "version_major": 2
            },
            "text/plain": [
              "HBox(children=(FloatProgress(value=0.0, max=484.0), HTML(value='')))"
            ]
          },
          "metadata": {
            "tags": []
          }
        },
        {
          "output_type": "stream",
          "text": [
            "\n"
          ],
          "name": "stdout"
        }
      ]
    },
    {
      "cell_type": "code",
      "metadata": {
        "colab": {
          "base_uri": "https://localhost:8080/",
          "height": 376
        },
        "id": "5Hs7Cz6RxGoz",
        "outputId": "93180b32-eb8b-497e-e070-0058aff38f60"
      },
      "source": [
        "show_random_elements(dataset_train[\"train\"].remove_columns([\"Filename\"]))\n"
      ],
      "execution_count": null,
      "outputs": [
        {
          "output_type": "display_data",
          "data": {
            "text/html": [
              "<table border=\"1\" class=\"dataframe\">\n",
              "  <thead>\n",
              "    <tr style=\"text-align: right;\">\n",
              "      <th></th>\n",
              "      <th>Text</th>\n",
              "    </tr>\n",
              "  </thead>\n",
              "  <tbody>\n",
              "    <tr>\n",
              "      <th>0</th>\n",
              "      <td>اسے 12 بیرونی حملہ آوروں نے عقل</td>\n",
              "    </tr>\n",
              "    <tr>\n",
              "      <th>1</th>\n",
              "      <td>کہ معاشرے میں قنوطیت اور مایوسی کے</td>\n",
              "    </tr>\n",
              "    <tr>\n",
              "      <th>2</th>\n",
              "      <td>کردار نگاری کے حوالے سے</td>\n",
              "    </tr>\n",
              "    <tr>\n",
              "      <th>3</th>\n",
              "      <td>ان کا تصور غم</td>\n",
              "    </tr>\n",
              "    <tr>\n",
              "      <th>4</th>\n",
              "      <td>آوازوں سے</td>\n",
              "    </tr>\n",
              "    <tr>\n",
              "      <th>5</th>\n",
              "      <td>آئندہ الیکشن</td>\n",
              "    </tr>\n",
              "    <tr>\n",
              "      <th>6</th>\n",
              "      <td>ہم</td>\n",
              "    </tr>\n",
              "    <tr>\n",
              "      <th>7</th>\n",
              "      <td>شعرائے کرام واردات قلبی کا اظہار کر دیتے</td>\n",
              "    </tr>\n",
              "    <tr>\n",
              "      <th>8</th>\n",
              "      <td>اور سونم پنجاب میں اردو</td>\n",
              "    </tr>\n",
              "    <tr>\n",
              "      <th>9</th>\n",
              "      <td>اب یہ سوال</td>\n",
              "    </tr>\n",
              "  </tbody>\n",
              "</table>"
            ],
            "text/plain": [
              "<IPython.core.display.HTML object>"
            ]
          },
          "metadata": {
            "tags": []
          }
        },
        {
          "output_type": "stream",
          "text": [
            "length of dataset: 2420\n"
          ],
          "name": "stdout"
        }
      ]
    },
    {
      "cell_type": "markdown",
      "metadata": {
        "id": "BLZVgChxxWxT"
      },
      "source": [
        "# Extract Characters"
      ]
    },
    {
      "cell_type": "code",
      "metadata": {
        "colab": {
          "base_uri": "https://localhost:8080/",
          "height": 152,
          "referenced_widgets": [
            "5142d6017b584d0eb7e5148352a70f61",
            "e4427527247147e4b18b7980bf51d153",
            "0a7dfe094ad34aeea217242bdaa91ca6",
            "0de9058197f546fc8f3f38f1c9b7fc0d",
            "bb36d676909f43499143f1ba908af104",
            "f0c75d78249a4b0bb8baa31ad83abe00",
            "6cca8908cd8b4776a741f08c8355d414",
            "0491dbb9580c4cecb07b73ddb540e620",
            "84327458d4894f32b287ebb522338cf0",
            "a6e03135c0e545e88042babec80a6615",
            "60257e01eff849d098bd948570dd2ef7",
            "b0336d1f8fc14cb0bb770cbe5d32bf5c",
            "1765d6be607e42e4a492845a503794b5",
            "01a29c8387bc46dc9ed0c1545df9fb0e",
            "78bf2bc2f82746589bf9f207d62bec03",
            "e9957c59822e409c827a3331d3405490"
          ]
        },
        "id": "xaXjnGmbxgDR",
        "outputId": "046db744-5ec0-4657-ce9b-f86ae6dbaf47"
      },
      "source": [
        "# def extract_all_chars(batch):\n",
        "#   all_text = \" \".join(batch[\"Text\"])\n",
        "#   vocab = list(set(all_text))\n",
        "#   return {\"vocab\": [vocab], \"all_text\": [all_text]}\n",
        "\n",
        "# vocabs = dataset_train.map(extract_all_chars, batched=True, batch_size=-1, keep_in_memory=True, remove_columns=dataset_train.column_names[\"train\"])\n",
        "# vocabs2 = dataset_test.map(extract_all_chars, batched=True, batch_size=-1, keep_in_memory=True, remove_columns=dataset_test.column_names[\"train\"])\n",
        "# print(vocabs['train']['vocab'])"
      ],
      "execution_count": null,
      "outputs": [
        {
          "output_type": "display_data",
          "data": {
            "application/vnd.jupyter.widget-view+json": {
              "model_id": "5142d6017b584d0eb7e5148352a70f61",
              "version_minor": 0,
              "version_major": 2
            },
            "text/plain": [
              "HBox(children=(FloatProgress(value=0.0, max=1.0), HTML(value='')))"
            ]
          },
          "metadata": {
            "tags": []
          }
        },
        {
          "output_type": "stream",
          "text": [
            "\n"
          ],
          "name": "stdout"
        },
        {
          "output_type": "display_data",
          "data": {
            "application/vnd.jupyter.widget-view+json": {
              "model_id": "84327458d4894f32b287ebb522338cf0",
              "version_minor": 0,
              "version_major": 2
            },
            "text/plain": [
              "HBox(children=(FloatProgress(value=0.0, max=1.0), HTML(value='')))"
            ]
          },
          "metadata": {
            "tags": []
          }
        },
        {
          "output_type": "stream",
          "text": [
            "\n",
            "[['4', 's', 'د', 'c', 'ق', 'ش', 'ذ', 'خ', 'ء', ' ', 'و', 'چ', 'ن', 'ر', '0', 'ٰ', '1', 'e', 'b', '5', 'ز', 'غ', 'k', 'ہ', 'ض', 'ک', 'ظ', 'ل', 'ا', 'a', '3', 'ج', 'ع', 'ۃ', 'x', 'ت', 'ئ', 'ڈ', 'ی', '7', 'ف', 'ث', '9', 'ے', 'س', 'ٹ', 'ط', 'َ', 'ؤ', 'ب', 'م', 'ں', 'گ', 'l', '2', 'آ', 'ھ', '\\u200f', 'ڑ', 'پ', 'ح', 'ص']]\n"
          ],
          "name": "stdout"
        }
      ]
    },
    {
      "cell_type": "code",
      "metadata": {
        "colab": {
          "base_uri": "https://localhost:8080/"
        },
        "id": "Z5gpCHNE6EvS",
        "outputId": "415db02b-b5e3-4c31-e511-141864cfbc8d"
      },
      "source": [
        "urdu_words = ['د', 'ق', 'ش', 'ذ', 'خ', 'ء', ' ', 'و', 'چ', 'ن', 'ر', 'ز', 'غ', 'ہ', 'ض', 'ک', 'ظ', 'ل', 'ا', 'ج', 'ع', 'ۃ', 'ت', 'ئ', 'ڈ', 'ی', 'ف', 'ث', 'ے', 'س', 'ٹ', 'ط', 'ؤ', 'ب', 'م', 'ں', 'گ', 'آ', 'ھ', 'ڑ', 'پ', 'ح', 'ص']\n",
        "\n",
        "#convert to a dictionary\n",
        "vocab_dict = {v:k for k,v in enumerate(urdu_words)}\n",
        "vocab_dict"
      ],
      "execution_count": null,
      "outputs": [
        {
          "output_type": "execute_result",
          "data": {
            "text/plain": [
              "{' ': 6,\n",
              " 'ء': 5,\n",
              " 'آ': 37,\n",
              " 'ؤ': 32,\n",
              " 'ئ': 23,\n",
              " 'ا': 18,\n",
              " 'ب': 33,\n",
              " 'ت': 22,\n",
              " 'ث': 27,\n",
              " 'ج': 19,\n",
              " 'ح': 41,\n",
              " 'خ': 4,\n",
              " 'د': 0,\n",
              " 'ذ': 3,\n",
              " 'ر': 10,\n",
              " 'ز': 11,\n",
              " 'س': 29,\n",
              " 'ش': 2,\n",
              " 'ص': 42,\n",
              " 'ض': 14,\n",
              " 'ط': 31,\n",
              " 'ظ': 16,\n",
              " 'ع': 20,\n",
              " 'غ': 12,\n",
              " 'ف': 26,\n",
              " 'ق': 1,\n",
              " 'ل': 17,\n",
              " 'م': 34,\n",
              " 'ن': 9,\n",
              " 'و': 7,\n",
              " 'ٹ': 30,\n",
              " 'پ': 40,\n",
              " 'چ': 8,\n",
              " 'ڈ': 24,\n",
              " 'ڑ': 39,\n",
              " 'ک': 15,\n",
              " 'گ': 36,\n",
              " 'ں': 35,\n",
              " 'ھ': 38,\n",
              " 'ہ': 13,\n",
              " 'ۃ': 21,\n",
              " 'ی': 25,\n",
              " 'ے': 28}"
            ]
          },
          "metadata": {
            "tags": []
          },
          "execution_count": 49
        }
      ]
    },
    {
      "cell_type": "code",
      "metadata": {
        "colab": {
          "base_uri": "https://localhost:8080/"
        },
        "id": "FQ3XL-kDGf8C",
        "outputId": "c5e1a22c-3733-4cea-dde6-a4dce52ddeba"
      },
      "source": [
        "# vocab_list = list(set(vocabs[\"train\"][\"vocab\"][0]) | set(vocabs2[\"train\"][\"vocab\"][0]))\n",
        "\n",
        "# vocab_dict = {v: k for k, v in enumerate(vocab_list)}\n",
        "# vocab_dict"
      ],
      "execution_count": null,
      "outputs": [
        {
          "output_type": "execute_result",
          "data": {
            "text/plain": [
              "{' ': 59,\n",
              " '0': 4,\n",
              " '1': 60,\n",
              " '2': 31,\n",
              " '3': 15,\n",
              " '4': 18,\n",
              " '5': 21,\n",
              " '6': 51,\n",
              " '7': 56,\n",
              " '8': 12,\n",
              " '9': 25,\n",
              " 'a': 0,\n",
              " 'b': 45,\n",
              " 'c': 10,\n",
              " 'e': 11,\n",
              " 'k': 1,\n",
              " 'l': 26,\n",
              " 's': 62,\n",
              " 'x': 16,\n",
              " 'ء': 32,\n",
              " 'آ': 27,\n",
              " 'ؤ': 22,\n",
              " 'ئ': 40,\n",
              " 'ا': 42,\n",
              " 'ب': 33,\n",
              " 'ت': 28,\n",
              " 'ث': 13,\n",
              " 'ج': 41,\n",
              " 'ح': 63,\n",
              " 'خ': 57,\n",
              " 'د': 34,\n",
              " 'ذ': 58,\n",
              " 'ر': 44,\n",
              " 'ز': 9,\n",
              " 'س': 35,\n",
              " 'ش': 52,\n",
              " 'ص': 19,\n",
              " 'ض': 48,\n",
              " 'ط': 30,\n",
              " 'ظ': 50,\n",
              " 'ع': 24,\n",
              " 'غ': 54,\n",
              " 'ف': 36,\n",
              " 'ق': 49,\n",
              " 'ل': 6,\n",
              " 'م': 20,\n",
              " 'ن': 7,\n",
              " 'و': 46,\n",
              " 'َ': 39,\n",
              " 'ٰ': 3,\n",
              " 'ٹ': 23,\n",
              " 'پ': 43,\n",
              " 'چ': 29,\n",
              " 'ڈ': 61,\n",
              " 'ڑ': 38,\n",
              " 'ک': 17,\n",
              " 'گ': 37,\n",
              " 'ں': 5,\n",
              " 'ھ': 55,\n",
              " 'ہ': 8,\n",
              " 'ۃ': 53,\n",
              " 'ی': 47,\n",
              " 'ے': 2,\n",
              " '\\u200f': 14}"
            ]
          },
          "metadata": {
            "tags": []
          },
          "execution_count": 181
        }
      ]
    },
    {
      "cell_type": "code",
      "metadata": {
        "colab": {
          "base_uri": "https://localhost:8080/"
        },
        "id": "g2jX6xATxzrp",
        "outputId": "8ad564b9-d3b4-44c5-fab7-a538143b26a3"
      },
      "source": [
        "vocab_dict[\"[UNK]\"] = len(vocab_dict)\n",
        "vocab_dict[\"[PAD]\"] = len(vocab_dict)\n",
        "print(len(vocab_dict))"
      ],
      "execution_count": null,
      "outputs": [
        {
          "output_type": "stream",
          "text": [
            "45\n"
          ],
          "name": "stdout"
        }
      ]
    },
    {
      "cell_type": "code",
      "metadata": {
        "id": "SmYOeBfnx-c-"
      },
      "source": [
        "import json\n",
        "with open('vocab.json', 'w') as vocab_file:\n",
        "    json.dump(vocab_dict, vocab_file)"
      ],
      "execution_count": null,
      "outputs": []
    },
    {
      "cell_type": "code",
      "metadata": {
        "id": "7f6UXHNbx_pT"
      },
      "source": [
        "from transformers import Wav2Vec2CTCTokenizer\n",
        "\n",
        "tokenizer = Wav2Vec2CTCTokenizer(\"./vocab.json\", unk_token=\"[UNK]\", pad_token=\"[PAD]\", word_delimiter_token=\"|\")"
      ],
      "execution_count": null,
      "outputs": []
    },
    {
      "cell_type": "markdown",
      "metadata": {
        "id": "gw4u2ebwxpSN"
      },
      "source": [
        "# Create Wav2Vec2 Feature Extractor"
      ]
    },
    {
      "cell_type": "code",
      "metadata": {
        "id": "dePwD50UxsMu"
      },
      "source": [
        "from transformers import Wav2Vec2FeatureExtractor\n",
        "\n",
        "feature_extractor = Wav2Vec2FeatureExtractor(feature_size=1, sampling_rate=16000, padding_value=0.0, do_normalize=True, return_attention_mask=True)"
      ],
      "execution_count": null,
      "outputs": []
    },
    {
      "cell_type": "code",
      "metadata": {
        "id": "ICkBWq1v0IIl"
      },
      "source": [
        "from transformers import Wav2Vec2Processor\n",
        "\n",
        "processor = Wav2Vec2Processor(feature_extractor=feature_extractor, tokenizer=tokenizer)"
      ],
      "execution_count": null,
      "outputs": []
    },
    {
      "cell_type": "code",
      "metadata": {
        "id": "7bxOe7Fx2i-a"
      },
      "source": [
        "processor.save_pretrained(\"/content/drive/MyDrive/KunFYP/wav2vec2-processor-kunfyp-urdu\")"
      ],
      "execution_count": null,
      "outputs": []
    },
    {
      "cell_type": "markdown",
      "metadata": {
        "id": "s6Id2oHu0-Ju"
      },
      "source": [
        "# Preprocess Data"
      ]
    },
    {
      "cell_type": "code",
      "metadata": {
        "colab": {
          "base_uri": "https://localhost:8080/"
        },
        "id": "2XKqndY-0Vvv",
        "outputId": "faa38cc3-287d-4726-aa3b-9e728a6621ea"
      },
      "source": [
        "print(dataset_train[\"train\"][0])"
      ],
      "execution_count": null,
      "outputs": [
        {
          "output_type": "stream",
          "text": [
            "{'Filename': 'A2.wav', 'Text': 'وہ روز صبح سکول جاتے'}\n"
          ],
          "name": "stdout"
        }
      ]
    },
    {
      "cell_type": "code",
      "metadata": {
        "colab": {
          "base_uri": "https://localhost:8080/",
          "height": 443,
          "referenced_widgets": [
            "a2a1215e30bf483689da756d65da2615",
            "177543e7001f4c818313d2e69d156bec",
            "6974bec4345b487d94d42bd8d557bda2",
            "bc07dd58d2d74c498972b91d37a776a8",
            "a99e0621b00a449da24609769fa94ad7",
            "2f806f54b6e84f90a267b05f4e0b98df",
            "55cb5e74d3a0403d94ccb8cd6f3e6598",
            "7c4a85d2c666422f9d68235300fc8c5a",
            "6f773362568a4537946f418769ad7399",
            "4bc880c8482b46ed87fe28eeafabb420",
            "882af225a9024e03b3c41b214d2ba61e",
            "0b90df7212ad40a1b47d9a485534780d",
            "dd524e7a929944638002c484593557cf",
            "cc71b1ac2dbd4656a441004d1ac3b040",
            "f3c6e467e4334fb0bf8313e630080977",
            "8fee1ebc45834a30841ccfa6dd8b945d",
            "e9e7825ebd9e4d67b521894d4534df01",
            "a5ba9d0de33649bbbfd8b105fb66ca55",
            "23480022e7474a13b0956a3d5ddb885b",
            "f79e1ca3afd04beca247a4b64165606b",
            "70e25070862c44c89cb6347fa7c33e04",
            "b998a6115cfc4dab8957a9f21e4db0bf",
            "af802409b83c4cef92a44f069f9f9756",
            "a85a39189e024e17a711e6838cf2d556",
            "04ed78d2e9ac4710a07ab3f61c91a78d",
            "766ea063628e4a6b93ccc2fb8c05fb7c",
            "7c30b95595e3409db2ef7fde03ccd1dd",
            "9e14921f03dc4b6ba06bc0d35d3c9b5c",
            "656a615931bf485eb1708b83831ebb5a",
            "f98a607ca94e4eb1b88f416f288dc2ee",
            "4d1701fc70374fd3af8947e502ca7d52",
            "ec954704bcdb4b13adab2e3e5666dd18",
            "7277337562784c66a9efaa190f031d66",
            "864b1cf708d0416eab7546385a81fa0c",
            "60fcb5989214429bae6b7bb9ee4e778b",
            "d0f76dcf6b5e48e9ad2382981116f07c",
            "73c0614a928b489490231f62e08095ad",
            "78ea6951b52b4ff491a7f85bf5ee7019",
            "f9e77642f1184a7f8625ac8998280193",
            "bf7bff0a0ce34d3782df4bca263c7ff2",
            "9e66949e8aab4c94bb729e79bf1cf7bd",
            "b1397ea6401e40929509323755a07c1a",
            "5302d79c3717427c9c40286d352f0643",
            "30f968546381446a84f4f5acfbc9409e",
            "48b22ece05c643a5bdbb95a0965d083f",
            "978710c9428c4f0a97ad514d7457fcc8",
            "aa0bd6b200c141e19d3b600f211709a7",
            "c7814276a9ae4f7ca454f60e0d512522",
            "3976730ecf964249baa7047cd9fc4c6d",
            "e04d0ae919fe4dce8c96808d23f94cab",
            "0e8be102a947417499b2f77f2164ad21",
            "4fd8b27675af489faa4ba4b2ebc7c844",
            "0d2f8311ebb44a459143f4c4b4023fac",
            "00d47e34e9c247909e2d70887abce33d",
            "7be4a50f73774bcfaa25e7495b09fa70",
            "be16fbaf8c7c473cbfd3ce627f7940fb",
            "c5dec05d11c44334abe6846ca3a7d433",
            "913cd9662fd14345b3ec3bf2ed5e9c8f",
            "1f0e22e3e9a34999af3aeb73b2c35ebd",
            "37232a38aeaa4f24b2cb4146e383fe34",
            "9bb8f1c9c59e4c2d9a30e3f848a0e3bd",
            "d6fda1ffdef54ccdb5331cf4ebd50935",
            "6f30b751b5bf45478e5b5f653d1c0c6b",
            "1811e61f5a4c4d80997c3b9ab31afb2b"
          ]
        },
        "id": "Vh5PE40N1SCD",
        "outputId": "779bb3a3-a043-47b3-ea0c-cef28390b3e1"
      },
      "source": [
        "import soundfile as sf\n",
        "import librosa\n",
        "\n",
        "def speech_file_to_array_fn(batch):\n",
        "    init_path = \"/content/drive/MyDrive/KunFYP/audio_dataset/\"\n",
        "    speech_array, sampling_rate = librosa.load(init_path + batch[\"Filename\"],sr =16000)\n",
        "    # speech_array, sampling_rate = sf.read(init_path + batch[\"Filename\"])\n",
        "    batch[\"speech\"] = speech_array\n",
        "    batch[\"sampling_rate\"] = sampling_rate\n",
        "    batch[\"target_text\"] = batch[\"Text\"]\n",
        "    return batch\n",
        "\n",
        "dataset_train = dataset_train.map(speech_file_to_array_fn, remove_columns=dataset_train.column_names[\"train\"], num_proc=4)\n",
        "dataset_test = dataset_test.map(speech_file_to_array_fn, remove_columns=dataset_test.column_names[\"train\"], num_proc=4)"
      ],
      "execution_count": null,
      "outputs": [
        {
          "output_type": "stream",
          "text": [
            "    "
          ],
          "name": "stdout"
        },
        {
          "output_type": "display_data",
          "data": {
            "application/vnd.jupyter.widget-view+json": {
              "model_id": "a2a1215e30bf483689da756d65da2615",
              "version_minor": 0,
              "version_major": 2
            },
            "text/plain": [
              "HBox(children=(FloatProgress(value=0.0, description='#0', max=605.0, style=ProgressStyle(description_width='in…"
            ]
          },
          "metadata": {
            "tags": []
          }
        },
        {
          "output_type": "display_data",
          "data": {
            "application/vnd.jupyter.widget-view+json": {
              "model_id": "6f773362568a4537946f418769ad7399",
              "version_minor": 0,
              "version_major": 2
            },
            "text/plain": [
              "HBox(children=(FloatProgress(value=0.0, description='#1', max=605.0, style=ProgressStyle(description_width='in…"
            ]
          },
          "metadata": {
            "tags": []
          }
        },
        {
          "output_type": "display_data",
          "data": {
            "application/vnd.jupyter.widget-view+json": {
              "model_id": "e9e7825ebd9e4d67b521894d4534df01",
              "version_minor": 0,
              "version_major": 2
            },
            "text/plain": [
              "HBox(children=(FloatProgress(value=0.0, description='#3', max=605.0, style=ProgressStyle(description_width='in…"
            ]
          },
          "metadata": {
            "tags": []
          }
        },
        {
          "output_type": "display_data",
          "data": {
            "application/vnd.jupyter.widget-view+json": {
              "model_id": "04ed78d2e9ac4710a07ab3f61c91a78d",
              "version_minor": 0,
              "version_major": 2
            },
            "text/plain": [
              "HBox(children=(FloatProgress(value=0.0, description='#2', max=605.0, style=ProgressStyle(description_width='in…"
            ]
          },
          "metadata": {
            "tags": []
          }
        },
        {
          "output_type": "stream",
          "text": [
            "\n",
            "\n",
            "\n",
            "\n",
            "    "
          ],
          "name": "stdout"
        },
        {
          "output_type": "display_data",
          "data": {
            "application/vnd.jupyter.widget-view+json": {
              "model_id": "7277337562784c66a9efaa190f031d66",
              "version_minor": 0,
              "version_major": 2
            },
            "text/plain": [
              "HBox(children=(FloatProgress(value=0.0, description='#1', max=121.0, style=ProgressStyle(description_width='in…"
            ]
          },
          "metadata": {
            "tags": []
          }
        },
        {
          "output_type": "display_data",
          "data": {
            "application/vnd.jupyter.widget-view+json": {
              "model_id": "9e66949e8aab4c94bb729e79bf1cf7bd",
              "version_minor": 0,
              "version_major": 2
            },
            "text/plain": [
              "HBox(children=(FloatProgress(value=0.0, description='#2', max=121.0, style=ProgressStyle(description_width='in…"
            ]
          },
          "metadata": {
            "tags": []
          }
        },
        {
          "output_type": "display_data",
          "data": {
            "application/vnd.jupyter.widget-view+json": {
              "model_id": "3976730ecf964249baa7047cd9fc4c6d",
              "version_minor": 0,
              "version_major": 2
            },
            "text/plain": [
              "HBox(children=(FloatProgress(value=0.0, description='#3', max=121.0, style=ProgressStyle(description_width='in…"
            ]
          },
          "metadata": {
            "tags": []
          }
        },
        {
          "output_type": "display_data",
          "data": {
            "application/vnd.jupyter.widget-view+json": {
              "model_id": "c5dec05d11c44334abe6846ca3a7d433",
              "version_minor": 0,
              "version_major": 2
            },
            "text/plain": [
              "HBox(children=(FloatProgress(value=0.0, description='#0', max=121.0, style=ProgressStyle(description_width='in…"
            ]
          },
          "metadata": {
            "tags": []
          }
        },
        {
          "output_type": "stream",
          "text": [
            "\n",
            "\n",
            "\n",
            "\n"
          ],
          "name": "stdout"
        }
      ]
    },
    {
      "cell_type": "code",
      "metadata": {
        "colab": {
          "base_uri": "https://localhost:8080/",
          "height": 75
        },
        "id": "o-p7jr383m89",
        "outputId": "db1e9c1a-2a20-49ad-ed15-7f55b61a8c61"
      },
      "source": [
        "import IPython.display as ipd\n",
        "import numpy as np\n",
        "import random\n",
        "\n",
        "rand_int = random.randint(0, len(dataset_train[\"train\"]))\n",
        "\n",
        "# print(dataset_train[\"train\"][0][\"speech\"])\n",
        "ipd.Audio(data=np.asarray(dataset_train[\"train\"][rand_int][\"speech\"]), autoplay=True, rate=16000)"
      ],
      "execution_count": null,
      "outputs": [
        {
          "output_type": "execute_result",
          "data": {
            "text/html": [
              "\n",
              "                <audio controls=\"controls\" autoplay=\"autoplay\">\n",
              "                    <source src=\"data:audio/wav;base64,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\" type=\"audio/wav\" />\n",
              "                    Your browser does not support the audio element.\n",
              "                </audio>\n",
              "              "
            ],
            "text/plain": [
              "<IPython.lib.display.Audio object>"
            ]
          },
          "metadata": {
            "tags": []
          },
          "execution_count": 28
        }
      ]
    },
    {
      "cell_type": "code",
      "metadata": {
        "colab": {
          "base_uri": "https://localhost:8080/"
        },
        "id": "7GGNh36C4A5g",
        "outputId": "6033d9d2-b7fe-41e2-99f0-b402237e20d5"
      },
      "source": [
        "rand_int = random.randint(0, len(dataset_train[\"train\"]))\n",
        "\n",
        "print(\"Target text:\", dataset_train[\"train\"][rand_int][\"target_text\"])\n",
        "print(\"Input array shape:\", np.asarray(dataset_train[\"train\"][rand_int][\"speech\"]).shape)\n",
        "print(\"Sampling rate:\", dataset_train[\"train\"][rand_int][\"sampling_rate\"])"
      ],
      "execution_count": null,
      "outputs": [
        {
          "output_type": "stream",
          "text": [
            "Target text: بات کریں گے\n",
            "Input array shape: (27296,)\n",
            "Sampling rate: 16000\n"
          ],
          "name": "stdout"
        }
      ]
    },
    {
      "cell_type": "code",
      "metadata": {
        "colab": {
          "base_uri": "https://localhost:8080/",
          "height": 497,
          "referenced_widgets": [
            "d98fed8f62b447e6bc681ecd7050b867",
            "122514c866a84462aee416b72814ba94",
            "c64a3db4deff45cda05509bb4df2ec2a",
            "4ff16f27bdc944eaa04b8e4cfea75bcd",
            "bc7daa5c90374c1f9ea089b113966209",
            "6a0055e9d0974508a365976009ddef12",
            "aaa0e0c91730471c998993046747a7a6",
            "b88fccb823a14a4bae447195f24fceb9",
            "2e3ee7b1bdae4a2c8bd52fbac6d0fabb",
            "ac397a749f7748fc9e043ba7e9e252a3",
            "3536182c6b0246f8a0178d93bf3914be",
            "131472994e5d4b31a9bc54f3b9578f53",
            "137e00b62e824c20884493cfcff15146",
            "c805ce6e4fb34941ac4e05caf9db9700",
            "5485f9ef43754f02abf04db6cbcf032d",
            "37e9d2974a034451b1d090c803329fca",
            "0a921a9ff43f4b5b817295f7a617f7f2",
            "85ff11656b9d4d5c86eda5afe2702e5e",
            "1c0a6dacdca3409684aba4c0c2c0d917",
            "576158b90b6e41ca8696eb6929f83a76",
            "a71da67e1ed04caa9732255407d6aa2e",
            "49c40b1de92b42ac83f63cdc216538b2",
            "421db3d0a06540839029ad70963b5048",
            "c7b1d339efc04d91883246f7ed450283",
            "d0303aed543d43cb8d63fb16d928fbf9",
            "a5af94a8e5f84edeaf185e2861c4203a",
            "39714d17c81a4a3382839f5722481b77",
            "940d9c0919834322ba394f444a7125b0",
            "828389e4fde3451e8ce64afbe9e96d52",
            "b60e0365ccb24b2f9b2e7c4e987d7335",
            "a8c9bc64b7e8452498718301d29ee1e7",
            "1a93caf192764da9a380830169dff87f",
            "1819259d8ee74574ba7e8792d3161fb6",
            "3f7d6ccbbf6e40c5916d6fd80ca69401",
            "717a64a047334ea4800fa47fe6de8038",
            "239acae3ad374609b0a97300a38dd799",
            "34e2732cab4841c0b8542124bafeb454",
            "f264fafca185471cacbacfba71d65de7",
            "f6c71fe05f0c4838b1972ec9c90ab5ab",
            "ad02010fb0524c339c3257cbda385f93",
            "2952cf9365b24d77992bd9ad2fbff916",
            "6fcfefd9733f4c07bed84ae87d153fbe",
            "adfc13a925a34c7c97d4d0fe75a02891",
            "57361bfcd6e845cf963d60bccad1ec84",
            "fc7895b9f4ee474ea0340356f7797293",
            "4aa816f8a99f433aa6dd652d1f5a3dfa",
            "c83f4f58fe10443ca44ff5748d83fe9e",
            "1d5aaedde1a642f4975cdf33bef46636",
            "989fe53d325c48d6a888700adaff07d6",
            "5c878baeef1d42a8b083e50166b745c3",
            "3c405fab571c4a749eed07f3d93f8bac",
            "937da60c5a5d403993263af2b516dec8",
            "6c476c8ae5e74d1188795193a8d71598",
            "038a844e87484038bf382ff0a336a930",
            "623ccb3be56340a3abd6d610d6cf47e1",
            "432869321453428e9e376282e663243c",
            "2c31f1be51f14af6882038305b786d07",
            "eb16135c2a55471292d6af6731340ddc",
            "2004bdf8ed2441a6b3c192181dbc9d00",
            "5fbf0336b3fe47e484f8903f82e2654d",
            "a6d7ffb1ed444c47b15cda1d3ba38558",
            "a22d8d516bc6496ca36627a3b4e99547",
            "74fd373987f94306b632cfb5db3cbd16",
            "5e2ca0cfeb7c4bf4af2411041ffabcd4"
          ]
        },
        "id": "Ma-1yhO44_k6",
        "outputId": "fde5ca0a-ea41-4065-9c80-b020670f2f35"
      },
      "source": [
        "def prepare_dataset(batch):\n",
        "    # check that all files have the correct sampling rate\n",
        "    assert (\n",
        "        len(set(batch[\"sampling_rate\"])) == 1\n",
        "    ), f\"Make sure all inputs have the same sampling rate of {processor.feature_extractor.sampling_rate}.\"\n",
        "\n",
        "    batch[\"input_values\"] = processor(batch[\"speech\"], sampling_rate=batch[\"sampling_rate\"][0]).input_values\n",
        "\n",
        "    with processor.as_target_processor():\n",
        "        batch[\"labels\"] = processor(batch[\"target_text\"]).input_ids\n",
        "    return batch\n",
        "\n",
        "dataset_prepared = dataset_train.map(prepare_dataset, remove_columns=dataset_train.column_names[\"train\"], batch_size=8, num_proc=4, batched=True)\n",
        "dataset_prepared2 = dataset_test.map(prepare_dataset, remove_columns=dataset_test.column_names[\"train\"], batch_size=8, num_proc=4, batched=True)"
      ],
      "execution_count": null,
      "outputs": [
        {
          "output_type": "stream",
          "text": [
            "/usr/local/lib/python3.7/dist-packages/numpy/core/_asarray.py:83: VisibleDeprecationWarning: Creating an ndarray from ragged nested sequences (which is a list-or-tuple of lists-or-tuples-or ndarrays with different lengths or shapes) is deprecated. If you meant to do this, you must specify 'dtype=object' when creating the ndarray\n",
            "  return array(a, dtype, copy=False, order=order)\n"
          ],
          "name": "stderr"
        },
        {
          "output_type": "stream",
          "text": [
            "    "
          ],
          "name": "stdout"
        },
        {
          "output_type": "display_data",
          "data": {
            "application/vnd.jupyter.widget-view+json": {
              "model_id": "d98fed8f62b447e6bc681ecd7050b867",
              "version_minor": 0,
              "version_major": 2
            },
            "text/plain": [
              "HBox(children=(FloatProgress(value=0.0, description='#0', max=76.0, style=ProgressStyle(description_width='ini…"
            ]
          },
          "metadata": {
            "tags": []
          }
        },
        {
          "output_type": "display_data",
          "data": {
            "application/vnd.jupyter.widget-view+json": {
              "model_id": "2e3ee7b1bdae4a2c8bd52fbac6d0fabb",
              "version_minor": 0,
              "version_major": 2
            },
            "text/plain": [
              "HBox(children=(FloatProgress(value=0.0, description='#1', max=76.0, style=ProgressStyle(description_width='ini…"
            ]
          },
          "metadata": {
            "tags": []
          }
        },
        {
          "output_type": "display_data",
          "data": {
            "application/vnd.jupyter.widget-view+json": {
              "model_id": "0a921a9ff43f4b5b817295f7a617f7f2",
              "version_minor": 0,
              "version_major": 2
            },
            "text/plain": [
              "HBox(children=(FloatProgress(value=0.0, description='#3', max=76.0, style=ProgressStyle(description_width='ini…"
            ]
          },
          "metadata": {
            "tags": []
          }
        },
        {
          "output_type": "display_data",
          "data": {
            "application/vnd.jupyter.widget-view+json": {
              "model_id": "d0303aed543d43cb8d63fb16d928fbf9",
              "version_minor": 0,
              "version_major": 2
            },
            "text/plain": [
              "HBox(children=(FloatProgress(value=0.0, description='#2', max=76.0, style=ProgressStyle(description_width='ini…"
            ]
          },
          "metadata": {
            "tags": []
          }
        },
        {
          "output_type": "stream",
          "text": [
            "\n",
            "\n",
            "\n",
            "\n",
            "    "
          ],
          "name": "stdout"
        },
        {
          "output_type": "display_data",
          "data": {
            "application/vnd.jupyter.widget-view+json": {
              "model_id": "1819259d8ee74574ba7e8792d3161fb6",
              "version_minor": 0,
              "version_major": 2
            },
            "text/plain": [
              "HBox(children=(FloatProgress(value=0.0, description='#1', max=16.0, style=ProgressStyle(description_width='ini…"
            ]
          },
          "metadata": {
            "tags": []
          }
        },
        {
          "output_type": "display_data",
          "data": {
            "application/vnd.jupyter.widget-view+json": {
              "model_id": "2952cf9365b24d77992bd9ad2fbff916",
              "version_minor": 0,
              "version_major": 2
            },
            "text/plain": [
              "HBox(children=(FloatProgress(value=0.0, description='#3', max=16.0, style=ProgressStyle(description_width='ini…"
            ]
          },
          "metadata": {
            "tags": []
          }
        },
        {
          "output_type": "display_data",
          "data": {
            "application/vnd.jupyter.widget-view+json": {
              "model_id": "989fe53d325c48d6a888700adaff07d6",
              "version_minor": 0,
              "version_major": 2
            },
            "text/plain": [
              "HBox(children=(FloatProgress(value=0.0, description='#0', max=16.0, style=ProgressStyle(description_width='ini…"
            ]
          },
          "metadata": {
            "tags": []
          }
        },
        {
          "output_type": "display_data",
          "data": {
            "application/vnd.jupyter.widget-view+json": {
              "model_id": "2c31f1be51f14af6882038305b786d07",
              "version_minor": 0,
              "version_major": 2
            },
            "text/plain": [
              "HBox(children=(FloatProgress(value=0.0, description='#2', max=16.0, style=ProgressStyle(description_width='ini…"
            ]
          },
          "metadata": {
            "tags": []
          }
        },
        {
          "output_type": "stream",
          "text": [
            "\n",
            "\n",
            "\n",
            "\n"
          ],
          "name": "stdout"
        }
      ]
    },
    {
      "cell_type": "markdown",
      "metadata": {
        "id": "QlF8XRAo5MLz"
      },
      "source": [
        "# Training and Evaluation"
      ]
    },
    {
      "cell_type": "code",
      "metadata": {
        "id": "bGjd8yMo5Lx2"
      },
      "source": [
        "import torch\n",
        "\n",
        "from dataclasses import dataclass, field\n",
        "from typing import Any, Dict, List, Optional, Union\n",
        "\n",
        "@dataclass\n",
        "class DataCollatorCTCWithPadding:\n",
        "    \"\"\"\n",
        "    Data collator that will dynamically pad the inputs received.\n",
        "    Args:\n",
        "        processor (:class:`~transformers.Wav2Vec2Processor`)\n",
        "            The processor used for proccessing the data.\n",
        "        padding (:obj:`bool`, :obj:`str` or :class:`~transformers.tokenization_utils_base.PaddingStrategy`, `optional`, defaults to :obj:`True`):\n",
        "            Select a strategy to pad the returned sequences (according to the model's padding side and padding index)\n",
        "            among:\n",
        "            * :obj:`True` or :obj:`'longest'`: Pad to the longest sequence in the batch (or no padding if only a single\n",
        "              sequence if provided).\n",
        "            * :obj:`'max_length'`: Pad to a maximum length specified with the argument :obj:`max_length` or to the\n",
        "              maximum acceptable input length for the model if that argument is not provided.\n",
        "            * :obj:`False` or :obj:`'do_not_pad'` (default): No padding (i.e., can output a batch with sequences of\n",
        "              different lengths).\n",
        "        max_length (:obj:`int`, `optional`):\n",
        "            Maximum length of the ``input_values`` of the returned list and optionally padding length (see above).\n",
        "        max_length_labels (:obj:`int`, `optional`):\n",
        "            Maximum length of the ``labels`` returned list and optionally padding length (see above).\n",
        "        pad_to_multiple_of (:obj:`int`, `optional`):\n",
        "            If set will pad the sequence to a multiple of the provided value.\n",
        "            This is especially useful to enable the use of Tensor Cores on NVIDIA hardware with compute capability >=\n",
        "            7.5 (Volta).\n",
        "    \"\"\"\n",
        "\n",
        "    processor: Wav2Vec2Processor\n",
        "    padding: Union[bool, str] = True\n",
        "    max_length: Optional[int] = None\n",
        "    max_length_labels: Optional[int] = None\n",
        "    pad_to_multiple_of: Optional[int] = None\n",
        "    pad_to_multiple_of_labels: Optional[int] = None\n",
        "\n",
        "    def __call__(self, features: List[Dict[str, Union[List[int], torch.Tensor]]]) -> Dict[str, torch.Tensor]:\n",
        "        # split inputs and labels since they have to be of different lenghts and need\n",
        "        # different padding methods\n",
        "        input_features = [{\"input_values\": feature[\"input_values\"]} for feature in features]\n",
        "        label_features = [{\"input_ids\": feature[\"labels\"]} for feature in features]\n",
        "\n",
        "        batch = self.processor.pad(\n",
        "            input_features,\n",
        "            padding=self.padding,\n",
        "            max_length=self.max_length,\n",
        "            pad_to_multiple_of=self.pad_to_multiple_of,\n",
        "            return_tensors=\"pt\",\n",
        "        )\n",
        "        with self.processor.as_target_processor():\n",
        "            labels_batch = self.processor.pad(\n",
        "                label_features,\n",
        "                padding=self.padding,\n",
        "                max_length=self.max_length_labels,\n",
        "                pad_to_multiple_of=self.pad_to_multiple_of_labels,\n",
        "                return_tensors=\"pt\",\n",
        "            )\n",
        "\n",
        "        # replace padding with -100 to ignore loss correctly\n",
        "        labels = labels_batch[\"input_ids\"].masked_fill(labels_batch.attention_mask.ne(1), -100)\n",
        "\n",
        "        batch[\"labels\"] = labels\n",
        "\n",
        "        return batch"
      ],
      "execution_count": null,
      "outputs": []
    },
    {
      "cell_type": "code",
      "metadata": {
        "id": "htVRIpBl_M-r"
      },
      "source": [
        "data_collator = DataCollatorCTCWithPadding(processor=processor, padding=True)"
      ],
      "execution_count": null,
      "outputs": []
    },
    {
      "cell_type": "code",
      "metadata": {
        "id": "a6sfKzby_Rln"
      },
      "source": [
        "wer_metric = load_metric(\"wer\")"
      ],
      "execution_count": null,
      "outputs": []
    },
    {
      "cell_type": "code",
      "metadata": {
        "id": "sSGmP5rU_WJV"
      },
      "source": [
        "def compute_metrics(pred):\n",
        "    pred_logits = pred.predictions\n",
        "    pred_ids = np.argmax(pred_logits, axis=-1)\n",
        "\n",
        "    pred.label_ids[pred.label_ids == -100] = processor.tokenizer.pad_token_id\n",
        "\n",
        "    pred_str = processor.batch_decode(pred_ids)\n",
        "    # we do not want to group tokens when computing the metrics\n",
        "    label_str = processor.batch_decode(pred.label_ids, group_tokens=False)\n",
        "\n",
        "    wer = wer_metric.compute(predictions=pred_str, references=label_str)\n",
        "\n",
        "    return {\"wer\": wer}"
      ],
      "execution_count": null,
      "outputs": []
    },
    {
      "cell_type": "code",
      "metadata": {
        "colab": {
          "base_uri": "https://localhost:8080/"
        },
        "id": "ONfSeHIvA-kJ",
        "outputId": "bc720b05-dabb-45db-c0c2-e2f38628e80b"
      },
      "source": [
        "from transformers import Wav2Vec2ForCTC\n",
        "\n",
        "model = Wav2Vec2ForCTC.from_pretrained(\n",
        "    \"facebook/wav2vec2-large-xlsr-53\",\n",
        "    attention_dropout=0.1,\n",
        "    hidden_dropout=0.1,\n",
        "    feat_proj_dropout=0.0,\n",
        "    mask_time_prob=0.05,\n",
        "    layerdrop=0.1,\n",
        "    gradient_checkpointing=True,\n",
        "    ctc_loss_reduction=\"mean\",\n",
        "    pad_token_id=processor.tokenizer.pad_token_id,\n",
        "    vocab_size=len(processor.tokenizer)\n",
        ")"
      ],
      "execution_count": null,
      "outputs": [
        {
          "output_type": "stream",
          "text": [
            "Some weights of the model checkpoint at facebook/wav2vec2-large-xlsr-53 were not used when initializing Wav2Vec2ForCTC: ['quantizer.codevectors', 'quantizer.weight_proj.weight', 'quantizer.weight_proj.bias', 'project_q.weight', 'project_q.bias', 'project_hid.weight', 'project_hid.bias']\n",
            "- This IS expected if you are initializing Wav2Vec2ForCTC from the checkpoint of a model trained on another task or with another architecture (e.g. initializing a BertForSequenceClassification model from a BertForPreTraining model).\n",
            "- This IS NOT expected if you are initializing Wav2Vec2ForCTC from the checkpoint of a model that you expect to be exactly identical (initializing a BertForSequenceClassification model from a BertForSequenceClassification model).\n",
            "Some weights of Wav2Vec2ForCTC were not initialized from the model checkpoint at facebook/wav2vec2-large-xlsr-53 and are newly initialized: ['lm_head.weight', 'lm_head.bias']\n",
            "You should probably TRAIN this model on a down-stream task to be able to use it for predictions and inference.\n"
          ],
          "name": "stderr"
        }
      ]
    },
    {
      "cell_type": "code",
      "metadata": {
        "id": "uR5f8CrLBAMQ"
      },
      "source": [
        "model.freeze_feature_extractor()"
      ],
      "execution_count": null,
      "outputs": []
    },
    {
      "cell_type": "code",
      "metadata": {
        "id": "bjnPr61LCJsR"
      },
      "source": [
        "from transformers import TrainingArguments\n",
        "\n",
        "training_args = TrainingArguments(\n",
        "  output_dir=\"/content/drive/MyDrive/KunFYP/wav2vec2-model-kunfyp-urdu\",\n",
        "  group_by_length=True,\n",
        "  per_device_train_batch_size=16,\n",
        "  gradient_accumulation_steps=2,\n",
        "  evaluation_strategy=\"steps\",\n",
        "  num_train_epochs=30,\n",
        "  save_steps=400,\n",
        "  eval_steps=400,\n",
        "  logging_steps=400,\n",
        "  learning_rate=3e-4,\n",
        "  warmup_steps=500,\n",
        "  save_total_limit=2,\n",
        ")"
      ],
      "execution_count": null,
      "outputs": []
    },
    {
      "cell_type": "code",
      "metadata": {
        "id": "Y7sn8EwECr5O"
      },
      "source": [
        "from transformers import Trainer\n",
        "\n",
        "trainer = Trainer(\n",
        "    model=model,\n",
        "    data_collator=data_collator,\n",
        "    args=training_args,\n",
        "    compute_metrics=compute_metrics,\n",
        "    train_dataset=dataset_prepared[\"train\"],\n",
        "    eval_dataset=dataset_prepared2[\"train\"],\n",
        "    tokenizer=processor.feature_extractor,\n",
        ")"
      ],
      "execution_count": null,
      "outputs": []
    },
    {
      "cell_type": "code",
      "metadata": {
        "colab": {
          "base_uri": "https://localhost:8080/"
        },
        "id": "UMImfoiYCK3L",
        "outputId": "64ea1622-dbac-4eb1-d484-9f2fff7cffa7"
      },
      "source": [
        "trainer.train()"
      ],
      "execution_count": null,
      "outputs": [
        {
          "output_type": "stream",
          "text": [
            "/usr/local/lib/python3.7/dist-packages/torch/_tensor.py:575: UserWarning: floor_divide is deprecated, and will be removed in a future version of pytorch. It currently rounds toward 0 (like the 'trunc' function NOT 'floor'). This results in incorrect rounding for negative values.\n",
            "To keep the current behavior, use torch.div(a, b, rounding_mode='trunc'), or for actual floor division, use torch.div(a, b, rounding_mode='floor'). (Triggered internally at  /pytorch/aten/src/ATen/native/BinaryOps.cpp:467.)\n",
            "  return torch.floor_divide(self, other)\n"
          ],
          "name": "stderr"
        }
      ]
    },
    {
      "cell_type": "code",
      "metadata": {
        "id": "H12I538QGsHP",
        "colab": {
          "base_uri": "https://localhost:8080/"
        },
        "outputId": "b40ab6c0-9307-4248-fffe-79465bd82e65"
      },
      "source": [
        "processor = Wav2Vec2Processor.from_pretrained(\"/content/drive/MyDrive/KunFYP/wav2vec2-processor-kunfyp-urdu\")\n",
        "model = Wav2Vec2ForCTC.from_pretrained(\"/content/drive/MyDrive/KunFYP/wav2vec2-model-kunfyp-urdu (1)/checkpoint-800\")"
      ],
      "execution_count": null,
      "outputs": [
        {
          "output_type": "stream",
          "text": [
            "Special tokens have been added in the vocabulary, make sure the associated word embedding are fine-tuned or trained.\n"
          ],
          "name": "stderr"
        }
      ]
    },
    {
      "cell_type": "code",
      "metadata": {
        "colab": {
          "base_uri": "https://localhost:8080/"
        },
        "id": "jIPsQS-XKVP3",
        "outputId": "42e12633-ad67-461c-b45b-8c4f167ca4e0"
      },
      "source": [
        "input_dict = processor(dataset_prepared2[\"train\"][\"input_values\"][0], return_tensors=\"pt\", padding=True)\n",
        "\n",
        "logits = model(input_dict.input_values).logits\n",
        "\n",
        "pred_ids = torch.argmax(logits, dim=-1)[0]"
      ],
      "execution_count": null,
      "outputs": [
        {
          "output_type": "stream",
          "text": [
            "It is strongly recommended to pass the ``sampling_rate`` argument to this function.Failing to do so can result in silent errors that might be hard to debug.\n"
          ],
          "name": "stderr"
        }
      ]
    },
    {
      "cell_type": "markdown",
      "metadata": {
        "id": "oo3kCN0KHM6t"
      },
      "source": [
        "# Predictions"
      ]
    },
    {
      "cell_type": "code",
      "metadata": {
        "colab": {
          "base_uri": "https://localhost:8080/"
        },
        "id": "pw-jRElbORXM",
        "outputId": "f03ee878-71be-4dc0-e0a6-42ff045f4034"
      },
      "source": [
        "dataset_test_transcription = load_dataset(\"csv\", data_files = [test_path])\n",
        "print(dataset_test_transcription)"
      ],
      "execution_count": null,
      "outputs": [
        {
          "output_type": "stream",
          "text": [
            "Using custom data configuration default-e36e8899f235dadb\n",
            "Reusing dataset csv (/root/.cache/huggingface/datasets/csv/default-e36e8899f235dadb/0.0.0/2a88c45fed596f9421a2e7f74ab1a3cd012ef75210a5dc1950e8d60ca8d9c66c)\n"
          ],
          "name": "stderr"
        },
        {
          "output_type": "stream",
          "text": [
            "DatasetDict({\n",
            "    train: Dataset({\n",
            "        features: ['Filename', 'Text'],\n",
            "        num_rows: 484\n",
            "    })\n",
            "})\n"
          ],
          "name": "stdout"
        }
      ]
    },
    {
      "cell_type": "code",
      "metadata": {
        "colab": {
          "base_uri": "https://localhost:8080/"
        },
        "id": "Q7_Y2YrtPSCk",
        "outputId": "0bb2db8f-45b7-47eb-ae5e-845f63466f6e"
      },
      "source": [
        "print(\"Prediction:\")\n",
        "print(processor.decode(pred_ids))\n",
        "\n",
        "print(\"\\nReference:\")\n",
        "print(dataset_test_transcription[\"train\"][\"Text\"][1].lower())"
      ],
      "execution_count": null,
      "outputs": [
        {
          "output_type": "stream",
          "text": [
            "Prediction:\n",
            "ہر[UNK]کیفییت[UNK]میں[UNK]ربتالا[UNK]کیزات[UNK]موچود[UNK]ہے\n",
            "\n",
            "Reference:\n",
            "ادبی کتاب قرار پائی ہے\n"
          ],
          "name": "stdout"
        }
      ]
    }
  ]
}